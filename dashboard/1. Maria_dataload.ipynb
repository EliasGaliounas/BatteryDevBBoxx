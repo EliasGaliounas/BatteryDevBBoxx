{
 "cells": [
  {
   "cell_type": "markdown",
   "id": "9bf0179f",
   "metadata": {},
   "source": [
    "## Create dataframe and save it as variable\n"
   ]
  },
  {
   "cell_type": "code",
   "execution_count": 1,
   "id": "1d98ff18",
   "metadata": {},
   "outputs": [],
   "source": [
    "import os\n",
    "import pandas as pd"
   ]
  },
  {
   "cell_type": "code",
   "execution_count": 2,
   "id": "060a74aa",
   "metadata": {},
   "outputs": [],
   "source": [
    "#Data from Victor\n",
    "clean_files = ['cleaned_data/all_dataset/all_dataset.parquet']\n",
    "dfs = []\n",
    "for file in clean_files:\n",
    "    dfs.append(pd.read_parquet(file))\n",
    "df = pd.concat(dfs, axis = 0)\n",
    "df.index = pd.to_datetime(df.index)\n",
    "df['state_of_charge_percent'] = df['state_of_charge_percent'].clip(0,120)"
   ]
  },
  {
   "cell_type": "code",
   "execution_count": 3,
   "id": "1207e127",
   "metadata": {},
   "outputs": [
    {
     "name": "stdout",
     "output_type": "stream",
     "text": [
      "Stored 'df' (DataFrame)\n"
     ]
    }
   ],
   "source": [
    "%store df "
   ]
  }
 ],
 "metadata": {
  "kernelspec": {
   "display_name": "Python 3",
   "language": "python",
   "name": "python3"
  },
  "language_info": {
   "codemirror_mode": {
    "name": "ipython",
    "version": 3
   },
   "file_extension": ".py",
   "mimetype": "text/x-python",
   "name": "python",
   "nbconvert_exporter": "python",
   "pygments_lexer": "ipython3",
   "version": "3.8.8"
  }
 },
 "nbformat": 4,
 "nbformat_minor": 5
}
