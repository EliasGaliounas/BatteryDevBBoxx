{
 "cells": [
  {
   "cell_type": "code",
   "execution_count": 1,
   "metadata": {
    "executionInfo": {
     "elapsed": 19,
     "status": "ok",
     "timestamp": 1648151817611,
     "user": {
      "displayName": "Maria Varini",
      "photoUrl": "https://lh3.googleusercontent.com/a/default-user=s64",
      "userId": "06932366379402429447"
     },
     "user_tz": -60
    },
    "id": "doGJkLcscQm9"
   },
   "outputs": [],
   "source": [
    "import plotly.express as px #for creating the graphs\n",
    "from jupyter_dash import JupyterDash #imports Jupyter in our project\n",
    "#2 dash dependencies are also needed\n",
    "from dash import dcc \n",
    "from dash import html #to render html components in a dash app\n",
    "from dash.dependencies import Input, Output #this is to be able to perform the callback and actually update the graphs\n",
    "import pandas as pd\n",
    "from plotly.subplots import make_subplots\n",
    "from TimeSeriesClustering import cluster"
   ]
  },
  {
   "cell_type": "code",
   "execution_count": 2,
   "metadata": {},
   "outputs": [],
   "source": [
    "ts1_df = pd.read_csv('../data/devices1.csv')\n",
    "ts2_df = pd.read_csv('../data/devices2.csv')\n",
    "ts3_df = pd.read_csv('../data/devices3.csv')\n",
    "ts4_df = pd.read_csv('../data/devices4.csv')\n",
    "data = pd.concat([ts1_df, ts2_df, ts3_df, ts4_df], axis = 0, ignore_index = True)\n",
    "\n",
    "# data = pd.read_csv('../data/devices1.csv')"
   ]
  },
  {
   "cell_type": "code",
   "execution_count": 3,
   "metadata": {
    "executionInfo": {
     "elapsed": 19,
     "status": "ok",
     "timestamp": 1648151817612,
     "user": {
      "displayName": "Maria Varini",
      "photoUrl": "https://lh3.googleusercontent.com/a/default-user=s64",
      "userId": "06932366379402429447"
     },
     "user_tz": -60
    },
    "id": "7_3RGppbdvYM"
   },
   "outputs": [],
   "source": [
    "list_var = ['battery_voltage', 'current']"
   ]
  },
  {
   "cell_type": "code",
   "execution_count": 4,
   "metadata": {
    "executionInfo": {
     "elapsed": 19,
     "status": "ok",
     "timestamp": 1648151817613,
     "user": {
      "displayName": "Maria Varini",
      "photoUrl": "https://lh3.googleusercontent.com/a/default-user=s64",
      "userId": "06932366379402429447"
     },
     "user_tz": -60
    },
    "id": "JTnP1TDwcaAv"
   },
   "outputs": [],
   "source": [
    "#Step 1: create app\n",
    "app = JupyterDash(__name__)\n",
    "app._terminate_server_for_port(\"localhost\", 8049)\n",
    "\n",
    "#Step 2: create layout\n",
    "app.layout = html.Div([\n",
    "    html.H1('Raw Data clustering'),\n",
    "    dcc.Graph(id='double-graph'),\n",
    "    dcc.Dropdown(id = 'id-dropdown',\n",
    "                 value = '1',\n",
    "                 options = [{'label': c, 'value': c} for c in data['battery_id'].unique()]),\n",
    "    dcc.Dropdown(id = 'var-dropdown',\n",
    "                 value = 'voltage',\n",
    "                 options = [{'label': a, 'value': a} for a in list_var])\n",
    "])\n",
    "\n",
    "#Step 4: callback\n",
    "#https://stackoverflow.com/questions/69725119/dash-callback-with-2-input\n",
    "@app.callback(\n",
    "    Output(component_id = 'double-graph', component_property = 'figure'),\n",
    "    [Input(component_id = 'id-dropdown', component_property = 'value'), Input(component_id = 'var-dropdown', component_property = 'value')]\n",
    ")\n",
    "\n",
    "#Step 3: plotting function\n",
    "def update_figure(selected_id, selected_var):\n",
    "    longest_series, cluster_count, labels, km, bat_df = cluster(data)\n",
    "    fig = make_subplots(rows=cluster_count, cols=1)\n",
    "    graph_id = 1\n",
    "    for label in set(labels):\n",
    "        for i in range(len(data.battery_id.unique())):\n",
    "            if(labels[i]==label):\n",
    "                fig.add_scatter(x=longest_series.index, y=bat_df[i], row=graph_id, col=1)\n",
    "        graph_id += 1\n",
    "\n",
    "    fig.update_layout(height=600, width=600)\n",
    "    return fig"
   ]
  },
  {
   "cell_type": "code",
   "execution_count": 5,
   "metadata": {
    "colab": {
     "base_uri": "https://localhost:8080/",
     "height": 53
    },
    "executionInfo": {
     "elapsed": 18,
     "status": "ok",
     "timestamp": 1648151817614,
     "user": {
      "displayName": "Maria Varini",
      "photoUrl": "https://lh3.googleusercontent.com/a/default-user=s64",
      "userId": "06932366379402429447"
     },
     "user_tz": -60
    },
    "id": "fVQ6WthPcqk-",
    "outputId": "0c8a4db9-4d30-4bc9-ec78-09d61cc812b0"
   },
   "outputs": [
    {
     "name": "stdout",
     "output_type": "stream",
     "text": [
      "Dash app running on http://127.0.0.1:8049/\n"
     ]
    }
   ],
   "source": [
    "app.run_server(debug=True, mode='external', port=8049)"
   ]
  }
 ],
 "metadata": {
  "colab": {
   "authorship_tag": "ABX9TyOLqX6XLBc9V7cOpVtTXqnr",
   "mount_file_id": "1Sy_xAwst98q5hIACNGdBMLlcqzctql_r",
   "name": "Maria_try_dobule_dropdown",
   "provenance": []
  },
  "kernelspec": {
   "display_name": "Python 3",
   "language": "python",
   "name": "python3"
  },
  "language_info": {
   "codemirror_mode": {
    "name": "ipython",
    "version": 3
   },
   "file_extension": ".py",
   "mimetype": "text/x-python",
   "name": "python",
   "nbconvert_exporter": "python",
   "pygments_lexer": "ipython3",
   "version": "3.8.8"
  }
 },
 "nbformat": 4,
 "nbformat_minor": 4
}
