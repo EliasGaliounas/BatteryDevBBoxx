{
 "cells": [
  {
   "cell_type": "code",
   "execution_count": 63,
   "id": "60ccc300",
   "metadata": {},
   "outputs": [],
   "source": [
    "#import data from Victor\n",
    "%store -r df\n",
    "df['month_name'] = df.index.month_name()\n",
    "\n",
    "#list_var_rawbox_check = ['battery_voltage', 'current_out', 'state_of_charge_percent', 'temperature', 'power_out']\n",
    "option_resampling = [{'label':'month','value':'1MS'},{'label':'day','value':'1D'}]"
   ]
  },
  {
   "cell_type": "code",
   "execution_count": 64,
   "id": "203a5795",
   "metadata": {},
   "outputs": [
    {
     "data": {
      "text/html": [
       "<div>\n",
       "<style scoped>\n",
       "    .dataframe tbody tr th:only-of-type {\n",
       "        vertical-align: middle;\n",
       "    }\n",
       "\n",
       "    .dataframe tbody tr th {\n",
       "        vertical-align: top;\n",
       "    }\n",
       "\n",
       "    .dataframe thead th {\n",
       "        text-align: right;\n",
       "    }\n",
       "</style>\n",
       "<table border=\"1\" class=\"dataframe\">\n",
       "  <thead>\n",
       "    <tr style=\"text-align: right;\">\n",
       "      <th></th>\n",
       "      <th>battery_id</th>\n",
       "      <th>battery_voltage</th>\n",
       "      <th>current</th>\n",
       "      <th>current_in</th>\n",
       "      <th>current_out</th>\n",
       "      <th>panel_voltage</th>\n",
       "      <th>state_of_charge_percent</th>\n",
       "      <th>temperature</th>\n",
       "      <th>usb_current</th>\n",
       "      <th>voltage</th>\n",
       "      <th>...</th>\n",
       "      <th>power_in</th>\n",
       "      <th>net_power_battery</th>\n",
       "      <th>other_out_current</th>\n",
       "      <th>bool_current_out</th>\n",
       "      <th>bool_current_in</th>\n",
       "      <th>hour</th>\n",
       "      <th>minutes</th>\n",
       "      <th>day_n</th>\n",
       "      <th>hour:min</th>\n",
       "      <th>month_name</th>\n",
       "    </tr>\n",
       "    <tr>\n",
       "      <th>timestamp</th>\n",
       "      <th></th>\n",
       "      <th></th>\n",
       "      <th></th>\n",
       "      <th></th>\n",
       "      <th></th>\n",
       "      <th></th>\n",
       "      <th></th>\n",
       "      <th></th>\n",
       "      <th></th>\n",
       "      <th></th>\n",
       "      <th></th>\n",
       "      <th></th>\n",
       "      <th></th>\n",
       "      <th></th>\n",
       "      <th></th>\n",
       "      <th></th>\n",
       "      <th></th>\n",
       "      <th></th>\n",
       "      <th></th>\n",
       "      <th></th>\n",
       "      <th></th>\n",
       "    </tr>\n",
       "  </thead>\n",
       "  <tbody>\n",
       "    <tr>\n",
       "      <th>2021-03-02 06:40:00</th>\n",
       "      <td>0</td>\n",
       "      <td>7.0750</td>\n",
       "      <td>-2.276</td>\n",
       "      <td>2.278</td>\n",
       "      <td>0.002</td>\n",
       "      <td>7.350</td>\n",
       "      <td>100.0</td>\n",
       "      <td>28.287938</td>\n",
       "      <td>0.002</td>\n",
       "      <td>7.280</td>\n",
       "      <td>...</td>\n",
       "      <td>16.116850</td>\n",
       "      <td>16.102700</td>\n",
       "      <td>0.000</td>\n",
       "      <td>0.0</td>\n",
       "      <td>1.0</td>\n",
       "      <td>6</td>\n",
       "      <td>40</td>\n",
       "      <td>1</td>\n",
       "      <td>6:40</td>\n",
       "      <td>March</td>\n",
       "    </tr>\n",
       "    <tr>\n",
       "      <th>2021-03-02 06:50:00</th>\n",
       "      <td>0</td>\n",
       "      <td>6.7200</td>\n",
       "      <td>0.000</td>\n",
       "      <td>0.002</td>\n",
       "      <td>0.002</td>\n",
       "      <td>0.005</td>\n",
       "      <td>102.0</td>\n",
       "      <td>27.152667</td>\n",
       "      <td>0.002</td>\n",
       "      <td>6.735</td>\n",
       "      <td>...</td>\n",
       "      <td>0.013440</td>\n",
       "      <td>0.000000</td>\n",
       "      <td>0.000</td>\n",
       "      <td>0.0</td>\n",
       "      <td>0.0</td>\n",
       "      <td>6</td>\n",
       "      <td>50</td>\n",
       "      <td>1</td>\n",
       "      <td>6:50</td>\n",
       "      <td>March</td>\n",
       "    </tr>\n",
       "    <tr>\n",
       "      <th>2021-03-02 07:00:00</th>\n",
       "      <td>0</td>\n",
       "      <td>6.7100</td>\n",
       "      <td>0.010</td>\n",
       "      <td>0.002</td>\n",
       "      <td>0.012</td>\n",
       "      <td>0.005</td>\n",
       "      <td>102.0</td>\n",
       "      <td>26.919203</td>\n",
       "      <td>0.002</td>\n",
       "      <td>6.725</td>\n",
       "      <td>...</td>\n",
       "      <td>0.013420</td>\n",
       "      <td>-0.067100</td>\n",
       "      <td>0.010</td>\n",
       "      <td>0.0</td>\n",
       "      <td>0.0</td>\n",
       "      <td>7</td>\n",
       "      <td>0</td>\n",
       "      <td>1</td>\n",
       "      <td>7:0</td>\n",
       "      <td>March</td>\n",
       "    </tr>\n",
       "    <tr>\n",
       "      <th>2021-03-02 07:10:00</th>\n",
       "      <td>0</td>\n",
       "      <td>6.7050</td>\n",
       "      <td>0.010</td>\n",
       "      <td>0.002</td>\n",
       "      <td>0.012</td>\n",
       "      <td>0.005</td>\n",
       "      <td>102.0</td>\n",
       "      <td>27.003891</td>\n",
       "      <td>0.002</td>\n",
       "      <td>6.720</td>\n",
       "      <td>...</td>\n",
       "      <td>0.013410</td>\n",
       "      <td>-0.067050</td>\n",
       "      <td>0.010</td>\n",
       "      <td>0.0</td>\n",
       "      <td>0.0</td>\n",
       "      <td>7</td>\n",
       "      <td>10</td>\n",
       "      <td>1</td>\n",
       "      <td>7:10</td>\n",
       "      <td>March</td>\n",
       "    </tr>\n",
       "    <tr>\n",
       "      <th>2021-03-02 07:20:00</th>\n",
       "      <td>0</td>\n",
       "      <td>6.7025</td>\n",
       "      <td>0.013</td>\n",
       "      <td>0.002</td>\n",
       "      <td>0.015</td>\n",
       "      <td>0.005</td>\n",
       "      <td>102.0</td>\n",
       "      <td>27.096590</td>\n",
       "      <td>0.002</td>\n",
       "      <td>6.715</td>\n",
       "      <td>...</td>\n",
       "      <td>0.013405</td>\n",
       "      <td>-0.087125</td>\n",
       "      <td>0.013</td>\n",
       "      <td>0.0</td>\n",
       "      <td>0.0</td>\n",
       "      <td>7</td>\n",
       "      <td>20</td>\n",
       "      <td>1</td>\n",
       "      <td>7:20</td>\n",
       "      <td>March</td>\n",
       "    </tr>\n",
       "  </tbody>\n",
       "</table>\n",
       "<p>5 rows × 22 columns</p>\n",
       "</div>"
      ],
      "text/plain": [
       "                     battery_id  battery_voltage  current  current_in  \\\n",
       "timestamp                                                               \n",
       "2021-03-02 06:40:00           0           7.0750   -2.276       2.278   \n",
       "2021-03-02 06:50:00           0           6.7200    0.000       0.002   \n",
       "2021-03-02 07:00:00           0           6.7100    0.010       0.002   \n",
       "2021-03-02 07:10:00           0           6.7050    0.010       0.002   \n",
       "2021-03-02 07:20:00           0           6.7025    0.013       0.002   \n",
       "\n",
       "                     current_out  panel_voltage  state_of_charge_percent  \\\n",
       "timestamp                                                                  \n",
       "2021-03-02 06:40:00        0.002          7.350                    100.0   \n",
       "2021-03-02 06:50:00        0.002          0.005                    102.0   \n",
       "2021-03-02 07:00:00        0.012          0.005                    102.0   \n",
       "2021-03-02 07:10:00        0.012          0.005                    102.0   \n",
       "2021-03-02 07:20:00        0.015          0.005                    102.0   \n",
       "\n",
       "                     temperature  usb_current  voltage  ...   power_in  \\\n",
       "timestamp                                               ...              \n",
       "2021-03-02 06:40:00    28.287938        0.002    7.280  ...  16.116850   \n",
       "2021-03-02 06:50:00    27.152667        0.002    6.735  ...   0.013440   \n",
       "2021-03-02 07:00:00    26.919203        0.002    6.725  ...   0.013420   \n",
       "2021-03-02 07:10:00    27.003891        0.002    6.720  ...   0.013410   \n",
       "2021-03-02 07:20:00    27.096590        0.002    6.715  ...   0.013405   \n",
       "\n",
       "                     net_power_battery  other_out_current  bool_current_out  \\\n",
       "timestamp                                                                     \n",
       "2021-03-02 06:40:00          16.102700              0.000               0.0   \n",
       "2021-03-02 06:50:00           0.000000              0.000               0.0   \n",
       "2021-03-02 07:00:00          -0.067100              0.010               0.0   \n",
       "2021-03-02 07:10:00          -0.067050              0.010               0.0   \n",
       "2021-03-02 07:20:00          -0.087125              0.013               0.0   \n",
       "\n",
       "                     bool_current_in  hour  minutes  day_n  hour:min  \\\n",
       "timestamp                                                              \n",
       "2021-03-02 06:40:00              1.0     6       40      1      6:40   \n",
       "2021-03-02 06:50:00              0.0     6       50      1      6:50   \n",
       "2021-03-02 07:00:00              0.0     7        0      1       7:0   \n",
       "2021-03-02 07:10:00              0.0     7       10      1      7:10   \n",
       "2021-03-02 07:20:00              0.0     7       20      1      7:20   \n",
       "\n",
       "                     month_name  \n",
       "timestamp                        \n",
       "2021-03-02 06:40:00       March  \n",
       "2021-03-02 06:50:00       March  \n",
       "2021-03-02 07:00:00       March  \n",
       "2021-03-02 07:10:00       March  \n",
       "2021-03-02 07:20:00       March  \n",
       "\n",
       "[5 rows x 22 columns]"
      ]
     },
     "execution_count": 64,
     "metadata": {},
     "output_type": "execute_result"
    }
   ],
   "source": [
    "df.head()"
   ]
  },
  {
   "cell_type": "code",
   "execution_count": 65,
   "id": "6e889f1d",
   "metadata": {},
   "outputs": [],
   "source": [
    "#import data from Elias\n",
    "import pandas as pd\n",
    "df_temp_features_clustered = pd.read_csv('df_temp_features_clustered.csv')\n",
    "df_power_features_clustered = pd.read_csv('df_power_features_clustered.csv')\n",
    "\n",
    "option_feature_type = [{'label':'Temperature features','value':'Temperature features'},\n",
    "                        {'label':'Power features','value':'Power features'}]"
   ]
  },
  {
   "cell_type": "code",
   "execution_count": null,
   "id": "dee1f76c",
   "metadata": {},
   "outputs": [],
   "source": [
    "!pip install dash-bootstrap-components\n",
    "!pip install jupyter-dash"
   ]
  },
  {
   "cell_type": "code",
   "execution_count": 28,
   "id": "f3ed1a00",
   "metadata": {},
   "outputs": [],
   "source": [
    "from jupyter_dash import JupyterDash\n",
    "from dash import dcc\n",
    "from dash import html\n",
    "from dash.dependencies import Input, Output\n",
    "import plotly.express as px\n",
    "import dash_bootstrap_components as dbc"
   ]
  },
  {
   "cell_type": "code",
   "execution_count": 160,
   "id": "941b7de3",
   "metadata": {},
   "outputs": [],
   "source": [
    "#Building the app\n",
    "app = JupyterDash(__name__, external_stylesheets = [dbc.themes.SKETCHY],\n",
    "                            meta_tags=[{'name': 'viewport',\n",
    "                            'content': 'width=device-width, initial-scale=1.0'}]) #if you want to make it adjust when the dashboard is visualized on mobile phones"
   ]
  },
  {
   "cell_type": "code",
   "execution_count": 161,
   "id": "8bff4908",
   "metadata": {},
   "outputs": [],
   "source": [
    "#Building the layout\n",
    "app.layout = dbc.Container([\n",
    "    #------------------------------------------------------------------------------------------------------------------------\n",
    "                    #Row #1: title row\n",
    "                    dbc.Row([\n",
    "                        html.H1('BBoxx Lithium-Ion Battery Field Data Challenge', className = 'text-center mb-4'),\n",
    "                        html.P('Team 22: Nicole Schauser, Victor Bossard, Etienne Beauchamp, Elias Galiounas, Maria Varini', className = 'text-center mb-4')\n",
    "                    ]), #close row 1\n",
    "    #------------------------------------------------------------------------------------------------------------------------\n",
    "                    #Row 2; sub-section title and text\n",
    "                    dbc.Row([\n",
    "                        dbc.Col([\n",
    "                      html.H2('Time series analysis', className = 'text-center mb-4'),\n",
    "                      html.P(\"A first look at the time series data provided.\", className = 'text-center mb-4'),\n",
    "                      dcc.Dropdown(id = 'var-dropdown',\n",
    "                      value = 'voltage',\n",
    "                       options = [{'label': a, 'value': a} for a in df.columns]),\n",
    "                       html.Label(['battery_id',\n",
    "                       dcc.Dropdown(id = 'id-dropdown',\n",
    "                                    value = '1',\n",
    "                                    options = [{'label': b, 'value': b} for b in df['battery_id'].unique()])\n",
    "                        ]),\n",
    "                    ], width = 12)\n",
    "                    ]), #close row 2\n",
    "     #------------------------------------------------------------------------------------------------------------------------\n",
    "                      #Row 3: time series data plots\n",
    "                    dbc.Row([\n",
    "                        #========================================================================================\n",
    "                        #Column 1 (left)\n",
    "                        dbc.Col([\n",
    "                       dcc.Graph(id= 'ts-graph'),\n",
    "                       dcc.Dropdown(id = 'resampling-dropdown',\n",
    "                                    value = '1MS',\n",
    "                                    options = option_resampling)\n",
    "                        ], \n",
    "                        width = {'size':5, 'offset': 1}), #close column 1\n",
    "                        #===========================================================================================\n",
    "                        #Column 2 (right)\n",
    "                        dbc.Col([\n",
    "                            dcc.Graph(id = 'stat-boxplot')\n",
    "                        ], \n",
    "                        width = {'size':5, 'offset': 1})\n",
    "                        ]), #close Row 3\n",
    "    #------------------------------------------------------------------------------------------------------------------------\n",
    "                    #Row 4: sub section title and text\n",
    "                    dbc.Row([\n",
    "                        dbc.Col([\n",
    "                      html.H2('Clustering analysis results', className = 'text-center mb-4'),\n",
    "                      html.P(\"Some explanation here\", className = 'text-center mb-4'),\n",
    "                      ], width = 12)\n",
    "                    ]), #close row 4\n",
    "    #-------------------------------------------------------------------------------------------------------------------------\n",
    "                    #Row 5: clustering plots\n",
    "                    dbc.Row([\n",
    "                        #=======================================================================================\n",
    "                        #Column 1\n",
    "                        dbc.Col([\n",
    "                            \n",
    "                            '''\n",
    "                             Etienne\n",
    "                            \n",
    "                            Please add here the \"dynamic\" plot with the clusters being formed.\n",
    "                            '''   \n",
    "                        ], width = 5), # close column #1\n",
    "                        #========================================================================================\n",
    "                        #Column 2\n",
    "                        dbc.Col([\n",
    "                            # '''\n",
    "                            # Elias\n",
    "                            \n",
    "                            # Please add here the heatmaps of your clustering.\n",
    "                            # ''' \n",
    "                            dcc.Graph(id= 'clustering_heatmaps'),                       \n",
    "                            dcc.Dropdown(id = 'feature-type-dropdown',\n",
    "                                value = 'Temperature features',\n",
    "                                options = option_feature_type)\n",
    "                        ], width = 5) #close column 2\n",
    "                    ]), #close Row 5\n",
    "    #------------------------------------------------------------------------------------------------------------------------\n",
    "                #Row 6: sub title and text\n",
    "                      dbc.Row([\n",
    "                        dbc.Col([\n",
    "                      html.H2('Extracting user profiles', className = 'text-center mb-4'),\n",
    "                      html.P(\"Some explanation here\", className = 'text-center mb-4'),\n",
    "                      ], width = 12)\n",
    "                    ]), #close row 6\n",
    "    #------------------------------------------------------------------------------------------------------------------------\n",
    "                #Row 7: User profile plots\n",
    "                    dbc.Row([\n",
    "                        #=======================================================================================\n",
    "                        #Column 1\n",
    "                        dbc.Col([\n",
    "                            \n",
    "                            '''\n",
    "                             Etienne\n",
    "                            \n",
    "                            Please add here the average current and voltage coming out of the clustering analysis.\n",
    "                            '''   \n",
    "                        ], width = 7), # close column #1\n",
    "                        #========================================================================================\n",
    "                        #Column 2\n",
    "                        dbc.Col([\n",
    "                                                        '''\n",
    "                             Maria\n",
    "                             \n",
    "                             Score card?\n",
    "                            '''  \n",
    "                        ], width = 5) #close column 2\n",
    "                    ]), #close Row 7\n",
    "]) #close the dbc container\n"
   ]
  },
  {
   "cell_type": "markdown",
   "id": "e34f7ff8",
   "metadata": {},
   "source": [
    "## Callbacks"
   ]
  },
  {
   "cell_type": "code",
   "execution_count": 162,
   "id": "137bb4f5",
   "metadata": {},
   "outputs": [],
   "source": [
    "#callback + function for time series plot (plot #1)\n",
    "@app.callback(\n",
    "    Output(component_id = 'ts-graph', component_property = 'figure'),\n",
    "    [\n",
    "    Input(component_id = 'id-dropdown', component_property = 'value'),\n",
    "    Input(component_id = 'var-dropdown', component_property = 'value'),\n",
    "    Input(component_id = 'resampling-dropdown', component_property = 'value'),\n",
    "    ]\n",
    ")\n",
    "\n",
    "def update_figure(selected_id, selected_var, resampling):\n",
    "    df_plot = df[df['battery_id'] == selected_id]\n",
    "    df_plot = df_plot.resample(resampling).mean()\n",
    "    line_fig = px.line(df_plot.reset_index(), x = 'timestamp', y = selected_var, title = 'Time series plot')\n",
    "    line_fig.show()\n",
    "    return line_fig"
   ]
  },
  {
   "cell_type": "code",
   "execution_count": 163,
   "id": "f15cf855",
   "metadata": {},
   "outputs": [],
   "source": [
    "#callback + function for box plot (plot #2)\n",
    "@app.callback(\n",
    "    Output(component_id = 'stat-boxplot', component_property = 'figure'),\n",
    "    [\n",
    "    Input(component_id = 'id-dropdown', component_property = 'value'),\n",
    "    Input(component_id = 'var-dropdown', component_property = 'value')\n",
    "    ]\n",
    ")\n",
    "\n",
    "def update_boxplot(selected_id, selected_var):\n",
    "    mean_per_freq = df[[selected_var,'battery_id']].groupby('battery_id').resample('1M')[selected_var].agg('mean')\n",
    "    mean_per_freq = mean_per_freq.reset_index()\n",
    "    mean_per_freq['timestamp'] = mean_per_freq['timestamp'].dt.date\n",
    "    mean_per_freq = mean_per_freq.sort_values('timestamp')\n",
    "    fig = px.box(mean_per_freq, x = 'timestamp', y = selected_var, title = 'Monthly box plot');\n",
    "    return fig"
   ]
  },
  {
   "cell_type": "code",
   "execution_count": 164,
   "id": "c2256378",
   "metadata": {},
   "outputs": [],
   "source": [
    "# import matplotlib\n",
    "# import matplotlib.pyplot as plt\n",
    "# import seaborn as sns\n",
    "# # import plotly.plotly as py"
   ]
  },
  {
   "cell_type": "code",
   "execution_count": 165,
   "id": "e47ded25",
   "metadata": {},
   "outputs": [],
   "source": [
    "#callback + function for heatmap plot (plot #4)\n",
    "@app.callback(\n",
    "    Output(component_id = 'clustering_heatmaps', component_property = 'figure'),\n",
    "    [\n",
    "    Input(component_id = 'feature-type-dropdown', component_property = 'value'),\n",
    "    ]\n",
    ")\n",
    "\n",
    "def update_boxplot(selected_feature_type):\n",
    "    if selected_feature_type == \"Temperature features\":\n",
    "        # fig, (ax1, ax2) = plt.subplots(1,2, figsize=(8,5),sharey=True, gridspec_kw={'width_ratios': [1, 20]})\n",
    "        # plt.subplots_adjust(wspace=0.05)\n",
    "        # g1 = sns.heatmap(df_temp_features_clustered.sort_values('cluster').iloc[:,-1:], annot=False, cmap='Set2', ax=ax1, cbar=False)\n",
    "        # g2 = sns.heatmap(df_temp_features_clustered.sort_values('cluster').iloc[:,:-1], annot=False, cmap='coolwarm',cbar_kws={'label': 'Temperature'}, ax=ax2)\n",
    "        # ax1.set_ylabel('Battery_id')\n",
    "        # ax2.set_title('Clusters and Temperature Features')\n",
    "\n",
    "        data = df_temp_features_clustered.sort_values('cluster').iloc[:,:-1]\n",
    "        xlabels = []\n",
    "        ylabels = []\n",
    "        for entry in data.columns.values:\n",
    "            xlabels.append(entry)\n",
    "        for entry in data.index.values:\n",
    "            ylabels.append(entry)\n",
    "        fig = px.imshow(data, labels = dict(x=\"Features\", y=\"Battery id\"), \n",
    "            x = xlabels, y = ylabels)\n",
    "        fig.update_xaxes(side=\"top\")\n",
    "        fig.show()\n",
    "        \n",
    "    # mean_per_freq = df[[selected_var,'battery_id']].groupby('battery_id').resample('1M')[selected_var].agg('mean')\n",
    "    # mean_per_freq = mean_per_freq.reset_index()\n",
    "    # mean_per_freq['timestamp'] = mean_per_freq['timestamp'].dt.date\n",
    "    # mean_per_freq = mean_per_freq.sort_values('timestamp')\n",
    "    # fig = px.box(mean_per_freq, x = 'timestamp', y = selected_var, title = 'Monthly box plot');\n",
    "    # return fig\n",
    "    return fig"
   ]
  },
  {
   "cell_type": "code",
   "execution_count": 166,
   "id": "6b54c292",
   "metadata": {},
   "outputs": [],
   "source": [
    "data = df_temp_features_clustered.sort_values('cluster').iloc[:,:-1]"
   ]
  },
  {
   "cell_type": "code",
   "execution_count": null,
   "id": "d933b1a4",
   "metadata": {},
   "outputs": [],
   "source": []
  },
  {
   "cell_type": "code",
   "execution_count": 167,
   "id": "e6f18a39",
   "metadata": {},
   "outputs": [
    {
     "data": {
      "text/plain": [
       "[99,\n",
       " 128,\n",
       " 127,\n",
       " 123,\n",
       " 118,\n",
       " 114,\n",
       " 113,\n",
       " 111,\n",
       " 108,\n",
       " 106,\n",
       " 104,\n",
       " 103,\n",
       " 101,\n",
       " 100,\n",
       " 198,\n",
       " 98,\n",
       " 96,\n",
       " 95,\n",
       " 74,\n",
       " 77,\n",
       " 78,\n",
       " 80,\n",
       " 81,\n",
       " 82,\n",
       " 132,\n",
       " 83,\n",
       " 86,\n",
       " 90,\n",
       " 91,\n",
       " 92,\n",
       " 93,\n",
       " 94,\n",
       " 85,\n",
       " 133,\n",
       " 138,\n",
       " 139,\n",
       " 175,\n",
       " 176,\n",
       " 181,\n",
       " 182,\n",
       " 183,\n",
       " 184,\n",
       " 174,\n",
       " 186,\n",
       " 188,\n",
       " 190,\n",
       " 191,\n",
       " 192,\n",
       " 194,\n",
       " 196,\n",
       " 187,\n",
       " 73,\n",
       " 172,\n",
       " 165,\n",
       " 140,\n",
       " 141,\n",
       " 146,\n",
       " 147,\n",
       " 148,\n",
       " 153,\n",
       " 169,\n",
       " 155,\n",
       " 157,\n",
       " 159,\n",
       " 160,\n",
       " 161,\n",
       " 162,\n",
       " 163,\n",
       " 156,\n",
       " 72,\n",
       " 199,\n",
       " 19,\n",
       " 56,\n",
       " 55,\n",
       " 34,\n",
       " 18,\n",
       " 52,\n",
       " 39,\n",
       " 41,\n",
       " 17,\n",
       " 50,\n",
       " 23,\n",
       " 24,\n",
       " 32,\n",
       " 46,\n",
       " 45,\n",
       " 30,\n",
       " 44,\n",
       " 22,\n",
       " 28,\n",
       " 58,\n",
       " 8,\n",
       " 38,\n",
       " 68,\n",
       " 3,\n",
       " 4,\n",
       " 37,\n",
       " 7,\n",
       " 65,\n",
       " 16,\n",
       " 29,\n",
       " 12,\n",
       " 61,\n",
       " 35,\n",
       " 40,\n",
       " 70,\n",
       " 15,\n",
       " 64,\n",
       " 130,\n",
       " 31,\n",
       " 136,\n",
       " 71,\n",
       " 151,\n",
       " 25,\n",
       " 21,\n",
       " 167,\n",
       " 173,\n",
       " 14,\n",
       " 13,\n",
       " 179,\n",
       " 11,\n",
       " 5,\n",
       " 193,\n",
       " 150,\n",
       " 126,\n",
       " 135,\n",
       " 76,\n",
       " 43,\n",
       " 54,\n",
       " 125,\n",
       " 67,\n",
       " 75,\n",
       " 116,\n",
       " 110,\n",
       " 112,\n",
       " 48,\n",
       " 62,\n",
       " 154,\n",
       " 26,\n",
       " 84,\n",
       " 20,\n",
       " 51,\n",
       " 177,\n",
       " 164,\n",
       " 168,\n",
       " 87,\n",
       " 170,\n",
       " 49,\n",
       " 105,\n",
       " 88,\n",
       " 189,\n",
       " 109,\n",
       " 122,\n",
       " 145,\n",
       " 144,\n",
       " 129,\n",
       " 171,\n",
       " 197,\n",
       " 1,\n",
       " 59,\n",
       " 60,\n",
       " 195,\n",
       " 2,\n",
       " 10,\n",
       " 6,\n",
       " 66,\n",
       " 178,\n",
       " 79,\n",
       " 180,\n",
       " 185,\n",
       " 63,\n",
       " 69,\n",
       " 9,\n",
       " 124,\n",
       " 57,\n",
       " 121,\n",
       " 120,\n",
       " 131,\n",
       " 36,\n",
       " 119,\n",
       " 134,\n",
       " 117,\n",
       " 137,\n",
       " 115,\n",
       " 33,\n",
       " 42,\n",
       " 142,\n",
       " 143,\n",
       " 149,\n",
       " 107,\n",
       " 152,\n",
       " 27,\n",
       " 47,\n",
       " 102,\n",
       " 158,\n",
       " 97,\n",
       " 53,\n",
       " 166,\n",
       " 89,\n",
       " 0]"
      ]
     },
     "execution_count": 167,
     "metadata": {},
     "output_type": "execute_result"
    }
   ],
   "source": [
    "ylabels"
   ]
  },
  {
   "cell_type": "code",
   "execution_count": 168,
   "id": "f8f2bd7a",
   "metadata": {},
   "outputs": [
    {
     "name": "stdout",
     "output_type": "stream",
     "text": [
      "Dash app running on http://127.0.0.1:1000/\n"
     ]
    },
    {
     "data": {
      "application/vnd.plotly.v1+json": {
       "config": {
        "plotlyServerURL": "https://plot.ly"
       },
       "data": [],
       "layout": {
        "legend": {
         "tracegroupgap": 0
        },
        "template": {
         "data": {
          "bar": [
           {
            "error_x": {
             "color": "#2a3f5f"
            },
            "error_y": {
             "color": "#2a3f5f"
            },
            "marker": {
             "line": {
              "color": "#E5ECF6",
              "width": 0.5
             },
             "pattern": {
              "fillmode": "overlay",
              "size": 10,
              "solidity": 0.2
             }
            },
            "type": "bar"
           }
          ],
          "barpolar": [
           {
            "marker": {
             "line": {
              "color": "#E5ECF6",
              "width": 0.5
             },
             "pattern": {
              "fillmode": "overlay",
              "size": 10,
              "solidity": 0.2
             }
            },
            "type": "barpolar"
           }
          ],
          "carpet": [
           {
            "aaxis": {
             "endlinecolor": "#2a3f5f",
             "gridcolor": "white",
             "linecolor": "white",
             "minorgridcolor": "white",
             "startlinecolor": "#2a3f5f"
            },
            "baxis": {
             "endlinecolor": "#2a3f5f",
             "gridcolor": "white",
             "linecolor": "white",
             "minorgridcolor": "white",
             "startlinecolor": "#2a3f5f"
            },
            "type": "carpet"
           }
          ],
          "choropleth": [
           {
            "colorbar": {
             "outlinewidth": 0,
             "ticks": ""
            },
            "type": "choropleth"
           }
          ],
          "contour": [
           {
            "colorbar": {
             "outlinewidth": 0,
             "ticks": ""
            },
            "colorscale": [
             [
              0,
              "#0d0887"
             ],
             [
              0.1111111111111111,
              "#46039f"
             ],
             [
              0.2222222222222222,
              "#7201a8"
             ],
             [
              0.3333333333333333,
              "#9c179e"
             ],
             [
              0.4444444444444444,
              "#bd3786"
             ],
             [
              0.5555555555555556,
              "#d8576b"
             ],
             [
              0.6666666666666666,
              "#ed7953"
             ],
             [
              0.7777777777777778,
              "#fb9f3a"
             ],
             [
              0.8888888888888888,
              "#fdca26"
             ],
             [
              1,
              "#f0f921"
             ]
            ],
            "type": "contour"
           }
          ],
          "contourcarpet": [
           {
            "colorbar": {
             "outlinewidth": 0,
             "ticks": ""
            },
            "type": "contourcarpet"
           }
          ],
          "heatmap": [
           {
            "colorbar": {
             "outlinewidth": 0,
             "ticks": ""
            },
            "colorscale": [
             [
              0,
              "#0d0887"
             ],
             [
              0.1111111111111111,
              "#46039f"
             ],
             [
              0.2222222222222222,
              "#7201a8"
             ],
             [
              0.3333333333333333,
              "#9c179e"
             ],
             [
              0.4444444444444444,
              "#bd3786"
             ],
             [
              0.5555555555555556,
              "#d8576b"
             ],
             [
              0.6666666666666666,
              "#ed7953"
             ],
             [
              0.7777777777777778,
              "#fb9f3a"
             ],
             [
              0.8888888888888888,
              "#fdca26"
             ],
             [
              1,
              "#f0f921"
             ]
            ],
            "type": "heatmap"
           }
          ],
          "heatmapgl": [
           {
            "colorbar": {
             "outlinewidth": 0,
             "ticks": ""
            },
            "colorscale": [
             [
              0,
              "#0d0887"
             ],
             [
              0.1111111111111111,
              "#46039f"
             ],
             [
              0.2222222222222222,
              "#7201a8"
             ],
             [
              0.3333333333333333,
              "#9c179e"
             ],
             [
              0.4444444444444444,
              "#bd3786"
             ],
             [
              0.5555555555555556,
              "#d8576b"
             ],
             [
              0.6666666666666666,
              "#ed7953"
             ],
             [
              0.7777777777777778,
              "#fb9f3a"
             ],
             [
              0.8888888888888888,
              "#fdca26"
             ],
             [
              1,
              "#f0f921"
             ]
            ],
            "type": "heatmapgl"
           }
          ],
          "histogram": [
           {
            "marker": {
             "pattern": {
              "fillmode": "overlay",
              "size": 10,
              "solidity": 0.2
             }
            },
            "type": "histogram"
           }
          ],
          "histogram2d": [
           {
            "colorbar": {
             "outlinewidth": 0,
             "ticks": ""
            },
            "colorscale": [
             [
              0,
              "#0d0887"
             ],
             [
              0.1111111111111111,
              "#46039f"
             ],
             [
              0.2222222222222222,
              "#7201a8"
             ],
             [
              0.3333333333333333,
              "#9c179e"
             ],
             [
              0.4444444444444444,
              "#bd3786"
             ],
             [
              0.5555555555555556,
              "#d8576b"
             ],
             [
              0.6666666666666666,
              "#ed7953"
             ],
             [
              0.7777777777777778,
              "#fb9f3a"
             ],
             [
              0.8888888888888888,
              "#fdca26"
             ],
             [
              1,
              "#f0f921"
             ]
            ],
            "type": "histogram2d"
           }
          ],
          "histogram2dcontour": [
           {
            "colorbar": {
             "outlinewidth": 0,
             "ticks": ""
            },
            "colorscale": [
             [
              0,
              "#0d0887"
             ],
             [
              0.1111111111111111,
              "#46039f"
             ],
             [
              0.2222222222222222,
              "#7201a8"
             ],
             [
              0.3333333333333333,
              "#9c179e"
             ],
             [
              0.4444444444444444,
              "#bd3786"
             ],
             [
              0.5555555555555556,
              "#d8576b"
             ],
             [
              0.6666666666666666,
              "#ed7953"
             ],
             [
              0.7777777777777778,
              "#fb9f3a"
             ],
             [
              0.8888888888888888,
              "#fdca26"
             ],
             [
              1,
              "#f0f921"
             ]
            ],
            "type": "histogram2dcontour"
           }
          ],
          "mesh3d": [
           {
            "colorbar": {
             "outlinewidth": 0,
             "ticks": ""
            },
            "type": "mesh3d"
           }
          ],
          "parcoords": [
           {
            "line": {
             "colorbar": {
              "outlinewidth": 0,
              "ticks": ""
             }
            },
            "type": "parcoords"
           }
          ],
          "pie": [
           {
            "automargin": true,
            "type": "pie"
           }
          ],
          "scatter": [
           {
            "marker": {
             "colorbar": {
              "outlinewidth": 0,
              "ticks": ""
             }
            },
            "type": "scatter"
           }
          ],
          "scatter3d": [
           {
            "line": {
             "colorbar": {
              "outlinewidth": 0,
              "ticks": ""
             }
            },
            "marker": {
             "colorbar": {
              "outlinewidth": 0,
              "ticks": ""
             }
            },
            "type": "scatter3d"
           }
          ],
          "scattercarpet": [
           {
            "marker": {
             "colorbar": {
              "outlinewidth": 0,
              "ticks": ""
             }
            },
            "type": "scattercarpet"
           }
          ],
          "scattergeo": [
           {
            "marker": {
             "colorbar": {
              "outlinewidth": 0,
              "ticks": ""
             }
            },
            "type": "scattergeo"
           }
          ],
          "scattergl": [
           {
            "marker": {
             "colorbar": {
              "outlinewidth": 0,
              "ticks": ""
             }
            },
            "type": "scattergl"
           }
          ],
          "scattermapbox": [
           {
            "marker": {
             "colorbar": {
              "outlinewidth": 0,
              "ticks": ""
             }
            },
            "type": "scattermapbox"
           }
          ],
          "scatterpolar": [
           {
            "marker": {
             "colorbar": {
              "outlinewidth": 0,
              "ticks": ""
             }
            },
            "type": "scatterpolar"
           }
          ],
          "scatterpolargl": [
           {
            "marker": {
             "colorbar": {
              "outlinewidth": 0,
              "ticks": ""
             }
            },
            "type": "scatterpolargl"
           }
          ],
          "scatterternary": [
           {
            "marker": {
             "colorbar": {
              "outlinewidth": 0,
              "ticks": ""
             }
            },
            "type": "scatterternary"
           }
          ],
          "surface": [
           {
            "colorbar": {
             "outlinewidth": 0,
             "ticks": ""
            },
            "colorscale": [
             [
              0,
              "#0d0887"
             ],
             [
              0.1111111111111111,
              "#46039f"
             ],
             [
              0.2222222222222222,
              "#7201a8"
             ],
             [
              0.3333333333333333,
              "#9c179e"
             ],
             [
              0.4444444444444444,
              "#bd3786"
             ],
             [
              0.5555555555555556,
              "#d8576b"
             ],
             [
              0.6666666666666666,
              "#ed7953"
             ],
             [
              0.7777777777777778,
              "#fb9f3a"
             ],
             [
              0.8888888888888888,
              "#fdca26"
             ],
             [
              1,
              "#f0f921"
             ]
            ],
            "type": "surface"
           }
          ],
          "table": [
           {
            "cells": {
             "fill": {
              "color": "#EBF0F8"
             },
             "line": {
              "color": "white"
             }
            },
            "header": {
             "fill": {
              "color": "#C8D4E3"
             },
             "line": {
              "color": "white"
             }
            },
            "type": "table"
           }
          ]
         },
         "layout": {
          "annotationdefaults": {
           "arrowcolor": "#2a3f5f",
           "arrowhead": 0,
           "arrowwidth": 1
          },
          "autotypenumbers": "strict",
          "coloraxis": {
           "colorbar": {
            "outlinewidth": 0,
            "ticks": ""
           }
          },
          "colorscale": {
           "diverging": [
            [
             0,
             "#8e0152"
            ],
            [
             0.1,
             "#c51b7d"
            ],
            [
             0.2,
             "#de77ae"
            ],
            [
             0.3,
             "#f1b6da"
            ],
            [
             0.4,
             "#fde0ef"
            ],
            [
             0.5,
             "#f7f7f7"
            ],
            [
             0.6,
             "#e6f5d0"
            ],
            [
             0.7,
             "#b8e186"
            ],
            [
             0.8,
             "#7fbc41"
            ],
            [
             0.9,
             "#4d9221"
            ],
            [
             1,
             "#276419"
            ]
           ],
           "sequential": [
            [
             0,
             "#0d0887"
            ],
            [
             0.1111111111111111,
             "#46039f"
            ],
            [
             0.2222222222222222,
             "#7201a8"
            ],
            [
             0.3333333333333333,
             "#9c179e"
            ],
            [
             0.4444444444444444,
             "#bd3786"
            ],
            [
             0.5555555555555556,
             "#d8576b"
            ],
            [
             0.6666666666666666,
             "#ed7953"
            ],
            [
             0.7777777777777778,
             "#fb9f3a"
            ],
            [
             0.8888888888888888,
             "#fdca26"
            ],
            [
             1,
             "#f0f921"
            ]
           ],
           "sequentialminus": [
            [
             0,
             "#0d0887"
            ],
            [
             0.1111111111111111,
             "#46039f"
            ],
            [
             0.2222222222222222,
             "#7201a8"
            ],
            [
             0.3333333333333333,
             "#9c179e"
            ],
            [
             0.4444444444444444,
             "#bd3786"
            ],
            [
             0.5555555555555556,
             "#d8576b"
            ],
            [
             0.6666666666666666,
             "#ed7953"
            ],
            [
             0.7777777777777778,
             "#fb9f3a"
            ],
            [
             0.8888888888888888,
             "#fdca26"
            ],
            [
             1,
             "#f0f921"
            ]
           ]
          },
          "colorway": [
           "#636efa",
           "#EF553B",
           "#00cc96",
           "#ab63fa",
           "#FFA15A",
           "#19d3f3",
           "#FF6692",
           "#B6E880",
           "#FF97FF",
           "#FECB52"
          ],
          "font": {
           "color": "#2a3f5f"
          },
          "geo": {
           "bgcolor": "white",
           "lakecolor": "white",
           "landcolor": "#E5ECF6",
           "showlakes": true,
           "showland": true,
           "subunitcolor": "white"
          },
          "hoverlabel": {
           "align": "left"
          },
          "hovermode": "closest",
          "mapbox": {
           "style": "light"
          },
          "paper_bgcolor": "white",
          "plot_bgcolor": "#E5ECF6",
          "polar": {
           "angularaxis": {
            "gridcolor": "white",
            "linecolor": "white",
            "ticks": ""
           },
           "bgcolor": "#E5ECF6",
           "radialaxis": {
            "gridcolor": "white",
            "linecolor": "white",
            "ticks": ""
           }
          },
          "scene": {
           "xaxis": {
            "backgroundcolor": "#E5ECF6",
            "gridcolor": "white",
            "gridwidth": 2,
            "linecolor": "white",
            "showbackground": true,
            "ticks": "",
            "zerolinecolor": "white"
           },
           "yaxis": {
            "backgroundcolor": "#E5ECF6",
            "gridcolor": "white",
            "gridwidth": 2,
            "linecolor": "white",
            "showbackground": true,
            "ticks": "",
            "zerolinecolor": "white"
           },
           "zaxis": {
            "backgroundcolor": "#E5ECF6",
            "gridcolor": "white",
            "gridwidth": 2,
            "linecolor": "white",
            "showbackground": true,
            "ticks": "",
            "zerolinecolor": "white"
           }
          },
          "shapedefaults": {
           "line": {
            "color": "#2a3f5f"
           }
          },
          "ternary": {
           "aaxis": {
            "gridcolor": "white",
            "linecolor": "white",
            "ticks": ""
           },
           "baxis": {
            "gridcolor": "white",
            "linecolor": "white",
            "ticks": ""
           },
           "bgcolor": "#E5ECF6",
           "caxis": {
            "gridcolor": "white",
            "linecolor": "white",
            "ticks": ""
           }
          },
          "title": {
           "x": 0.05
          },
          "xaxis": {
           "automargin": true,
           "gridcolor": "white",
           "linecolor": "white",
           "ticks": "",
           "title": {
            "standoff": 15
           },
           "zerolinecolor": "white",
           "zerolinewidth": 2
          },
          "yaxis": {
           "automargin": true,
           "gridcolor": "white",
           "linecolor": "white",
           "ticks": "",
           "title": {
            "standoff": 15
           },
           "zerolinecolor": "white",
           "zerolinewidth": 2
          }
         }
        },
        "title": {
         "text": "Time series plot"
        },
        "xaxis": {
         "anchor": "y",
         "domain": [
          0,
          1
         ],
         "title": {
          "text": "timestamp"
         }
        },
        "yaxis": {
         "anchor": "x",
         "domain": [
          0,
          1
         ],
         "title": {
          "text": "voltage"
         }
        }
       }
      }
     },
     "metadata": {},
     "output_type": "display_data"
    },
    {
     "data": {
      "application/vnd.plotly.v1+json": {
       "config": {
        "plotlyServerURL": "https://plot.ly"
       },
       "data": [
        {
         "coloraxis": "coloraxis",
         "hovertemplate": "Features: %{x}<br>Battery id: %{y}<br>color: %{z}<extra></extra>",
         "name": "0",
         "type": "heatmap",
         "x": [
          "0-20Soc_Tmean",
          "20-40Soc_Tmean",
          "40-60Soc_Tmean",
          "60-80Soc_Tmean",
          "80-100Soc_Tmean",
          "100-120Soc_Tmean",
          "120-140Soc_Tmean",
          "0-20Soc_Tmax",
          "20-40Soc_Tmax",
          "40-60Soc_Tmax",
          "60-80Soc_Tmax",
          "80-100Soc_Tmax",
          "100-120Soc_Tmax",
          "120-140Soc_Tmax",
          "0-20Soc_Tmin",
          "20-40Soc_Tmin",
          "40-60Soc_Tmin",
          "60-80Soc_Tmin",
          "80-100Soc_Tmin",
          "100-120Soc_Tmin",
          "120-140Soc_Tmin"
         ],
         "xaxis": "x",
         "y": [
          99,
          128,
          127,
          123,
          118,
          114,
          113,
          111,
          108,
          106,
          104,
          103,
          101,
          100,
          198,
          98,
          96,
          95,
          74,
          77,
          78,
          80,
          81,
          82,
          132,
          83,
          86,
          90,
          91,
          92,
          93,
          94,
          85,
          133,
          138,
          139,
          175,
          176,
          181,
          182,
          183,
          184,
          174,
          186,
          188,
          190,
          191,
          192,
          194,
          196,
          187,
          73,
          172,
          165,
          140,
          141,
          146,
          147,
          148,
          153,
          169,
          155,
          157,
          159,
          160,
          161,
          162,
          163,
          156,
          72,
          199,
          19,
          56,
          55,
          34,
          18,
          52,
          39,
          41,
          17,
          50,
          23,
          24,
          32,
          46,
          45,
          30,
          44,
          22,
          28,
          58,
          8,
          38,
          68,
          3,
          4,
          37,
          7,
          65,
          16,
          29,
          12,
          61,
          35,
          40,
          70,
          15,
          64,
          130,
          31,
          136,
          71,
          151,
          25,
          21,
          167,
          173,
          14,
          13,
          179,
          11,
          5,
          193,
          150,
          126,
          135,
          76,
          43,
          54,
          125,
          67,
          75,
          116,
          110,
          112,
          48,
          62,
          154,
          26,
          84,
          20,
          51,
          177,
          164,
          168,
          87,
          170,
          49,
          105,
          88,
          189,
          109,
          122,
          145,
          144,
          129,
          171,
          197,
          1,
          59,
          60,
          195,
          2,
          10,
          6,
          66,
          178,
          79,
          180,
          185,
          63,
          69,
          9,
          124,
          57,
          121,
          120,
          131,
          36,
          119,
          134,
          117,
          137,
          115,
          33,
          42,
          142,
          143,
          149,
          107,
          152,
          27,
          47,
          102,
          158,
          97,
          53,
          166,
          89,
          0
         ],
         "yaxis": "y",
         "z": [
          [
           24.518774133771934,
           25.891735693320825,
           26.340037976832885,
           27.221700233777984,
           29.080703506880816,
           29.56133898709377,
           32.029054252683856,
           25.94644083314259,
           29.814991989013496,
           30.45266651407643,
           31.21538109407186,
           32.4018310826276,
           32.02778667887388,
           33.013695517117355,
           23.6896314946212,
           23.96200503547724,
           23.607232776379035,
           24.241245136186773,
           25.432822156099792,
           26.593957427328903,
           31.36486610208286
          ],
          [
           25.52186876687185,
           26.74908311804769,
           27.685478862241133,
           28.461478734863,
           29.34504344811952,
           29.89029167813128,
           32.029054252683856,
           27.77981231403068,
           29.189745937285423,
           30.74387731746394,
           31.810482948043017,
           32.32318608377204,
           32.178850995651175,
           33.013695517117355,
           24.087891966124968,
           24.35339894712749,
           25.376516365300983,
           26.23025864042114,
           26.85740444037536,
           27.55779354543374,
           31.36486610208286
          ],
          [
           25.750853161197465,
           27.05288483517096,
           27.97267574610073,
           28.757099530009445,
           28.566724332624272,
           29.56847994015824,
           32.029054252683856,
           29.21261158159762,
           29.91760128175784,
           30.997940032043942,
           31.922636758983742,
           32.82627603570611,
           32.248157473105984,
           33.013695517117355,
           24.016136415655765,
           24.247653925383386,
           25.536690318150605,
           25.857747768368046,
           23.601739528496225,
           26.453765163653006,
           31.36486610208286
          ],
          [
           26.415156746056937,
           27.45369951151219,
           27.755921037409163,
           28.20429382971958,
           27.90004914977444,
           28.316274138773917,
           32.029054252683856,
           28.45502403295949,
           30.35934996566719,
           30.90341039139389,
           31.425085831998157,
           31.36644541084916,
           31.07841611352712,
           33.013695517117355,
           23.991577019913024,
           24.747997253376056,
           25.31540398260471,
           25.550469214923325,
           24.7676813916228,
           25.61517509727626,
           31.36486610208286
          ],
          [
           26.66119757144076,
           26.972291894074253,
           27.521706077344493,
           28.18078181948705,
           29.25884679965779,
           29.160061069069982,
           32.029054252683856,
           30.531975280384515,
           32.88146028839552,
           32.72639047837035,
           33.97573815518426,
           34.6623941405356,
           34.06225680933852,
           33.013695517117355,
           25.15884641794461,
           25.06752117189288,
           25.31471732661936,
           25.477225909819182,
           24.916456855115584,
           24.999542229343096,
           31.36486610208286
          ],
          [
           24.65690436629794,
           26.17739568951544,
           26.432936752598472,
           27.06532304920073,
           28.016198944265845,
           28.94760083669185,
           32.029054252683856,
           27.826207370107586,
           29.73376058594643,
           30.164797436484324,
           30.997940032043942,
           31.90890363927672,
           31.94293888761729,
           33.013695517117355,
           22.746738384069584,
           22.91371023117418,
           23.5542687113756,
           24.41748683909361,
           24.8180361638819,
           25.80107576104372,
           31.36486610208286
          ],
          [
           24.34957243510592,
           26.75075027834784,
           25.67145643976727,
           26.089671911567056,
           27.7860505823642,
           29.79767121405026,
           32.029054252683856,
           26.89771416972928,
           28.813458457312887,
           30.073243305104143,
           30.530350194552515,
           33.135728999771125,
           33.45859464408332,
           33.013695517117355,
           22.780079059007804,
           25.64705882352941,
           23.008125429159996,
           23.33943694209201,
           23.45387960631723,
           24.629961089494163,
           31.36486610208286
          ],
          [
           26.705755040554664,
           27.70095843807648,
           28.737899462365704,
           29.310925727936784,
           28.782409352304214,
           29.398834240901767,
           32.029054252683856,
           29.409292744335094,
           31.14282444495307,
           32.23263904783705,
           32.90645456626231,
           32.6138704509041,
           32.09512474250403,
           33.013695517117355,
           25.06752117189288,
           25.140764476997017,
           26.21652552071411,
           26.733806363012125,
           23.39473563744563,
           26.70693522545204,
           31.36486610208286
          ],
          [
           26.851681590254536,
           26.9827897516354,
           27.23238409324123,
           27.78874919690092,
           29.02069032216841,
           29.87837158560327,
           32.029054252683856,
           27.91577019913024,
           28.873884184023808,
           30.389013504234367,
           31.378255893797192,
           32.483405813687355,
           32.70464637216756,
           33.013695517117355,
           25.46614785992217,
           24.71103227283131,
           24.241245136186773,
           24.83140306706339,
           24.60517280842297,
           26.855893797207585,
           31.36486610208286
          ],
          [
           26.754481234722547,
           27.198347786612995,
           27.30814319896369,
           27.276007174193843,
           27.910742328524485,
           28.40836110110236,
           32.029054252683856,
           30.746120393682755,
           31.719890135042338,
           30.341886015106425,
           30.33417257953765,
           30.931563286793303,
           30.83772030212863,
           33.013695517117355,
           24.852964065003427,
           24.944014648661017,
           24.590318150606542,
           25.05058365758755,
           24.165712977798123,
           26.16845960173953,
           31.36486610208286
          ],
          [
           26.070003070112215,
           26.664827494736542,
           27.508475881084944,
           28.036010097861794,
           29.369962205628006,
           29.99966453113934,
           32.029054252683856,
           28.00778210116733,
           31.132661936369864,
           30.380773632410158,
           30.92799267566948,
           32.554360265506986,
           32.641153582055395,
           33.013695517117355,
           24.140535591668577,
           24.21606775005722,
           25.39024948500801,
           25.61226825360493,
           26.463721675440603,
           27.343877317463956,
           31.36486610208286
          ],
          [
           26.317825367454187,
           27.14372072792448,
           27.404990532730714,
           28.18729051435122,
           28.55376879611009,
           29.23796322716484,
           32.029054252683856,
           28.54232089723049,
           30.675303273060194,
           31.080338750286103,
           31.867704280155635,
           32.643625543602674,
           32.22247653925385,
           33.013695517117355,
           24.445593957427334,
           24.84321355001144,
           24.66056305790799,
           25.02861066605631,
           24.09311055161364,
           25.88967727168688,
           31.36486610208286
          ],
          [
           26.117712074437037,
           27.206009656616786,
           28.08518315937423,
           28.558413922371138,
           28.768478876696538,
           31.11429396014374,
           32.029054252683856,
           29.01185626001373,
           30.455939574273287,
           32.22641336690319,
           32.9709315632868,
           34.2504005493248,
           34.27219043259328,
           33.013695517117355,
           24.68619821469444,
           24.831540398260472,
           25.458228427557795,
           25.23859006637674,
           24.68070496681163,
           26.246372167544056,
           31.36486610208286
          ],
          [
           24.90633172413648,
           26.15020631512495,
           26.313963385173825,
           26.9982050260616,
           27.88075434192675,
           28.669406179916717,
           32.029054252683856,
           25.289539940489817,
           28.100251773861302,
           28.812085145342177,
           29.83978027008469,
           30.94529640650033,
           31.32689402609292,
           33.013695517117355,
           24.427580682078275,
           24.52964065003433,
           23.98937972075989,
           24.75394827191577,
           24.666971847104605,
           24.666971847104605,
           31.36486610208286
          ],
          [
           23.795140985557435,
           25.5679030990445,
           26.173475219040185,
           27.17147912722551,
           29.38660041317986,
           29.95499626820633,
           32.029054252683856,
           25.50226596475166,
           29.220462348363466,
           30.732478828107105,
           31.966124971389323,
           33.857816433966576,
           34.07699702449074,
           33.013695517117355,
           22.726619363698784,
           23.00224307621881,
           22.87285420004578,
           23.65758754863813,
           23.67132066834516,
           24.16131837949187,
           31.36486610208286
          ],
          [
           25.12482514744905,
           26.674305538328824,
           27.48063215756946,
           27.802116791273846,
           29.419850692232103,
           29.87743309532473,
           32.029054252683856,
           27.67690547035936,
           30.394781414511325,
           31.24284733348591,
           31.84824902723734,
           32.5254520485237,
           32.22247653925385,
           33.013695517117355,
           24.053101396200503,
           24.12680247196155,
           24.44341954680706,
           25.39024948500801,
           25.689860379949643,
           26.952162966353857,
           31.36486610208286
          ],
          [
           25.496936714317773,
           26.98646038158364,
           27.616790730049036,
           28.61433480994909,
           29.67918135604646,
           30.67696823838565,
           32.029054252683856,
           26.74612039368276,
           28.611306935225453,
           30.282627603570603,
           31.725795376516363,
           32.99812314030672,
           33.294575417715734,
           33.013695517117355,
           25.01716639963378,
           25.048294804303044,
           25.35161364156558,
           25.105401693751425,
           24.37116044861525,
           27.070725566491177,
           31.36486610208286
          ],
          [
           26.377812137715956,
           27.15594627895705,
           27.71820606544324,
           28.332510831588877,
           29.132026727494797,
           29.42593251572829,
           32.029054252683856,
           29.12446784161134,
           30.26692607003892,
           31.025406271458,
           31.65712977798123,
           32.30945296406502,
           32.05850308995194,
           33.013695517117355,
           23.77386129549096,
           24.70588235294117,
           25.293934538796066,
           25.73586633096818,
           25.31471732661936,
           25.99450675211719,
           31.36486610208286
          ],
          [
           24.67204974508902,
           26.22625009717456,
           26.7830380772898,
           27.461772706045743,
           28.42491325988253,
           28.63493057000264,
           32.029054252683856,
           27.535820553902507,
           29.463813229571983,
           30.04577706569009,
           31.051499198901343,
           31.421377889677263,
           31.79066147859921,
           33.013695517117355,
           23.543144884412907,
           23.643854428931107,
           24.442664225223176,
           25.02861066605631,
           24.62279697871367,
           25.971618219272145,
           31.36486610208286
          ],
          [
           24.127911912501396,
           25.987058155521545,
           26.445474237812,
           27.168682179492293,
           28.604657327540025,
           29.156491720665908,
           32.029054252683856,
           27.890043488212413,
           28.560952162966355,
           29.91760128175784,
           30.89036392767223,
           31.851682307164097,
           31.99359121080337,
           33.013695517117355,
           22.08661020828565,
           22.34314488441291,
           23.77203021286336,
           24.01400778210117,
           25.5390249485008,
           26.33433279926756,
           31.36486610208286
          ],
          [
           24.47763783308444,
           25.644439947054003,
           26.076788954204684,
           26.913191992060064,
           27.886966622510496,
           28.037557458058185,
           32.029054252683856,
           26.293064774547943,
           28.511604486152443,
           28.56209658960861,
           29.929045548180355,
           30.77134355687799,
           30.74387731746394,
           33.013695517117355,
           23.489768825818263,
           22.89411764705882,
           23.578782330052643,
           24.150720988784613,
           24.742504005493245,
           25.026482032501715,
           31.36486610208286
          ],
          [
           26.30728054206409,
           27.990045027533824,
           28.14638846272848,
           29.000173095533118,
           29.144436162779503,
           29.791584226205,
           32.029054252683856,
           30.26797894254977,
           31.160448615243748,
           30.96520943007552,
           31.98658731975279,
           32.633463035019446,
           32.16525520714124,
           33.013695517117355,
           24.88422980086976,
           25.36232547493705,
           25.68780041199359,
           26.666399633783477,
           25.052300297550925,
           26.76514076447699,
           31.36486610208286
          ],
          [
           24.34957243510592,
           27.54139182511722,
           28.24815267300159,
           28.981610305573724,
           30.052369625379512,
           30.448445597076624,
           32.029054252683856,
           26.89771416972928,
           29.6302357518883,
           30.83772030212863,
           31.881437399862666,
           33.28908216983292,
           33.318837262531474,
           33.013695517117355,
           22.780079059007804,
           25.3214465552758,
           25.22774090180819,
           25.749599450675213,
           26.044861524376287,
           26.179903868162047,
           31.36486610208286
          ],
          [
           27.044044554454253,
           28.00483901129696,
           29.102622863936865,
           29.41727117101624,
           29.456346762501244,
           29.71495775736757,
           32.029054252683856,
           30.07109178301671,
           32.27186999313345,
           33.40915541313801,
           33.61847104600595,
           33.03044174868391,
           32.750308995193414,
           33.013695517117355,
           24.661707484550245,
           24.87983520256352,
           25.99574273289082,
           25.95788509956512,
           24.11535820553902,
           26.762005035477216,
           31.36486610208286
          ],
          [
           24.34957243510592,
           27.253064212429287,
           28.096297548862253,
           28.926682476169347,
           28.87203971182273,
           29.076329680583942,
           32.029054252683856,
           26.89771416972928,
           29.20119020370793,
           30.3067063401236,
           31.40764476997024,
           31.53124284733348,
           31.229114213778885,
           33.013695517117355,
           22.780079059007804,
           25.306363012130923,
           25.747264820325015,
           26.50034332799267,
           24.90501258869307,
           26.89402609292744,
           31.36486610208286
          ],
          [
           25.941325233932066,
           26.92232499197525,
           27.07507159167436,
           27.141837341350094,
           28.17417338721957,
           29.141325963297835,
           32.029054252683856,
           27.963996337834743,
           29.036392767223617,
           30.499656672007315,
           31.113160906385904,
           31.588372625314705,
           31.75092698558021,
           33.013695517117355,
           24.722407873655303,
           24.75257495994507,
           24.96887159533073,
           24.14751659418631,
           24.665140764477,
           25.987342641336685,
           31.36486610208286
          ],
          [
           27.05644438786788,
           27.05805011217606,
           25.45974738694704,
           27.380528479477995,
           29.456955626888167,
           30.986210573680918,
           32.029054252683856,
           30.685008010986486,
           34.223620965896096,
           30.00943007553215,
           31.25575646601051,
           34.08789196612497,
           34.62806134126802,
           33.013695517117355,
           24.579720759899285,
           25.21057450217441,
           24.39963378347448,
           23.86129549095904,
           23.77203021286336,
           26.04010070954452,
           31.36486610208286
          ],
          [
           24.34957243510592,
           26.2827000799242,
           26.604308346780293,
           27.060496439382938,
           28.20680861547172,
           29.39624309788517,
           32.029054252683856,
           26.89771416972928,
           28.07635614557108,
           29.255573357747757,
           30.49347676813916,
           31.824216067750047,
           31.92291142137788,
           33.013695517117355,
           22.780079059007804,
           24.291599908445875,
           24.579995422293443,
           23.757839322499425,
           24.65655756466011,
           25.9210345616846,
           31.36486610208286
          ],
          [
           27.882636462360598,
           28.08711442125747,
           27.716671251045604,
           27.908788200482007,
           28.22648561185865,
           28.821288455573,
           32.029054252683856,
           29.260883497367825,
           31.579743648432128,
           32.21183337148089,
           30.62485694666972,
           30.86610208285649,
           30.865186541542684,
           33.013695517117355,
           27.42412451361869,
           25.66262302586404,
           25.34195468070497,
           25.52529182879377,
           25.22774090180819,
           26.27356374456396,
           31.36486610208286
          ],
          [
           26.619183825936386,
           27.85048878126582,
           28.898209423853096,
           30.312121777758133,
           29.34760952207473,
           30.386346897038205,
           32.029054252683856,
           29.507026779583423,
           30.95902952620736,
           32.9709315632868,
           33.442435339894715,
           33.813962005035485,
           33.536392767223624,
           33.013695517117355,
           24.4240329594873,
           25.06752117189288,
           26.646829938200952,
           27.189288166628515,
           24.871137560082406,
           24.83943694209201,
           31.36486610208286
          ],
          [
           26.65954723682012,
           27.74000226695818,
           28.22277043021613,
           29.70572560039793,
           29.04208082444007,
           30.3035920553794,
           35.37480637039553,
           27.518333714808893,
           31.045181963836114,
           31.4900434882124,
           32.483405813687355,
           32.865644312199585,
           32.958434424353406,
           35.41490043488212,
           26.184847791256576,
           25.303273060196844,
           25.27660791943236,
           26.61020828564888,
           24.702471961547264,
           25.52025635156786,
           35.363309681849394
          ],
          [
           24.8211268391655,
           26.26414407339624,
           26.566354235836837,
           27.457688059553067,
           27.31560987218576,
           29.413038567491977,
           32.029054252683856,
           26.702723735408554,
           28.589105058365767,
           29.73678187228198,
           30.66376745250629,
           31.78054474708169,
           31.93636987869077,
           33.013695517117355,
           22.950698100251778,
           23.239322499427782,
           23.824055848020137,
           24.692149233234147,
           24.268482490272376,
           26.159395742732883,
           31.36486610208286
          ],
          [
           24.80483338986638,
           25.41770468632374,
           25.844473366086824,
           26.6796997514207,
           27.703304660874643,
           28.079070804947214,
           32.029054252683856,
           26.860334172579524,
           28.47473105973907,
           28.732158388647296,
           30.106385900663756,
           30.95902952620736,
           31.160448615243748,
           33.013695517117355,
           23.16923781185627,
           23.15861753261616,
           23.469718471046008,
           24.36713206683452,
           24.84321355001144,
           25.47585259784848,
           31.36486610208286
          ],
          [
           27.065639563568443,
           28.454006044751896,
           28.81961474467406,
           27.019660397404383,
           27.79584309155562,
           29.888993336903045,
           32.029054252683856,
           29.02687113756008,
           31.773678187228185,
           32.89004348821243,
           33.197047379263005,
           32.84962233920807,
           32.895399404898164,
           33.013695517117355,
           25.354749370565344,
           25.82284275577935,
           26.45639734493019,
           23.848317692835906,
           23.86129549095904,
           26.02984664682993,
           31.36486610208286
          ],
          [
           26.29942954016141,
           27.204188834141704,
           27.911661177663955,
           28.14051907183168,
           29.10473768545053,
           29.78131212694544,
           32.029054252683856,
           29.30785076676586,
           30.931563286793303,
           31.83410391393911,
           32.67338063630122,
           33.28812085145344,
           33.002334630350205,
           33.013695517117355,
           24.91302357518883,
           24.085694666971843,
           25.0244907301442,
           24.53421835660334,
           25.19111924925612,
           25.9699702449073,
           31.36486610208286
          ],
          [
           25.51748146158737,
           26.811844587811088,
           27.936944760213443,
           28.47294830880365,
           27.530091085453293,
           28.33649364546792,
           32.029054252683856,
           28.28164339665828,
           30.443625543602653,
           31.50212863355457,
           32.74662394140536,
           32.67338063630122,
           32.350652323186104,
           33.013695517117355,
           23.723964293888763,
           24.03753719386588,
           25.09269855802243,
           25.15449759670405,
           23.40352483405813,
           24.29361409933624,
           31.36486610208286
          ],
          [
           25.74850014531588,
           27.126014265105947,
           27.417327669340946,
           27.42504911166159,
           27.45917497608172,
           27.366464051691487,
           32.029054252683856,
           28.39624628061342,
           30.04337376974135,
           30.62183566033417,
           30.73756008239869,
           30.70496681162737,
           30.25999084458686,
           33.013695517117355,
           24.86042572671092,
           24.89127946898604,
           25.37953765163653,
           25.289539940489817,
           24.75394827191577,
           24.98054474708171,
           31.36486610208286
          ],
          [
           24.34957243510592,
           27.051609300592567,
           27.389567059298443,
           28.1735173661805,
           29.280944914037292,
           29.747085690937556,
           32.029054252683856,
           26.89771416972928,
           29.12579537651637,
           30.368963149462104,
           31.476310368505377,
           32.4037537193866,
           32.43662165255207,
           33.013695517117355,
           22.780079059007804,
           25.0106660563058,
           25.17006179903868,
           25.67956054016938,
           23.765163653009843,
           26.95083543144884,
           31.36486610208286
          ],
          [
           26.16428785149094,
           26.2079603360521,
           26.39317620781244,
           27.020969512831304,
           29.22303540318601,
           30.31726739226426,
           32.029054252683856,
           29.64763103685053,
           31.4900434882124,
           31.158457312886217,
           31.49320210574501,
           32.984664682993824,
           33.05278095674068,
           33.013695517117355,
           23.92538338292516,
           24.01235980773633,
           23.543144884412907,
           24.375944151979866,
           24.87983520256352,
           26.445960173952848,
           31.36486610208286
          ],
          [
           25.12946233094828,
           26.291000995059417,
           26.752241226150325,
           27.694977621631864,
           27.395480974661453,
           27.351814922159225,
           32.029054252683856,
           27.01696040283817,
           28.44815747310598,
           29.63183794918746,
           30.70496681162737,
           30.334309910734724,
           29.50560769054704,
           33.013695517117355,
           23.802265964751648,
           23.658594644083315,
           24.22751201647975,
           25.033531700617992,
           24.241245136186773,
           24.26642252231632,
           31.36486610208286
          ],
          [
           24.91695125130504,
           26.788395777856135,
           27.67259576105726,
           28.01572851875732,
           28.71922077760047,
           29.59774977939566,
           33.34859235523004,
           27.83646143282216,
           30.70622568093385,
           31.94534218356602,
           32.38205539024949,
           32.58411535820555,
           32.52689402609293,
           33.34859235523004,
           23.12039368276493,
           23.503662165255204,
           24.955367360952177,
           25.339894712748915,
           24.591439688715948,
           25.842389562829027,
           33.34859235523004
          ],
          [
           25.66207975373637,
           26.41899070694544,
           27.02327158926144,
           27.824956887166746,
           27.971587175581146,
           27.75778317615573,
           32.029054252683856,
           28.313115129320213,
           29.724971389333938,
           30.984206912336923,
           31.55870908674753,
           31.28404669260699,
           30.549691004806597,
           33.013695517117355,
           22.977798123140307,
           23.3103685053788,
           24.187731746395063,
           24.77054245822843,
           25.01716639963378,
           25.198443579766536,
           31.36486610208286
          ],
          [
           26.16752781386796,
           27.5304931123431,
           27.65555219650095,
           27.70943300079781,
           28.190456473606297,
           28.825556852239945,
           32.029054252683856,
           26.561043717097725,
           29.11833371480889,
           30.255390249485004,
           30.80379949645227,
           31.58617532616158,
           31.94694438086517,
           33.013695517117355,
           25.70418860151064,
           25.44655527580681,
           25.915197985809108,
           24.56019684138247,
           24.57821011673153,
           25.452048523689623,
           31.36486610208286
          ],
          [
           25.365082402398063,
           27.0361412214419,
           26.783307056191298,
           27.06486608040035,
           27.625598927790787,
           27.620604484523945,
           34.97573433739879,
           28.040558480201437,
           29.892423895628287,
           30.15106431677729,
           30.53101396200504,
           31.224444953078493,
           30.86678873884184,
           35.08409246967269,
           24.62320897230488,
           24.668345159075308,
           24.789700160219727,
           24.84321355001144,
           24.612840466926077,
           25.287937743190664,
           34.8665140764477
          ],
          [
           26.998716165907645,
           28.581353684941863,
           29.29355384694156,
           30.127595470095848,
           30.82598096277161,
           31.338080890317336,
           32.029054252683856,
           30.431654840924693,
           32.68711375600825,
           33.60329594872969,
           34.593499656671995,
           35.19089036392766,
           34.42893110551614,
           33.013695517117355,
           25.10203707942321,
           25.400572213321126,
           26.44705882352941,
           26.90615701533531,
           24.64179446097505,
           27.003891050583647,
           31.36486610208286
          ],
          [
           25.778064462966658,
           27.317973218979187,
           28.28440326071281,
           29.172492906585727,
           30.66059172449333,
           31.25823183721385,
           32.029054252683856,
           28.914648661020827,
           30.58777752346074,
           32.170473792629906,
           33.18519111924926,
           34.13595788509957,
           34.27219043259327,
           33.013695517117355,
           23.956168459601745,
           24.41748683909361,
           25.57564660105287,
           26.008239871824216,
           26.82078278782329,
           27.92858777752346,
           31.36486610208286
          ],
          [
           25.661420039686643,
           26.72113533228983,
           27.545777308074005,
           28.41047526762864,
           28.93945246828569,
           29.492050837733142,
           32.029054252683856,
           27.322568093385204,
           28.86243991760128,
           30.28152895399404,
           31.1879148546578,
           31.65712977798123,
           31.824216067750047,
           33.013695517117355,
           24.123208972304877,
           24.537766079194324,
           24.916456855115584,
           25.62600137331196,
           25.328450446326386,
           25.749599450675213,
           31.36486610208286
          ],
          [
           24.34957243510592,
           26.93720284005885,
           27.668166526601517,
           27.758847653926296,
           28.98879425565921,
           29.78505695583276,
           32.029054252683856,
           26.89771416972928,
           28.67658503089952,
           30.2563515678645,
           30.4119935912108,
           32.27969787136645,
           32.30945296406502,
           33.013695517117355,
           22.780079059007804,
           25.705195696955823,
           26.084092469672694,
           25.165941863126573,
           25.674067292286573,
           26.074937056534665,
           31.36486610208286
          ],
          [
           26.26281250512061,
           27.769642300321745,
           28.475000233324703,
           29.08964109147049,
           30.20460717738039,
           30.85565171306273,
           32.029054252683856,
           27.991302357518883,
           30.664454108491647,
           32.10748455024034,
           33.076218814374,
           34.30615701533531,
           33.76974135957886,
           33.013695517117355,
           24.598123140306708,
           25.28484779125658,
           25.62600137331196,
           26.27832455939573,
           24.165712977798123,
           26.85303273060196,
           31.36486610208286
          ],
          [
           24.34957243510592,
           26.91625449104927,
           26.964501118364623,
           27.25778057615376,
           29.017131393342652,
           30.59869035113772,
           32.029054252683856,
           26.89771416972928,
           30.68507667658501,
           30.94575417715724,
           31.71206225680933,
           33.77855344472419,
           34.023804074158846,
           33.013695517117355,
           22.780079059007804,
           24.59700160219729,
           24.34030670634013,
           24.51819638361181,
           24.26642252231632,
           25.848020141908908,
           31.36486610208286
          ],
          [
           25.551929075962644,
           26.767571487932276,
           27.78235767188252,
           28.8523642481642,
           29.43696646574523,
           29.39561257330701,
           32.029054252683856,
           28.873884184023808,
           32.482558937972094,
           32.925154497596715,
           34.22716868848708,
           33.9436942092012,
           33.81151293202104,
           33.013695517117355,
           23.444815747310603,
           23.76058594644083,
           24.075944151979854,
           24.747653925383386,
           25.93499656672008,
           26.044861524376287,
           31.36486610208286
          ],
          [
           26.635574445673356,
           27.5062910585683,
           28.077768851827862,
           28.474361575103558,
           28.65685578642501,
           29.305831761544507,
           32.029054252683856,
           28.34122224765392,
           31.21801327534907,
           31.45021744106199,
           31.725795376516363,
           32.49713893339438,
           32.45365072098879,
           33.013695517117355,
           25.140764476997017,
           25.359922178988324,
           25.673952849622346,
           25.61226825360493,
           25.440787365529864,
           25.912680247196157,
           31.36486610208286
          ],
          [
           25.84792102886577,
           26.585541474001904,
           27.360197752630533,
           27.66429770784397,
           29.108525051907208,
           29.99149863084572,
           32.029054252683856,
           28.466010528725107,
           29.315632867933164,
           30.6464408331426,
           30.931563286793303,
           32.31000228885331,
           32.50016021972993,
           33.013695517117355,
           24.55481803616388,
           24.588921950103007,
           25.39947356374456,
           24.96681162737468,
           25.327901121538105,
           27.124971389333936,
           31.36486610208286
          ],
          [
           25.05954049240814,
           26.721697541874573,
           27.409482353257857,
           28.181144438127745,
           29.787015528426465,
           30.272403388151268,
           32.029054252683856,
           27.746120393682773,
           30.04364843213549,
           31.25658045319294,
           32.236209658960874,
           33.04053559166857,
           32.76175326161594,
           33.013695517117355,
           22.90629434653238,
           23.40352483405813,
           24.916456855115584,
           24.916456855115584,
           26.23449301899748,
           26.94250400549325,
           31.36486610208286
          ],
          [
           24.34957243510592,
           28.30668658107983,
           27.423050608192856,
           27.824868903433728,
           28.647697678478,
           28.764267378884117,
           32.029054252683856,
           26.89771416972928,
           30.50146486610208,
           30.20082398718241,
           30.60123598077362,
           30.984206912336923,
           30.888807507438766,
           33.013695517117355,
           22.780079059007804,
           26.70881208514534,
           25.28049897001602,
           25.674067292286573,
           26.21366445410848,
           26.598764019226365,
           31.36486610208286
          ],
          [
           25.10913589364202,
           26.18330526682304,
           27.18467206744368,
           27.788436499442213,
           27.620045331599403,
           28.34576183380116,
           32.029054252683856,
           27.74705882352941,
           28.47333485923552,
           30.02655069810025,
           31.04463263904783,
           31.20164797436483,
           31.96701762417028,
           33.013695517117355,
           23.819340810254072,
           23.858548867017635,
           24.8180361638819,
           25.026321812771805,
           23.13344014648661,
           23.591943236438546,
           31.36486610208286
          ],
          [
           24.58940126084819,
           26.31354200562906,
           27.01311893244048,
           27.557624284236866,
           29.071313905956828,
           30.26038480498393,
           32.029054252683856,
           27.91485465781643,
           30.67969787136644,
           31.923323414969097,
           33.01441977569239,
           33.721675440604265,
           33.721675440604265,
           33.013695517117355,
           22.173952849622346,
           22.59198901350424,
           23.721675440604265,
           23.913023575188834,
           23.54808880750744,
           25.029869535362785,
           31.36486610208286
          ],
          [
           26.013738189224743,
           27.253926134467303,
           28.413825424449747,
           29.0894051745317,
           29.14556285566609,
           28.967788612756472,
           29.538796063172345,
           29.15788509956512,
           30.83030441748684,
           32.1515220874342,
           33.32156099794004,
           32.650354772259114,
           32.12039368276494,
           29.60720988784618,
           23.6803845273518,
           23.956740672922876,
           25.39024948500801,
           25.61226825360493,
           23.80421149004348,
           25.749599450675213,
           29.470382238498512
          ],
          [
           26.175660220187147,
           27.17688852768572,
           28.073554597144494,
           28.32782236422389,
           29.076749716965917,
           29.508012517170936,
           32.029054252683856,
           28.39945067521172,
           29.953490501258862,
           31.33197528038452,
           31.6433966582742,
           32.27969787136645,
           32.06454566262303,
           33.013695517117355,
           24.21606775005722,
           24.29965667200733,
           25.272487983520254,
           25.71068894483864,
           25.99450675211719,
           26.858434424353387,
           31.36486610208286
          ],
          [
           24.67960113941373,
           26.19658072987793,
           27.040809448755763,
           27.84558873336748,
           27.46076209782541,
           27.73811562107265,
           32.029054252683856,
           27.52371252002748,
           29.5173266193637,
           30.164797436484324,
           30.62485694666972,
           30.92634470130462,
           31.253284504463256,
           33.013695517117355,
           22.845639734493016,
           23.28679331654841,
           24.441977569237824,
           24.96681162737468,
           23.847562371252017,
           24.39230945296407,
           31.36486610208286
          ],
          [
           24.53691628492224,
           26.09035256046785,
           26.592491074034168,
           27.38669596309428,
           27.61110375192644,
           28.143427224547008,
           32.029054252683856,
           25.93499656672008,
           28.100251773861302,
           29.42870222018768,
           30.43945983062485,
           30.8766308079652,
           30.947356374456387,
           33.013695517117355,
           23.465323872739763,
           23.47548638132296,
           24.378576333257044,
           24.566262302586413,
           24.0009155413138,
           24.35339894712749,
           31.36486610208286
          ],
          [
           26.3750625431823,
           25.71534022032064,
           26.18117729007828,
           26.874921859672128,
           27.732730539363587,
           27.76490455693343,
           32.029054252683856,
           28.72071412222477,
           30.37047379262988,
           29.967956054016938,
           30.35934996566719,
           30.997528038452725,
           30.88205539024948,
           33.013695517117355,
           22.408262760357065,
           22.620943007553212,
           23.183794918745704,
           23.048477912565804,
           24.07644769970245,
           23.97862211032274,
           31.36486610208286
          ],
          [
           27.526196152353496,
           27.32825467756915,
           27.084547470142635,
           27.459379403703707,
           28.369629500173733,
           28.212060868838957,
           32.029054252683856,
           28.16433966582743,
           29.32533760585946,
           30.110093842984654,
           30.920851453421832,
           31.38017853055618,
           30.83538567177844,
           33.013695517117355,
           27.19265278095673,
           25.884184023804067,
           24.140535591668577,
           24.68070496681163,
           24.717326619363703,
           25.330395971618216,
           31.36486610208286
          ],
          [
           24.88575390013765,
           26.09463621675908,
           26.472500509721616,
           27.195650019612614,
           27.283698901670636,
           27.65959174951556,
           32.029054252683856,
           27.481071183337136,
           28.906935225452035,
           29.45525291828794,
           30.220645456626222,
           30.43945983062485,
           30.29526207370107,
           33.013695517117355,
           23.891416800183112,
           23.97079423208973,
           24.51421377889677,
           24.9274433508812,
           23.76276035706111,
           24.403753719386582,
           31.36486610208286
          ],
          [
           26.3690528047942,
           27.855026983281977,
           28.641143942914063,
           28.80288587840218,
           28.99334136666527,
           28.93368277732736,
           32.029054252683856,
           28.98956282902266,
           30.4119935912108,
           31.4914168001831,
           32.60947585259786,
           31.45941863126573,
           30.65003433279927,
           33.013695517117355,
           25.10167086289769,
           25.353627832455945,
           26.58731975280384,
           26.45227740901808,
           27.003891050583647,
           27.20073243305104,
           31.36486610208286
          ],
          [
           26.0790255447567,
           26.788857480885728,
           27.288642325031606,
           28.018343353996148,
           29.26569361444681,
           29.93130461926402,
           32.029054252683856,
           27.74261844815747,
           29.73430991073472,
           31.71206225680933,
           32.8457770656901,
           33.42481116960403,
           32.97573815518426,
           33.013695517117355,
           25.444609750514992,
           24.406225680933847,
           24.692149233234147,
           24.483131151293207,
           24.54245822842756,
           26.01567864499885,
           31.36486610208286
          ],
          [
           24.757107976658613,
           25.830103790452146,
           26.51748183089921,
           27.62033811068302,
           28.35768542051179,
           28.97054231196285,
           32.029054252683856,
           27.434927901121547,
           28.52176699473564,
           30.48386358434423,
           31.680750743877304,
           31.99359121080337,
           31.881437399862666,
           33.013695517117355,
           23.258091096360715,
           23.29695582513161,
           23.907072556649123,
           24.279789425497835,
           23.451819638361176,
           24.5441062027924,
           31.36486610208286
          ],
          [
           25.70602137749456,
           26.70932092417245,
           27.230623736952484,
           27.935302755513103,
           27.593401278861943,
           27.732502483951222,
           32.029054252683856,
           27.838223849851232,
           29.468986037994966,
           30.05951018539712,
           31.135271229114213,
           30.8766308079652,
           30.6207370107576,
           33.013695517117355,
           24.54438086518654,
           24.36713206683452,
           24.70588235294117,
           25.226482032501718,
           24.98054474708171,
           25.14488441290913,
           31.36486610208286
          ],
          [
           24.52173788744642,
           25.39883945865417,
           26.50367875227461,
           26.82849237164713,
           27.489938249247896,
           27.093021614155063,
           32.029054252683856,
           27.402609292744337,
           28.06363012130923,
           29.468986037994966,
           29.95362783245593,
           30.425726710917832,
           31.421377889677263,
           33.013695517117355,
           22.88853284504464,
           23.01670862897689,
           24.291599908445875,
           24.378576333257044,
           24.829480430304407,
           24.98054474708171,
           31.36486610208286
          ],
          [
           24.34957243510592,
           25.75853101351302,
           26.371886280154136,
           27.504524622617144,
           29.911094124466857,
           30.8515458707624,
           32.029054252683856,
           26.89771416972928,
           27.777294575417724,
           29.14087891966125,
           31.135271229114213,
           33.87960631723507,
           34.039826047150385,
           33.013695517117355,
           22.780079059007804,
           24.65415426871138,
           24.02609292744336,
           23.750148775463487,
           25.202563515678648,
           25.202563515678648,
           31.36486610208286
          ],
          [
           26.767544495298683,
           27.59626556998586,
           28.169628430800604,
           28.750617825161378,
           28.815641310449735,
           28.74605716893361,
           32.029054252683856,
           29.10425726710918,
           30.554222934309905,
           31.10780498970016,
           31.50954451819637,
           31.21538109407186,
           30.783291371023104,
           33.013695517117355,
           25.297871366445406,
           25.224101625085837,
           25.550469214923325,
           26.051499198901343,
           26.40386816205081,
           26.5018310826276,
           31.36486610208286
          ],
          [
           26.27716345617727,
           27.454076995491743,
           27.705173279516828,
           28.19849243821643,
           29.958736266450096,
           29.1288092669499,
           32.029054252683856,
           29.053147173266197,
           30.4439002059968,
           31.63295948729685,
           32.24882124055849,
           32.44225223163196,
           32.01020828564888,
           33.013695517117355,
           25.386953536278323,
           25.117349507896545,
           25.00242618448158,
           25.025291828793776,
           23.27534905012588,
           26.66960402838178,
           31.36486610208286
          ],
          [
           25.70300097178725,
           27.04706892102544,
           27.758362275515434,
           28.140542394783363,
           28.40427451770753,
           28.506236714852296,
           32.029054252683856,
           27.61959258411537,
           29.61437399862669,
           30.09842069123368,
           30.75967040512701,
           31.21538109407186,
           30.89036392767223,
           33.013695517117355,
           24.95523002975509,
           24.99929045548181,
           25.74753948271916,
           25.07896543831541,
           25.5390249485008,
           25.92579537651637,
           31.36486610208286
          ],
          [
           25.663689021378232,
           26.71723785373098,
           26.23979456038872,
           26.779761802164103,
           28.50084733279656,
           29.362266047638705,
           32.029054252683856,
           28.97367818722819,
           30.848157473105967,
           30.72217898832684,
           30.901350423437837,
           32.95490959029527,
           32.98079652094301,
           33.013695517117355,
           23.44586861982147,
           23.34630350194552,
           23.583566033417256,
           24.22751201647975,
           24.69819180590524,
           25.780521858548862,
           31.36486610208286
          ],
          [
           26.542615259914907,
           26.976539406000025,
           27.60809763491101,
           28.234901804439204,
           29.34904457212778,
           29.883556358011884,
           32.029054252683856,
           29.720874341954676,
           30.09363698786907,
           30.853376058594645,
           31.79002059967955,
           32.549256122682515,
           32.43991760128176,
           33.013695517117355,
           24.25268940260929,
           24.31895170519569,
           25.624078736552978,
           25.646944380865182,
           25.89276722362096,
           26.45227740901808,
           31.36486610208286
          ],
          [
           25.749337073545547,
           27.03548305737025,
           28.000860389481733,
           28.99531751694533,
           29.292702733331257,
           30.08261217977764,
           32.029054252683856,
           28.18452735179676,
           30.006065461203924,
           31.31151293202105,
           32.45406271458,
           32.79011215381095,
           32.73710231174182,
           33.013695517117355,
           23.16163881895171,
           24.15197985809109,
           25.674067292286573,
           25.81098649576563,
           25.165941863126573,
           25.859464408331423,
           31.36486610208286
          ],
          [
           24.34957243510592,
           26.48480660279765,
           26.34526594711449,
           26.911242752906624,
           27.239955506577065,
           27.835846732035208,
           32.029054252683856,
           26.89771416972928,
           27.952414740215158,
           28.409704737926305,
           29.48043030441748,
           30.823987182421604,
           29.91760128175784,
           33.013695517117355,
           22.780079059007804,
           24.75584802014191,
           24.60517280842297,
           24.65552758068208,
           23.847562371252017,
           25.441199359121075,
           31.36486610208286
          ],
          [
           23.89931112155236,
           25.642126895098016,
           26.49271143548863,
           27.67362735286582,
           28.635293487579688,
           30.136551560423644,
           32.029054252683856,
           27.06482032501716,
           29.636530098420693,
           31.11055161364157,
           32.43975738155184,
           33.21398489356833,
           33.719913023575195,
           33.013695517117355,
           21.842526894026093,
           22.01144426642253,
           23.64797436484321,
           24.39230945296407,
           24.639848935683226,
           25.885900663767444,
           31.36486610208286
          ],
          [
           26.004857784329587,
           27.32548952784394,
           28.421786393713763,
           29.00266498395663,
           30.343194592592056,
           30.564025088877177,
           32.029054252683856,
           28.478118562600148,
           31.159349965667182,
           32.600137331197075,
           33.22167544060426,
           34.0053788052186,
           33.75371938658732,
           33.013695517117355,
           24.051270313572896,
           24.530556191348133,
           25.55294117647059,
           25.252918287937742,
           26.0563057907988,
           27.04051270313572,
           31.36486610208286
          ],
          [
           26.868656439933897,
           27.862523239716342,
           28.587580297197345,
           29.110538376849195,
           28.910477024079125,
           30.442878188216184,
           32.029054252683856,
           30.26962691691462,
           31.265644312199573,
           33.248523689631504,
           33.59807736324102,
           33.77198443579766,
           33.574364843213544,
           33.013695517117355,
           24.06710917830167,
           24.50885786221104,
           25.83428702220188,
           26.303501945525284,
           25.25131609063859,
           27.046189059281293,
           31.36486610208286
          ],
          [
           26.58268437192231,
           27.803191194810868,
           28.755769628992983,
           29.94055562239758,
           30.19314056570974,
           30.743829997373016,
           32.029054252683856,
           28.999771114671542,
           30.2563515678645,
           31.89517051956969,
           33.94818036163882,
           33.91165026321813,
           33.076218814374,
           33.013695517117355,
           24.74433508812085,
           25.328450446326386,
           26.3080338750286,
           27.125886930647734,
           24.91256580453193,
           25.47154955367361,
           31.36486610208286
          ],
          [
           24.45129058765747,
           25.874207747672436,
           26.664734591318545,
           27.677896499804543,
           29.38766909000915,
           29.812407105472182,
           32.029054252683856,
           26.46472877088578,
           28.48239871824216,
           29.995422293430988,
           31.145571068894476,
           32.75046921492333,
           32.552437628747995,
           33.013695517117355,
           22.51993591210804,
           23.41496910048066,
           24.26642252231632,
           24.99198901350424,
           25.87319752803845,
           26.39208056763561,
           31.36486610208286
          ],
          [
           25.48674049598895,
           26.678252437796303,
           27.79350445995068,
           28.671111905522668,
           29.10902973532076,
           29.9241174085393,
           32.029054252683856,
           28.58033875028611,
           31.270313572899965,
           32.394140535591674,
           33.34804303044176,
           34.1165712977798,
           34.266422522316326,
           33.013695517117355,
           22.991416800183103,
           23.20897230487526,
           24.19604028381781,
           25.179674982833603,
           23.59349965667201,
           25.030258640421152,
           31.36486610208286
          ],
          [
           26.779573295366507,
           27.41931952659016,
           27.884820647136653,
           28.30495718668801,
           28.420697094455925,
           28.25479553275302,
           32.029054252683856,
           29.93444724193179,
           30.67090867475394,
           31.65712977798123,
           32.54062714579996,
           31.82229343099107,
           31.05287251087205,
           33.013695517117355,
           24.666971847104605,
           24.692149233234147,
           25.06752117189288,
           25.104142824444946,
           25.51384756237125,
           25.550469214923325,
           31.36486610208286
          ],
          [
           24.34957243510592,
           27.742625448968173,
           27.693260290915013,
           27.84509782388669,
           28.396359909291213,
           28.506463370846472,
           32.029054252683856,
           26.89771416972928,
           29.691599908445863,
           29.889402609292738,
           30.2563515678645,
           30.972762645914383,
           30.712634470130464,
           33.013695517117355,
           22.780079059007804,
           26.51673151750972,
           25.638704509040966,
           25.376516365300983,
           25.27157244220645,
           25.946440833142592,
           31.36486610208286
          ],
          [
           26.114087535744467,
           27.253940359541417,
           28.438324678621388,
           28.790590711097867,
           28.82557554122336,
           29.31228891448116,
           32.029054252683856,
           29.918860151064315,
           29.657450217441045,
           31.56997024490729,
           32.44541084916457,
           32.9709315632868,
           33.10597390707257,
           33.013695517117355,
           23.643854428931107,
           24.063538567177854,
           25.93499656672008,
           24.837720302128627,
           24.35339894712749,
           24.46262302586404,
           31.36486610208286
          ],
          [
           26.507187608562013,
           27.71323657308364,
           27.345705029373303,
           27.334227543894425,
           27.935506450320556,
           28.186641195593765,
           32.029054252683856,
           29.430258640421147,
           32.187411306935246,
           31.110551613641565,
           31.19052414740213,
           31.783016708628963,
           31.783016708628963,
           33.013695517117355,
           25.82460517280842,
           24.78731975280384,
           23.626916914625767,
           24.174982833600367,
           24.265049210345616,
           25.49581139848935,
           31.36486610208286
          ],
          [
           24.73848032963604,
           26.097041200765403,
           26.564028766041137,
           27.210822701582547,
           28.21078415648067,
           28.440428189164177,
           32.029054252683856,
           26.120851453421835,
           27.98118562600138,
           29.37972075989929,
           30.326756694895856,
           30.79707026779583,
           30.78452735179674,
           33.013695517117355,
           23.71892881666286,
           23.84303044174869,
           24.643579766536963,
           25.00558480201419,
           25.57564660105287,
           26.08203250171664,
           31.36486610208286
          ],
          [
           25.067620284678263,
           26.07013691623678,
           26.66298934983056,
           27.76973281791397,
           28.836802655109118,
           29.209703764609188,
           32.029054252683856,
           26.439185168230715,
           28.49260700389104,
           29.859693293659863,
           31.14671549553673,
           31.867704280155635,
           31.872373540856028,
           33.013695517117355,
           24.212451361867704,
           24.051270313572896,
           24.39230945296407,
           25.09269855802243,
           25.762302586404207,
           26.340123598077355,
           31.36486610208286
          ],
          [
           24.34957243510592,
           26.08470076589276,
           26.421864356054435,
           27.086175682991843,
           29.103235614240976,
           29.730969386518243,
           32.029054252683856,
           26.89771416972928,
           28.02856488899062,
           28.917372396429386,
           30.209430075532158,
           31.95239185168229,
           32.019409475852584,
           33.013695517117355,
           22.780079059007804,
           23.895284962233927,
           24.3030441748684,
           24.717326619363703,
           25.761844815747303,
           27.11741817349507,
           31.36486610208286
          ],
          [
           25.380174356822646,
           27.221716225515607,
           27.5226843369169,
           28.3379516345108,
           29.47121424738057,
           29.987067102653544,
           32.029054252683856,
           27.962462806134127,
           31.483451590753027,
           30.691233691920345,
           32.006637674525024,
           32.643625543602674,
           32.56621652552073,
           33.013695517117355,
           24.176699473563747,
           24.34195468070497,
           25.241474021515216,
           25.71068894483864,
           26.75898374914168,
           27.3357747768368,
           31.36486610208286
          ],
          [
           25.19281933660566,
           26.834741642000925,
           27.57318779157677,
           28.40164109478376,
           28.570920453004355,
           28.903547888272577,
           32.029054252683856,
           27.859647516594197,
           29.381780727855343,
           30.4498970016022,
           31.583428702220164,
           31.89517051956969,
           31.554314488441285,
           33.013695517117355,
           23.135500114442664,
           23.373998626688024,
           25.43941405355916,
           25.45319295033188,
           24.614213778896776,
           26.55825131609063,
           31.36486610208286
          ],
          [
           24.61890347929231,
           26.0001010726175,
           27.177791975342704,
           27.84890213793328,
           27.995654255501123,
           28.32680026515917,
           32.029054252683856,
           27.53888761730373,
           28.89906157015335,
           30.31590753032731,
           30.95902952620736,
           31.57244220645456,
           31.573128862439912,
           33.013695517117355,
           22.570244907301447,
           23.023163195239192,
           24.454108491645684,
           23.847562371252017,
           23.504234378576328,
           24.151407644769964,
           31.36486610208286
          ],
          [
           25.49271879149415,
           26.73353249401187,
           27.586668897080184,
           28.343704537766627,
           27.382743606738327,
           28.70115906871277,
           32.029054252683856,
           27.85236896314947,
           29.79093614099336,
           30.83772030212863,
           31.26990157930875,
           31.99359121080337,
           32.03707942320898,
           33.013695517117355,
           23.967360952162977,
           24.31526665140764,
           25.289539940489817,
           25.165941863126573,
           24.99198901350424,
           25.510185397116043,
           31.36486610208286
          ],
          [
           25.67354913768084,
           27.107258294315184,
           28.31129627497392,
           29.14722922235249,
           29.205067982618072,
           29.436506281864038,
           32.029054252683856,
           28.73655298695354,
           30.931288624399155,
           32.78406958113985,
           33.318837262531474,
           32.2499427786679,
           31.966124971389323,
           33.013695517117355,
           23.91165026321813,
           24.20233463035019,
           25.1293202105745,
           26.22396429388876,
           25.859464408331423,
           26.29205767910277,
           31.36486610208286
          ],
          [
           25.101141360781376,
           25.59086692506745,
           26.57542690921328,
           27.565157268865622,
           28.45501707015375,
           28.60449347773592,
           32.029054252683856,
           27.23648432135499,
           28.449942778667896,
           29.78942549782559,
           30.373083085374216,
           31.160448615243748,
           30.7408560311284,
           33.013695517117355,
           23.298878461890585,
           23.0912565804532,
           24.08885328450446,
           24.580224307621894,
           25.44545662623025,
           25.55852597848478,
           31.36486610208286
          ],
          [
           27.600459139493825,
           27.64873564348235,
           28.20173418510665,
           29.44740393242509,
           28.832146127372532,
           31.06284718137675,
           32.029054252683856,
           27.98477912565805,
           29.50560769054704,
           30.98065918974593,
           32.60576791027695,
           33.675898374914176,
           33.87928587777523,
           33.013695517117355,
           27.09945067521171,
           25.216296635385675,
           25.70279240100709,
           26.733806363012125,
           24.84321355001144,
           25.14227512016479,
           31.36486610208286
          ],
          [
           25.710833837951675,
           26.314448766761263,
           26.9025483071816,
           27.076307875117987,
           27.23793270313265,
           27.248435438638616,
           32.029054252683856,
           27.45488670176242,
           28.010070954451816,
           28.600846875715263,
           28.86243991760128,
           29.672693980315856,
           29.71146715495536,
           33.013695517117355,
           24.30469214923324,
           24.609750514991987,
           25.021629663538565,
           25.637560082398718,
           24.631723506523237,
           25.87846189059281,
           31.36486610208286
          ],
          [
           24.34957243510592,
           28.420859294925265,
           28.60391771878278,
           29.54791215619032,
           30.502103579493177,
           31.41744630652266,
           32.029054252683856,
           26.89771416972928,
           30.86678873884184,
           31.85616845960172,
           33.00068665598536,
           33.97878233005266,
           33.895628290226604,
           33.013695517117355,
           22.780079059007804,
           26.41016250858319,
           25.600823987182427,
           26.23025864042114,
           24.566262302586413,
           27.90672922865645,
           31.36486610208286
          ],
          [
           24.34957243510592,
           25.721685058693424,
           26.240398613950525,
           27.20181209386482,
           28.32408768208473,
           28.771175279014603,
           32.029054252683856,
           26.89771416972928,
           27.886678873884183,
           28.600823987182427,
           30.13012130922407,
           31.08981460288396,
           31.11879148546578,
           33.013695517117355,
           22.780079059007804,
           24.078850995651177,
           23.900205996795613,
           24.48370336461433,
           24.96681162737468,
           25.205310139620053,
           31.36486610208286
          ],
          [
           25.442221662702867,
           26.93637315239783,
           28.15793539949576,
           28.950577063771245,
           29.28197947565667,
           29.62172173809486,
           32.029054252683856,
           28.409269855802247,
           31.17473105973904,
           32.88825818265051,
           33.810597390707244,
           33.74795147631038,
           33.093316548409256,
           33.013695517117355,
           23.108262760357064,
           23.54973678187228,
           25.06752117189288,
           25.52529182879377,
           24.7676813916228,
           25.216296635385675,
           31.36486610208286
          ],
          [
           24.242474911098643,
           25.59709871703352,
           26.474898665634413,
           27.41573538905957,
           29.669595760581306,
           30.903664749143584,
           32.029054252683856,
           27.67887388418401,
           29.830441748683917,
           30.257473105973908,
           32.0073243305104,
           34.200045777065704,
           34.44724193179218,
           33.013695517117355,
           22.421606775005728,
           22.57724879835203,
           24.3030441748684,
           24.46784161135271,
           25.140764476997017,
           27.06569008926527,
           31.36486610208286
          ],
          [
           26.525996393806395,
           27.654824483574263,
           28.54439284585072,
           29.252027133820462,
           29.43996053966496,
           29.619349412151863,
           32.029054252683856,
           28.979995422293428,
           30.006866559853503,
           31.24284733348591,
           31.94902723735407,
           32.24966811627375,
           32.27969787136645,
           33.013695517117355,
           24.47928587777524,
           24.7676813916228,
           26.14328221560997,
           26.56454566262302,
           26.36530098420691,
           26.85355916685739,
           31.36486610208286
          ],
          [
           25.006050433540416,
           26.729797730223225,
           26.80898165987093,
           26.73959179433993,
           28.88715440084527,
           29.748394856524964,
           32.029054252683856,
           27.58100251773861,
           32.00910963607231,
           31.503639276722343,
           31.6433966582742,
           33.59807736324102,
           33.28491645685512,
           33.013695517117355,
           23.76058594644083,
           23.871229114213776,
           23.2482719157702,
           23.75962462806134,
           24.8180361638819,
           25.507164110780494,
           31.36486610208286
          ],
          [
           24.760742049104334,
           26.45507538908617,
           27.281619710355766,
           28.2842085459295,
           29.581639203460604,
           30.085076449242013,
           32.029054252683856,
           27.05429159990844,
           29.059281300068665,
           30.12588693064773,
           31.348867017624165,
           32.600137331197075,
           32.95337605859465,
           33.013695517117355,
           23.32570382238498,
           23.41496910048066,
           24.96681162737468,
           25.69100480659189,
           26.36530098420691,
           27.32433051041427,
           31.36486610208286
          ],
          [
           30.54340100790704,
           29.901190485658542,
           29.34969598891041,
           29.476402950708614,
           28.76669273455023,
           28.984955894307763,
           32.029054252683856,
           38.747997253376056,
           39.757129777981234,
           40.07324330510414,
           40.73014419775691,
           41.23492790112152,
           43.38635843442435,
           33.013695517117355,
           25.078347447928586,
           24.829480430304407,
           24.806500343328004,
           25.051155870908676,
           23.93682764934768,
           24.316777294575413,
           31.36486610208286
          ],
          [
           25.098792983129528,
           26.00068679560984,
           26.771541933071788,
           27.31449959623443,
           27.815105502385663,
           27.79639899625864,
           32.029054252683856,
           26.969512474250383,
           28.438590066376747,
           29.2699702449073,
           29.78942549782559,
           30.073243305104143,
           29.75051499198901,
           33.013695517117355,
           23.785763332570387,
           23.865644312199592,
           24.75394827191577,
           24.96681162737468,
           25.648889906157013,
           26.07003891050583,
           31.36486610208286
          ],
          [
           26.31326709224304,
           27.48508030094121,
           28.810986151052653,
           30.00828344931308,
           30.56011138584072,
           30.66970257100524,
           32.029054252683856,
           29.43808651865413,
           32.543923094529646,
           34.149095902952624,
           34.82659647516593,
           34.96003662165256,
           34.36484321355002,
           33.013695517117355,
           24.31540398260471,
           24.551522087434197,
           25.749599450675213,
           26.514259555962465,
           26.66376745250629,
           27.06569008926527,
           31.36486610208286
          ],
          [
           24.7605347726148,
           25.735624197727745,
           26.094383760999943,
           26.067580078274364,
           26.73488133192136,
           27.61717899859792,
           32.029054252683856,
           25.69709315632868,
           27.254154268711368,
           29.024444953078508,
           29.290455481803622,
           30.21515220874342,
           30.668711375600825,
           33.013695517117355,
           24.396841382467382,
           24.163378347447928,
           23.81849393453879,
           23.864614328221567,
           23.582055390249483,
           24.20027466239414,
           31.36486610208286
          ],
          [
           24.34957243510592,
           23.922997982547127,
           23.79394698429685,
           23.601825187178378,
           23.94816293438405,
           23.753552010056257,
           32.029054252683856,
           26.89771416972928,
           25.07896543831541,
           26.1542687113756,
           26.26688029297321,
           28.52895399404897,
           29.48020141908905,
           33.013695517117355,
           22.780079059007804,
           22.48885328450446,
           21.883726253147177,
           21.52437628747998,
           21.25886930647745,
           21.29777981231404,
           31.36486610208286
          ],
          [
           21.04087698359971,
           21.76926516190308,
           22.041740143755447,
           22.165882459337578,
           22.820025560796783,
           22.76961484336917,
           37.21808106622659,
           22.179789425497837,
           23.18093385214008,
           24.406408789196608,
           24.428931105516146,
           29.036392767223617,
           26.57853055619128,
           37.24650949874113,
           19.65323872739757,
           19.673838406958115,
           19.93435568780041,
           20.382238498512248,
           19.350469214923333,
           19.612863355458916,
           37.18818951705197
          ],
          [
           24.34957243510592,
           25.49734442762257,
           26.654953713338248,
           27.094980693046377,
           28.23285920763049,
           28.919313491811582,
           32.029054252683856,
           26.89771416972928,
           25.958823529411763,
           28.299382009613183,
           29.23531700617989,
           31.1879148546578,
           31.421377889677263,
           33.013695517117355,
           22.780079059007804,
           25.14254978255893,
           25.102540627145792,
           24.255298695353623,
           25.02861066605631,
           25.7468528267338,
           31.36486610208286
          ],
          [
           24.34957243510592,
           25.436179487770055,
           24.120680451538828,
           23.7949266345875,
           25.47882116111732,
           26.734492276720644,
           32.029054252683856,
           26.89771416972928,
           28.484659447850653,
           28.253421835660333,
           27.515678644998857,
           29.0753032730602,
           29.48043030441748,
           33.013695517117355,
           22.780079059007804,
           22.994630325845065,
           21.828793774319067,
           21.499198901350425,
           21.723506523231865,
           23.88647287708858,
           31.36486610208286
          ],
          [
           24.34957243510592,
           25.436179487770055,
           26.781060149439863,
           26.570863813849385,
           27.23687120229015,
           27.605913163306912,
           32.029054252683856,
           26.89771416972928,
           28.484659447850653,
           29.786678873884185,
           28.79468986037996,
           29.91760128175784,
           29.91760128175784,
           33.013695517117355,
           22.780079059007804,
           22.994630325845065,
           25.70794232089723,
           24.959029526207377,
           24.742504005493245,
           25.205172808422983,
           31.36486610208286
          ],
          [
           24.34957243510592,
           25.436179487770055,
           30.36222474032638,
           24.244557397491757,
           25.12749459599589,
           25.694699880441277,
           34.87454439213643,
           26.89771416972928,
           28.484659447850653,
           31.474204623483622,
           26.62394140535591,
           27.903410391393923,
           28.062256809338507,
           35.03270771343558,
           22.780079059007804,
           22.994630325845065,
           28.92726024261845,
           21.73723964293889,
           22.28885328450447,
           23.204394598306248,
           34.7650949874113
          ],
          [
           24.34957243510592,
           25.436179487770055,
           25.013514491713085,
           24.409437099214188,
           24.116079594131488,
           24.281357454421567,
           32.029054252683856,
           26.89771416972928,
           28.484659447850653,
           26.281025406271446,
           26.693408102540623,
           26.401922636758982,
           26.43854428931105,
           33.013695517117355,
           22.780079059007804,
           22.994630325845065,
           24.239848935683224,
           22.22476539253834,
           21.764705882352946,
           21.97528038452735,
           31.36486610208286
          ],
          [
           24.34957243510592,
           25.436179487770055,
           26.009960759698235,
           26.65242206266669,
           27.035326945308547,
           28.00308985485504,
           32.029054252683856,
           26.89771416972928,
           28.484659447850653,
           29.50560769054704,
           31.35875486381322,
           31.041336690318143,
           30.67750057221332,
           33.013695517117355,
           22.780079059007804,
           22.994630325845065,
           24.090501258869303,
           23.529411764705888,
           23.77203021286336,
           25.188601510643164,
           31.36486610208286
          ],
          [
           24.34957243510592,
           25.421999798289967,
           26.548133573496724,
           26.53525095244471,
           27.82629684175002,
           28.994379063558775,
           31.99359121080337,
           26.89771416972928,
           27.895742732890824,
           29.596383611810477,
           29.78942549782559,
           31.6433966582742,
           31.963515678644992,
           31.99359121080337,
           22.780079059007804,
           24.372854200045783,
           23.605722133211263,
           24.3951705195697,
           24.22751201647975,
           25.639620050354768,
           31.99359121080337
          ],
          [
           24.34957243510592,
           25.436179487770055,
           29.230945296406503,
           25.856029088212008,
           26.77462582759257,
           26.848287092881638,
           32.029054252683856,
           26.89771416972928,
           28.484659447850653,
           29.76479743648433,
           29.59803158617532,
           30.11544975967039,
           29.73911650263217,
           33.013695517117355,
           22.780079059007804,
           22.994630325845065,
           28.697093156328688,
           22.671206225680937,
           23.1723506523232,
           23.973403524834065,
           31.36486610208286
          ],
          [
           22.44265482806911,
           22.76892955530326,
           24.374109238757075,
           24.042592198188743,
           24.129010504152777,
           24.15031661947769,
           32.029054252683856,
           23.079629205767915,
           23.733119707026766,
           26.30009155413137,
           26.29205767910277,
           26.62394140535591,
           26.63538567177844,
           33.013695517117355,
           21.524765392538345,
           21.203318837262533,
           22.70959029526207,
           22.57724879835203,
           21.776150148775468,
           21.75097276264591,
           31.36486610208286
          ],
          [
           23.176931277417264,
           24.617935621180084,
           25.29757075698761,
           26.50351547180669,
           28.031952197363434,
           28.74220670559285,
           32.029054252683856,
           24.28216983291372,
           26.488715953307395,
           27.515106431677744,
           29.48043030441748,
           31.70862897688257,
           31.849759670405117,
           33.013695517117355,
           22.785534447241933,
           22.70771343556877,
           22.86335545891508,
           23.465323872739763,
           24.792858777752343,
           25.517372396429387,
           31.36486610208286
          ],
          [
           24.34957243510592,
           25.436179487770055,
           24.10225018393327,
           24.780795769155755,
           26.110635684515348,
           27.11311146445116,
           32.029054252683856,
           26.89771416972928,
           28.484659447850653,
           31.27461661707484,
           27.89196612497139,
           29.308216983291352,
           29.65896086060883,
           33.013695517117355,
           22.780079059007804,
           22.994630325845065,
           23.4101625085832,
           22.14021515220874,
           22.74662394140536,
           24.4967956054017,
           31.36486610208286
          ],
          [
           24.34957243510592,
           25.800282237471027,
           26.28456828076456,
           26.536028379539044,
           27.834717520981005,
           27.95701669993496,
           32.029054252683856,
           26.89771416972928,
           26.88168917372396,
           29.527397573815524,
           30.073243305104143,
           31.270313572899965,
           32.02334630350193,
           33.013695517117355,
           22.780079059007804,
           24.692149233234147,
           24.47928587777524,
           23.950560769054704,
           24.165712977798123,
           23.83611810482948,
           31.36486610208286
          ],
          [
           24.34957243510592,
           25.436179487770055,
           23.864691729600757,
           23.36681354927034,
           25.40240173096932,
           26.945043023638323,
           38.622776552750246,
           26.89771416972928,
           28.484659447850653,
           33.04875257495996,
           26.401922636758982,
           30.166285191119243,
           30.489356832227035,
           38.78558022430762,
           22.780079059007804,
           22.994630325845065,
           22.57724879835203,
           21.21766994735637,
           21.883726253147177,
           24.41863126573586,
           38.51249713893339
          ],
          [
           24.34957243510592,
           25.589536022860845,
           25.67241851217179,
           25.798393120755755,
           26.68132978863553,
           26.61930452298669,
           32.029054252683856,
           26.89771416972928,
           26.330281528953996,
           28.214053559166857,
           28.912794689860377,
           29.79800869764248,
           29.55825131609064,
           33.013695517117355,
           22.780079059007804,
           24.514671549553672,
           23.70656900892653,
           23.822384985122447,
           23.45387960631723,
           24.49301899748227,
           31.36486610208286
          ],
          [
           24.34957243510592,
           23.796650400160186,
           23.111430428037743,
           22.936812481143185,
           23.330417636708905,
           23.62556532728831,
           32.029054252683856,
           26.89771416972928,
           25.269832913710232,
           25.52595559624628,
           25.62600137331196,
           25.79766536964981,
           25.99450675211719,
           33.013695517117355,
           22.780079059007804,
           23.189425497825585,
           21.431929503318838,
           21.44426642252232,
           21.58457312886244,
           21.81734950789655,
           31.36486610208286
          ],
          [
           24.34957243510592,
           23.957540714928527,
           23.755877936819694,
           24.192775859337956,
           26.26934034953648,
           26.86936513257103,
           32.029054252683856,
           26.89771416972928,
           24.327603570611124,
           27.322636758983755,
           27.076218814373988,
           29.20119020370793,
           29.39885557335774,
           33.013695517117355,
           22.780079059007804,
           23.596108949416344,
           21.889906157015343,
           21.37788967727168,
           22.88441290913253,
           24.03753719386588,
           31.36486610208286
          ],
          [
           24.34957243510592,
           24.29878297632242,
           25.21484613679815,
           25.73088401962065,
           26.712255393366423,
           27.13569339901572,
           32.029054252683856,
           26.89771416972928,
           25.99931334401465,
           27.64476997024491,
           28.56044861524377,
           29.473907072556653,
           29.751888303959728,
           33.013695517117355,
           22.780079059007804,
           23.32089723048752,
           23.637560082398718,
           23.080682078278784,
           23.59349965667201,
           24.26642252231632,
           31.36486610208286
          ],
          [
           24.34957243510592,
           25.436179487770055,
           23.55285702614296,
           23.944421637424018,
           25.274025409739306,
           25.38769233182045,
           32.029054252683856,
           26.89771416972928,
           28.484659447850653,
           25.45436026550698,
           26.99038681620508,
           27.97219043259328,
           27.81643396658275,
           33.013695517117355,
           22.780079059007804,
           22.994630325845065,
           22.00407415884641,
           21.551842526894035,
           22.380407415884648,
           23.102494850080117,
           31.36486610208286
          ],
          [
           28.328235983824616,
           25.63218995901936,
           26.37234209858094,
           25.855463043830845,
           28.80925610521304,
           30.013379900330836,
           32.029054252683856,
           31.002517738612944,
           29.1653467612726,
           30.871961547264807,
           30.565575646601044,
           34.07186999313345,
           33.54197756923782,
           33.013695517117355,
           27.64010070954452,
           22.485694666971845,
           23.93682764934768,
           22.6161593041886,
           23.16177615014878,
           25.34669260700389,
           31.36486610208286
          ],
          [
           24.34957243510592,
           26.465593942212998,
           26.93753014942288,
           27.390966104463555,
           27.989175356107637,
           28.006464595594853,
           32.029054252683856,
           26.89771416972928,
           27.519707026779585,
           28.812085145342177,
           29.63378347447929,
           30.28152895399404,
           30.67969787136644,
           33.013695517117355,
           22.780079059007804,
           24.74845502403296,
           25.02861066605631,
           25.461432822156105,
           24.52197299153124,
           25.95124742504005,
           31.36486610208286
          ],
          [
           23.533075613856735,
           23.952883696296013,
           24.791228139201458,
           24.90311809723081,
           24.066039392825925,
           23.66816869690519,
           32.029054252683856,
           25.49855802243076,
           25.881437399862666,
           27.543511100938435,
           28.115861753261616,
           31.749141680018287,
           32.33005264362556,
           33.013695517117355,
           20.031311512932017,
           21.31535820553903,
           22.529961089494165,
           22.810711833371485,
           20.652323186083773,
           20.970473792629896,
           31.36486610208286
          ],
          [
           24.34957243510592,
           25.436179487770055,
           26.020338433678532,
           26.5061398912793,
           27.73602457531319,
           28.38142338090761,
           32.029054252683856,
           26.89771416972928,
           28.484659447850653,
           29.5492332341497,
           29.38143739986267,
           30.21515220874342,
           30.33417257953765,
           33.013695517117355,
           22.780079059007804,
           22.994630325845065,
           24.909819180590524,
           24.113298237582967,
           24.328221560997942,
           24.69253833829252,
           31.36486610208286
          ],
          [
           24.34957243510592,
           25.436179487770055,
           22.81760971679649,
           23.1752210447514,
           23.33066801393877,
           23.65188309720082,
           32.029054252683856,
           26.89771416972928,
           28.484659447850653,
           24.358068207827877,
           25.165941863126573,
           25.62600137331196,
           25.741359578850982,
           33.013695517117355,
           22.780079059007804,
           22.994630325845065,
           21.969649805447467,
           21.60448615243763,
           21.60448615243763,
           22.21927214465553,
           31.36486610208286
          ],
          [
           24.34957243510592,
           25.436179487770055,
           23.04958644991435,
           22.57671349478222,
           23.2966036407432,
           23.793593879740776,
           32.029054252683856,
           26.89771416972928,
           28.484659447850653,
           32.03021286335546,
           25.00393682764935,
           27.4802929732204,
           28.128450446326397,
           33.013695517117355,
           22.780079059007804,
           22.994630325845065,
           21.936369878690787,
           20.450904097047385,
           20.96786449988556,
           22.10574502174412,
           31.36486610208286
          ],
          [
           24.56446893755665,
           25.020509928001584,
           24.961545376845454,
           25.47082949507105,
           27.39123775295566,
           27.97223802238579,
           34.36484321355002,
           25.16566720073243,
           28.19157701991303,
           28.6439002059968,
           29.38336003662164,
           30.144060425726707,
           30.21515220874342,
           34.36484321355002,
           24.13641565575647,
           23.59441519798581,
           22.73756008239872,
           22.892080567635617,
           23.79720759899289,
           24.591439688715948,
           34.36484321355002
          ],
          [
           20.99805407228897,
           22.51431550347328,
           22.978705533513228,
           23.23528045069476,
           23.70779148320905,
           24.04553595513107,
           32.029054252683856,
           22.97608148317693,
           25.971618219272145,
           26.376745250629423,
           27.025406271458,
           27.214465552758053,
           26.989974822613853,
           33.013695517117355,
           19.642938887617305,
           19.958800640878923,
           20.423437857633328,
           20.61341268024719,
           20.64122224765392,
           21.64568551155871,
           31.36486610208286
          ],
          [
           19.368018764151397,
           21.135146316831623,
           22.45904445323324,
           23.466946174006605,
           25.20853676623439,
           26.57084893102916,
           32.029054252683856,
           22.45708400091554,
           25.5390249485008,
           28.15854886701762,
           29.73678187228198,
           30.2563515678645,
           30.33376058594644,
           33.013695517117355,
           17.134355687800408,
           17.676813916227967,
           19.31105516136417,
           19.22636758983749,
           20.09723048752575,
           21.7388189517052,
           31.36486610208286
          ],
          [
           20.43266628279005,
           21.75361289677525,
           22.178796597689576,
           22.814354151434443,
           23.94984201429638,
           24.3850356921088,
           32.029054252683856,
           22.83982604715038,
           25.55019455252918,
           26.203250171663992,
           26.63538567177844,
           29.967956054016938,
           30.74785992217898,
           33.013695517117355,
           19.232410162508582,
           19.19890135042344,
           19.517051956969567,
           20.141039139391165,
           19.958800640878923,
           21.25886930647745,
           31.36486610208286
          ],
          [
           21.13336881232449,
           22.65835821864849,
           23.399258991198128,
           24.34329074864508,
           25.171682495219173,
           25.433557251879996,
           32.029054252683856,
           22.624765392538343,
           24.89127946898604,
           26.469878690775936,
           27.68139162279698,
           28.16433966582743,
           28.125429159990844,
           33.013695517117355,
           19.97253376058595,
           20.068665598535137,
           21.017761501487744,
           21.2314030670634,
           20.93614099336233,
           21.311512932021056,
           31.36486610208286
          ],
          [
           24.34957243510592,
           22.772281641070325,
           22.971399128641416,
           23.05363716159072,
           23.29301741460663,
           23.535736531805547,
           32.029054252683856,
           26.89771416972928,
           24.541084916456853,
           25.28184939345388,
           25.77248798352025,
           27.4845502403296,
           28.13902494850082,
           33.013695517117355,
           22.780079059007804,
           21.359853513389798,
           21.19249256122683,
           20.88349736781872,
           20.74007782101168,
           21.41908903639276,
           31.36486610208286
          ],
          [
           17.814702503200234,
           19.341889195684203,
           20.357254726701644,
           21.127212849557825,
           22.57814965606301,
           21.622427180471167,
           32.029054252683856,
           20.92222476539253,
           22.27740901808194,
           23.92538338292516,
           24.72721446555276,
           29.844312199588007,
           31.290089265278063,
           33.013695517117355,
           15.592401007095448,
           15.910093842984669,
           17.87594415197985,
           18.905928130006856,
           18.30167086289768,
           18.39789425497825,
           31.36486610208286
          ],
          [
           21.350651514872943,
           21.38676227255491,
           22.023080800548183,
           22.202785640655485,
           22.313970691421275,
           22.02190804402628,
           32.029054252683856,
           32.03428702220188,
           33.371938658731985,
           24.235065232318608,
           24.581094071869995,
           29.031357289997707,
           26.23742275120164,
           33.013695517117355,
           19.85085831998169,
           19.82421606775005,
           20.284733348592365,
           19.684138246738385,
           19.358297093156335,
           19.42092011902038,
           31.36486610208286
          ],
          [
           16.63230490721356,
           19.12504481259514,
           19.65947112868564,
           20.547853139504163,
           23.672124260703484,
           25.18641753000864,
           32.029054252683856,
           18.42343785763332,
           23.25735866330968,
           23.716182192721437,
           25.665255207141215,
           28.22613870450904,
           28.444609750515,
           33.013695517117355,
           16.124238956282895,
           15.265690089265275,
           15.170519569695584,
           16.427100022888524,
           18.13229571984435,
           21.1787594415198,
           31.36486610208286
          ],
          [
           24.34957243510592,
           18.09848783057395,
           18.900302379526995,
           19.48681878489726,
           24.5968547815074,
           25.70130871939358,
           32.029054252683856,
           26.89771416972928,
           20.532524605172807,
           25.407370107576103,
           25.296223392080574,
           29.5948729686427,
           29.82249942778667,
           33.013695517117355,
           22.780079059007804,
           16.836163881895168,
           15.557152666514073,
           15.639734493018992,
           16.033417257953758,
           19.53078507667659,
           31.36486610208286
          ],
          [
           21.151042767679947,
           21.8889888082753,
           22.24426903433981,
           21.915455595104312,
           23.270107564966764,
           22.72986836527711,
           32.029054252683856,
           24.922865644312196,
           25.859464408331423,
           26.24170290684367,
           27.211856260013747,
           28.313115129320213,
           27.18411535820554,
           33.013695517117355,
           17.68830395971618,
           18.284916456855107,
           18.345159075303272,
           18.79130235751888,
           18.905928130006856,
           20.34103913939117,
           31.36486610208286
          ],
          [
           17.03748317070784,
           18.73740947442853,
           18.919097335258503,
           18.69004805486884,
           19.94544154530923,
           19.80370466929611,
           32.029054252683856,
           19.68084229800869,
           23.368162050812543,
           24.1417257953765,
           23.714671549553675,
           26.50034332799267,
           25.44911879148546,
           33.013695517117355,
           15.886930647745473,
           15.82073701075761,
           16.067017624170294,
           16.120393682764927,
           16.503501945525286,
           16.862073701075758,
           31.36486610208286
          ],
          [
           20.45743612764762,
           21.977333512064455,
           22.61462310219883,
           23.57690660241225,
           25.429810943985004,
           25.50431524232284,
           32.029054252683856,
           23.19143968871595,
           25.458915083543147,
           26.76470588235293,
           27.65621423666744,
           31.121423666742945,
           28.74353398947128,
           33.013695517117355,
           18.86472877088577,
           19.03181506065461,
           20.096131837949187,
           20.856031128404663,
           21.803616388189525,
           22.97081712062257,
           31.36486610208286
          ],
          [
           18.39682278752153,
           19.808600128638805,
           20.37794784255831,
           21.21842447748423,
           22.15426110891519,
           22.40606967636737,
           32.029054252683856,
           21.479171435110995,
           22.347264820325016,
           23.76470588235294,
           25.181391622796976,
           26.23025864042114,
           26.26688029297321,
           33.013695517117355,
           17.08397802700847,
           17.232776379034107,
           18.118562600137324,
           18.722705424582283,
           19.100480659189746,
           19.2813000686656,
           31.36486610208286
          ],
          [
           19.49498875497172,
           21.56695090295947,
           21.90407877276963,
           23.39898267659411,
           25.508718821716457,
           26.119759409254804,
           25.92126344701305,
           22.732066834515894,
           24.695857175555044,
           25.489356832227053,
           27.377477683680485,
           28.635843442435345,
           28.670519569695585,
           25.92126344701305,
           18.086335545891508,
           18.25614557106889,
           19.683451590753037,
           20.244907301441984,
           20.762188143739987,
           22.71627374685282,
           25.92126344701305
          ],
          [
           21.28569645207856,
           21.908213868131,
           22.70244149170115,
           23.051504342059744,
           23.87330652934343,
           23.0818015416543,
           23.51148888678074,
           30.57404440375372,
           25.13723964293888,
           26.88258182650492,
           27.040787365529862,
           28.487411306935225,
           29.36411078049897,
           27.9060425726711,
           18.681620508125423,
           19.54868390936142,
           20.544747081712057,
           20.43689631494622,
           18.793774319066145,
           18.702769512474248,
           19.393453879606326
          ],
          [
           21.605587106987056,
           22.47892700060935,
           23.239512337472316,
           23.20015321996888,
           24.279302117548937,
           24.71584605408082,
           32.029054252683856,
           22.36896314946212,
           26.212130922407862,
           26.68574044403753,
           26.79835202563515,
           27.76411078049897,
           27.453582055390253,
           33.013695517117355,
           20.904188601510644,
           20.81812771801327,
           20.963607232776383,
           20.907667658503087,
           21.26312657358663,
           22.341496910048065,
           31.36486610208286
          ],
          [
           24.34957243510592,
           19.696361456995408,
           19.722176109383906,
           20.39731488544465,
           23.26534693773112,
           21.844243109957738,
           32.029054252683856,
           26.89771416972928,
           22.068894483863584,
           22.76413366903181,
           24.131197070267795,
           28.49851224536508,
           29.17761501487754,
           33.013695517117355,
           22.780079059007804,
           17.36346990157931,
           17.578393224994272,
           17.58773174639505,
           18.990615701533528,
           19.045548180361635,
           31.36486610208286
          ],
          [
           24.34957243510592,
           20.91763912086737,
           20.88483617824308,
           22.62731637764703,
           23.34385620591921,
           23.010327019200005,
           32.029054252683856,
           26.89771416972928,
           22.657541771572447,
           23.47136644541084,
           25.00144197756924,
           28.11398489356833,
           27.91895170519572,
           33.013695517117355,
           22.780079059007804,
           19.566170748455026,
           18.388006408789195,
           18.216983291371022,
           19.39414053559168,
           19.615472648203248,
           31.36486610208286
          ],
          [
           20.55893375584889,
           22.87869825035052,
           22.653858828993062,
           22.47734087927181,
           24.532850802353963,
           23.94702184834444,
           32.029054252683856,
           21.70693522545205,
           26.83295948729686,
           26.66042572671091,
           25.80274662394141,
           28.672465094987416,
           27.04664682993818,
           33.013695517117355,
           20.12854200045777,
           20.12359807736324,
           20.57221332112611,
           20.226939803158626,
           20.666056305790807,
           21.989013504234386,
           31.36486610208286
          ],
          [
           21.552247775291168,
           22.17786898887858,
           22.72439091677792,
           22.888038800235943,
           24.08912960011592,
           24.3783136899469,
           32.029054252683856,
           22.134081025406275,
           24.96807049668116,
           25.85637445639733,
           26.0563057907988,
           27.95349050125887,
           28.537880521858572,
           33.013695517117355,
           20.50931563286793,
           19.63456168459602,
           20.545433737697408,
           19.986266880292973,
           20.451178759441525,
           21.380636301213084,
           31.36486610208286
          ],
          [
           16.48538271812217,
           18.19878707097553,
           18.385259263866683,
           18.722249742489964,
           21.101299458169265,
           23.321299557496243,
           32.029054252683856,
           21.28061341268025,
           26.053788052185844,
           24.52964065003433,
           24.588807507438776,
           26.94209201190204,
           27.4845502403296,
           33.013695517117355,
           14.701304646372163,
           14.468299382009612,
           14.859739070725562,
           14.47928587777524,
           14.95078965438316,
           17.458113984893565,
           31.36486610208286
          ],
          [
           22.82506318696472,
           24.387908119212067,
           25.206055034920144,
           25.714354015207547,
           25.62809280710684,
           25.793995453295366,
           32.029054252683856,
           25.36028839551385,
           26.96726939803157,
           27.52723735408561,
           28.324559395742742,
           28.523689631494623,
           28.78198672465095,
           33.013695517117355,
           21.655939574273297,
           21.769741359578852,
           22.36896314946212,
           22.22284275577936,
           22.810711833371485,
           23.12863355458915,
           31.36486610208286
          ],
          [
           24.2363245708677,
           25.572230632025548,
           26.325026577623216,
           26.807814303020027,
           27.454200379505245,
           27.67761777894915,
           32.029054252683856,
           26.85561913481346,
           28.748546578164337,
           29.519340810254068,
           29.981689173723964,
           30.54474708171206,
           30.51728084229801,
           33.013695517117355,
           22.58505378805219,
           22.757610437170975,
           23.721675440604265,
           24.17715724422065,
           23.4106202792401,
           23.715243762874795,
           31.36486610208286
          ],
          [
           23.814232264532496,
           25.3266608750018,
           25.918890212529003,
           26.39622733880025,
           26.87570685881421,
           27.42360390621184,
           32.029054252683856,
           26.310482948043024,
           28.895536736095217,
           30.11435111009383,
           31.09736781872281,
           31.12661936369877,
           30.86724650949874,
           33.013695517117355,
           21.44962233920806,
           21.982650492103453,
           23.649622339208054,
           23.130144197756923,
           22.680247196154728,
           23.1723506523232,
           31.36486610208286
          ],
          [
           24.34957243510592,
           25.767945455912628,
           25.99769552480768,
           26.42834755016405,
           27.57871651786416,
           28.00911073319236,
           26.32011753222611,
           26.89771416972928,
           28.007873655298702,
           28.43671320668345,
           29.208880750743862,
           30.55848020141909,
           30.67283131151293,
           32.23385214007783,
           22.780079059007804,
           23.976997024490736,
           23.946852826733807,
           24.34195468070497,
           25.01716639963378,
           24.41748683909361,
           24.41748683909361
          ],
          [
           23.40519523265697,
           24.92304340840874,
           25.458161866730396,
           26.45312525273637,
           27.18651529671752,
           27.12942003668321,
           32.029054252683856,
           26.14479285877775,
           27.46841382467384,
           28.28239871824216,
           29.32936598764019,
           29.73678187228198,
           29.830212863355456,
           33.013695517117355,
           22.485694666971845,
           22.538338292515448,
           23.06935225452048,
           23.80846875715266,
           23.76058594644083,
           23.713160906385905,
           31.36486610208286
          ],
          [
           23.98368416043577,
           25.860432240001185,
           26.12995425153353,
           26.27935864494323,
           26.36671590958705,
           27.369461552430607,
           32.029054252683856,
           26.596292057679094,
           28.95941863126573,
           30.01506065461204,
           30.67406729228656,
           31.36644541084916,
           31.65712977798123,
           33.013695517117355,
           22.33682764934768,
           22.568871595330744,
           23.10862897688259,
           21.67429617761502,
           21.577019913023573,
           23.33943694209201,
           31.36486610208286
          ],
          [
           23.049278933274863,
           24.76754639539416,
           25.127288873097147,
           25.788687653544105,
           26.431209504281505,
           26.54976933156959,
           32.029054252683856,
           26.314694438086505,
           27.800457770656894,
           27.97665369649806,
           28.98125429159992,
           29.929045548180355,
           29.59276722362097,
           33.013695517117355,
           21.76999313344015,
           22.083039597161825,
           23.108262760357064,
           23.43087663080797,
           24.0009155413138,
           24.11041428244449,
           31.36486610208286
          ],
          [
           21.796096187313346,
           23.03688305044376,
           23.557622226029142,
           24.017705950579117,
           25.38775061804384,
           25.43496327321561,
           32.029054252683856,
           24.71961547264822,
           27.65333028152897,
           27.86678873884185,
           28.570611123826964,
           29.463767452506307,
           28.861799038681607,
           33.013695517117355,
           20.48528267338064,
           20.51810482948043,
           21.4179903868162,
           21.37788967727168,
           21.834012359807737,
           22.460517280842296,
           31.36486610208286
          ],
          [
           22.953492331650786,
           23.904584591132878,
           24.4661709563476,
           24.809328283834784,
           24.87629874959382,
           25.04373814487217,
           32.029054252683856,
           24.333897917143503,
           25.76791027695124,
           27.003891050583647,
           27.851911192492565,
           27.738269626916928,
           27.386129549095912,
           33.013695517117355,
           21.869993133440147,
           21.950560769054707,
           22.380407415884648,
           22.70771343556877,
           22.22476539253834,
           22.36896314946212,
           31.36486610208286
          ],
          [
           23.38226767563805,
           24.23665834710209,
           24.61711384387073,
           25.12306251977104,
           26.26337087157128,
           26.580207883091923,
           32.029054252683856,
           25.7219501029984,
           26.57358663309681,
           27.1916685740444,
           28.411535820553908,
           29.290455481803622,
           29.617395284962235,
           33.013695517117355,
           22.27324330510415,
           22.33005264362555,
           22.17212176699473,
           22.421606775005728,
           22.04921034561685,
           21.581963836118103,
           31.36486610208286
          ],
          [
           22.632724000693877,
           24.03474583221115,
           24.8928684655661,
           25.801844737650605,
           26.055203227391647,
           26.631837672640987,
           32.029054252683856,
           24.977775234607464,
           27.29539940489813,
           28.61066605630579,
           29.37631036850537,
           29.963172350652307,
           29.65557335774778,
           33.013695517117355,
           20.779079880979637,
           21.16502632181277,
           22.57724879835203,
           23.41496910048066,
           22.524605172808425,
           23.03044174868392,
           31.36486610208286
          ],
          [
           22.542316492387062,
           23.8069764175087,
           24.52847553808036,
           25.49269422252188,
           25.512742357738357,
           25.68973515933143,
           32.029054252683856,
           24.494644083314263,
           26.40421149004348,
           27.626115815976195,
           29.25154497596704,
           29.672693980315856,
           29.68642710002289,
           33.013695517117355,
           20.72332341496911,
           21.104943923094527,
           21.803616388189525,
           22.70304417486838,
           22.01419089036393,
           22.4078736552987,
           31.36486610208286
          ],
          [
           22.43023417820567,
           23.88559658708996,
           24.56262518290501,
           25.19253797938709,
           26.51904398572257,
           26.8609530771606,
           32.029054252683856,
           25.60228885328451,
           26.81309224078736,
           27.85305561913482,
           28.72281986724651,
           30.006866559853503,
           29.50560769054704,
           33.013695517117355,
           20.368505378805228,
           20.599679560540167,
           22.6161593041886,
           22.74662394140536,
           23.4556420233463,
           24.548775463492788,
           31.36486610208286
          ],
          [
           22.53474185132081,
           24.145321211306012,
           24.51300362913646,
           25.19209893870007,
           25.89170238373528,
           26.257238381109453,
           32.029054252683856,
           24.48899061570153,
           26.32346074616617,
           27.52117189288167,
           28.635843442435345,
           29.14156557564661,
           28.96237125200275,
           33.013695517117355,
           21.40700389105057,
           21.940718699931345,
           22.521171892881668,
           22.66880292973221,
           23.24788281071183,
           23.21993591210804,
           31.36486610208286
          ],
          [
           24.725795174677447,
           24.634248326033013,
           24.877860843318903,
           25.55076655055086,
           26.978276626888704,
           26.682939213268146,
           32.029054252683856,
           27.04209201190203,
           27.738384069581148,
           27.66308079652095,
           28.924238956282903,
           29.47116044861524,
           29.355115587090875,
           33.013695517117355,
           22.61137560082399,
           22.094300755321584,
           22.88853284504464,
           23.06935225452048,
           23.40352483405813,
           23.97573815518426,
           31.36486610208286
          ],
          [
           21.69274448979264,
           23.20166524002393,
           24.01347701528672,
           24.98420866924725,
           26.77210901944534,
           27.598206029001965,
           32.029054252683856,
           24.25406271457999,
           26.256809338521396,
           28.53023575188831,
           29.344335088120864,
           30.55848020141909,
           30.722751201647977,
           33.013695517117355,
           19.286747539482725,
           19.75555046921492,
           21.151293202105748,
           20.991073472190443,
           21.65712977798124,
           22.48196383611811,
           31.36486610208286
          ],
          [
           23.60914910022856,
           24.988290758290788,
           25.55310933315236,
           26.15094120888247,
           27.396669301213013,
           27.529949612119307,
           32.029054252683856,
           26.70542458228428,
           28.11398489356833,
           28.29610894941634,
           29.16456855115587,
           29.924811169604016,
           30.024170290684363,
           33.013695517117355,
           21.504005493247885,
           21.499198901350425,
           23.224490730144204,
           23.87273975738155,
           24.509544518196385,
           25.165941863126573,
           31.36486610208286
          ],
          [
           23.25597579716727,
           24.73930345211123,
           25.005256344810693,
           25.63242582531032,
           26.619576324284974,
           26.637032102295905,
           32.029054252683856,
           24.84726482032502,
           27.72945754177158,
           27.12748912794689,
           28.04504463263904,
           28.98603799496452,
           29.49565117875944,
           33.013695517117355,
           22.34479285877776,
           22.342320897230486,
           23.29599450675212,
           23.643854428931107,
           24.50240329594873,
           24.715838864728774,
           31.36486610208286
          ],
          [
           23.753543345839425,
           24.368951842041955,
           25.01025529819505,
           26.178295941796712,
           27.3081514022813,
           27.45704416016726,
           32.029054252683856,
           26.11705195696956,
           26.86884870679789,
           27.96520943007553,
           29.37972075989929,
           29.83442435339896,
           29.73678187228198,
           33.013695517117355,
           22.215289539940493,
           22.44854657816434,
           22.70771343556877,
           23.22920576791028,
           24.35339894712749,
           24.523346303501945,
           31.36486610208286
          ],
          [
           22.14265936598657,
           23.26833974931165,
           23.638533434756567,
           23.8026169951965,
           25.17892531532392,
           25.415988428484606,
           32.029054252683856,
           24.392401007095444,
           25.837994964522775,
           26.607804989700156,
           27.434195468070502,
           29.08903639276723,
           30.102197299153097,
           33.013695517117355,
           21.27685969329366,
           21.349004348821243,
           21.60448615243763,
           21.391622796978712,
           22.133211261158166,
           22.655069810025186,
           31.36486610208286
          ],
          [
           23.54065209044864,
           24.713577814460034,
           25.22211197193004,
           25.96170087241851,
           25.95726688129489,
           26.00759430275016,
           32.029054252683856,
           26.38590066376744,
           27.7912565804532,
           28.175783932249946,
           29.12565804531929,
           29.62233920805676,
           29.290455481803622,
           33.013695517117355,
           22.177843900206003,
           22.10794232089724,
           22.71915770199131,
           23.1723506523232,
           22.88853284504464,
           23.15861753261616,
           31.36486610208286
          ],
          [
           24.34957243510592,
           22.737671521918937,
           22.825134060291077,
           22.81406793926277,
           23.717345121950352,
           24.435931369734643,
           32.029054252683856,
           26.89771416972928,
           23.490043488212404,
           26.43598077363241,
           28.777340352483407,
           28.966536964980552,
           28.262760357061108,
           33.013695517117355,
           22.780079059007804,
           22.356603341725798,
           20.80109864957656,
           20.382238498512248,
           20.286106660563068,
           21.551842526894035,
           31.36486610208286
          ],
          [
           23.229618078834367,
           24.426989917332904,
           25.10006553948916,
           25.68772872187277,
           26.27600235803696,
           26.22405533309145,
           32.029054252683856,
           25.549462119478143,
           27.325474937056534,
           28.49851224536508,
           29.187548638132306,
           29.566605630579076,
           28.84344243533989,
           33.013695517117355,
           21.312062256809337,
           21.63813229571985,
           23.06935225452048,
           23.32570382238498,
           23.72476539253834,
           24.170977340352483,
           31.36486610208286
          ],
          [
           23.940819960812707,
           24.956146208410647,
           25.524754908020416,
           26.50728356539986,
           26.60809348054729,
           26.94395268323485,
           32.029054252683856,
           26.76834515907529,
           27.61959258411537,
           28.640627145799947,
           29.892423895628287,
           29.956855115587093,
           29.50560769054704,
           33.013695517117355,
           22.39427786678874,
           22.549782558937977,
           23.41496910048066,
           24.06422522316321,
           23.67132066834516,
           24.428931105516146,
           31.36486610208286
          ],
          [
           22.408665016057235,
           23.693426894304302,
           24.798681001498927,
           25.20717902645846,
           26.419067816419638,
           26.71771227333933,
           32.029054252683856,
           23.920164797436485,
           26.54648661020828,
           27.69517051956971,
           28.392263675898377,
           29.45525291828794,
           29.53868162050812,
           33.013695517117355,
           21.8655985351339,
           22.02298008697643,
           22.419272144655533,
           22.91371023117418,
           22.053101396200503,
           23.86129549095904,
           31.36486610208286
          ],
          [
           22.62845761689084,
           23.806361349420943,
           24.48739228370556,
           25.290184800799608,
           26.58199597940556,
           26.459523524923945,
           32.029054252683856,
           25.47521171892882,
           26.949347676813904,
           28.13916227969787,
           29.1760128175784,
           29.55825131609064,
           29.40778210116731,
           33.013695517117355,
           20.368505378805228,
           21.286335545891504,
           21.776150148775468,
           21.62961776150149,
           21.64568551155871,
           20.945479514763107,
           31.36486610208286
          ],
          [
           22.3739707428838,
           23.72772450566865,
           23.52327127705412,
           25.26454693757557,
           27.63795887399708,
           29.075293091282354,
           32.029054252683856,
           24.61734950789656,
           27.22238498512244,
           29.05905241474021,
           30.39917601281757,
           32.984664682993824,
           33.37823300526438,
           33.013695517117355,
           21.57564660105287,
           20.59047837033646,
           20.319615472648213,
           21.780270084687576,
           21.69764248111697,
           21.99073014419776,
           31.36486610208286
          ],
          [
           22.18366505707635,
           23.822917318910022,
           24.646513995161012,
           25.641231080017224,
           26.537538034080203,
           26.898109433179187,
           32.029054252683856,
           25.458548867017644,
           28.175783932249946,
           28.98699931334401,
           29.304371709773395,
           31.512291142137776,
           32.21046005951018,
           33.013695517117355,
           20,
           20.2059967956054,
           22.133211261158166,
           22.927443350881205,
           23.01670862897689,
           23.00698100251774,
           31.36486610208286
          ],
          [
           24.136997951528777,
           25.03801674767409,
           25.69274220047449,
           26.62202773291489,
           27.438188212400245,
           27.61036426997764,
           32.029054252683856,
           25.498649576562144,
           27.4845502403296,
           27.61089494163425,
           28.89906157015335,
           29.63378347447929,
           29.63433279926757,
           33.013695517117355,
           23.445090409704733,
           23.465323872739763,
           23.57601281757839,
           24.46784161135271,
           25.16731517509728,
           25.376516365300983,
           31.36486610208286
          ],
          [
           21.952053870691497,
           23.58923713511488,
           24.156222615532528,
           24.76909153806302,
           25.59819350827444,
           25.28385496821152,
           35.06752117189288,
           24.832959487296858,
           26.660563057907986,
           27.85992217898833,
           27.96749828336005,
           29.179789425497844,
           29.60659189745937,
           35.06752117189288,
           20.34048981460289,
           20.58594644083314,
           22.007324330510414,
           22.36896314946212,
           22.86266880292973,
           22.713664454108493,
           35.06752117189288
          ],
          [
           22.52362138057032,
           23.230931244037887,
           23.463880018664693,
           24.043322652482605,
           24.570945529436354,
           24.49158972551894,
           32.029054252683856,
           27.219043259327066,
           28.160814831769283,
           27.594415197985807,
           28.313115129320213,
           27.89045548180361,
           27.46289768825818,
           33.013695517117355,
           19.179674982833607,
           19.823392080567636,
           20.85424582284275,
           20.333623254749376,
           21.910414282444503,
           22.35523002975509,
           31.36486610208286
          ],
          [
           24.859578003828474,
           26.09478227473567,
           26.61686061196964,
           27.002279973593872,
           26.998735678841463,
           27.14086061017964,
           27.274602937997763,
           26.935706111238257,
           28.52721446555276,
           29.494163424124512,
           30.15710688944837,
           30.189974822613863,
           29.69787136644541,
           30.185030899519337,
           24.27660791943237,
           24.316777294575413,
           24.34195468070497,
           24.260379949645227,
           24.36713206683452,
           24.666971847104605,
           24.435385671778448
          ],
          [
           23.06310147062,
           24.302686190029085,
           25.745735695306717,
           26.103397561681977,
           27.498883549284358,
           28.54443665961639,
           32.029054252683856,
           23.898558022430763,
           26.00986495765621,
           28.35168230716411,
           29.301899748226127,
           30.88226138704508,
           30.997940032043942,
           33.013695517117355,
           22.749736781872286,
           22.774685282673374,
           23.25928130006865,
           23.41496910048066,
           23.74122224765392,
           25.131334401464866,
           31.36486610208286
          ],
          [
           21.113281634402465,
           22.52289585858599,
           23.554493824638648,
           24.13598877630099,
           26.52932331247491,
           28.75942715544148,
           32.029054252683856,
           23.319203479056995,
           26.27514305333027,
           28.26225680933853,
           29.5834287022202,
           31.24284733348591,
           31.40764476997024,
           33.013695517117355,
           18.635843442435338,
           18.94541084916456,
           20.549141680018312,
           20.31357289997712,
           21.15939574273289,
           25.80274662394141,
           31.36486610208286
          ],
          [
           23.242509845712995,
           24.53859491550816,
           25.359655956983563,
           26.32538860633412,
           26.54577619765881,
           26.763181363471748,
           32.029054252683856,
           26.05603112840467,
           28.25616845960174,
           28.377088578622114,
           28.86530098420691,
           29.71160448615244,
           29.49633783474479,
           33.013695517117355,
           22.18585488670176,
           22.24994277866789,
           23.49279011215381,
           23.81094071869993,
           23.03044174868392,
           23.290524147402152,
           31.36486610208286
          ],
          [
           24.6705277351089,
           25.80110054652845,
           26.28328892638748,
           26.47366752020582,
           27.056536908623418,
           26.42421706062489,
           32.029054252683856,
           26.7685969329366,
           28.59510185397117,
           29.55825131609064,
           29.90386816205081,
           29.86495765621424,
           29.52813000686657,
           33.013695517117355,
           23.591210803387504,
           23.7468528267338,
           24.1411078049897,
           23.65758754863813,
           23.785763332570387,
           23.82732890821698,
           31.36486610208286
          ],
          [
           22.483180854108717,
           23.59409107865147,
           24.381296912936264,
           24.565066512994957,
           24.251888634800117,
           24.12457795592528,
           32.029054252683856,
           25.54877546349278,
           26.68574044403753,
           27.449301899748228,
           28.175783932249946,
           28.5894712748913,
           27.152666514076447,
           33.013695517117355,
           20.89352254520485,
           20.97734035248341,
           21.92263675898376,
           21.75097276264591,
           21.73723964293889,
           21.81883726253148,
           31.36486610208286
          ],
          [
           23.05639705229509,
           24.400154195781884,
           24.923763208301786,
           25.78939917205695,
           26.452046640477104,
           26.903890469225967,
           32.029054252683856,
           26.02517738612954,
           26.770428015564192,
           27.40883497367818,
           28.48706797894255,
           29.365987640192262,
           29.322957198443586,
           33.013695517117355,
           22.041657129777988,
           22.203753719386597,
           22.70771343556877,
           23.28679331654841,
           23.70794232089723,
           24.61661707484551,
           31.36486610208286
          ],
          [
           22.79188472628382,
           23.975809034698,
           24.351547892903618,
           25.483187972519115,
           26.870073899117248,
           26.97438485944794,
           32.029054252683856,
           25.159647516594188,
           27.45502403295949,
           28.1506065461204,
           29.036392767223617,
           30.19917601281757,
           30.18104829480429,
           33.013695517117355,
           21.708056763561466,
           21.557061112382694,
           21.56557564660105,
           22.34000915541314,
           23.79720759899289,
           23.93682764934768,
           31.36486610208286
          ],
          [
           21.84801213221052,
           23.57776455968039,
           24.151003718235657,
           24.60371602185341,
           25.104024589504704,
           25.380375166873467,
           32.029054252683856,
           24.58303959716182,
           26.0258640421149,
           26.625314717326614,
           27.58297093156329,
           28.11398489356833,
           28.11963836118104,
           33.013695517117355,
           20.921972991531245,
           21.18287937743191,
           21.49590295262074,
           22.507896543831546,
           22.75806820782788,
           23.13344014648661,
           31.36486610208286
          ],
          [
           23.126176471926097,
           24.302036066086277,
           24.33917454578609,
           24.42848984865373,
           25.765819041136574,
           25.27666558470161,
           32.029054252683856,
           25.24934767681392,
           26.708903639276716,
           26.646829938200952,
           27.074044403753703,
           29.19478141451135,
           28.513847562371254,
           33.013695517117355,
           21.82286564431221,
           22.03726253147174,
           22.50251773861296,
           22.632982375829705,
           22.87479972533761,
           23.03044174868392,
           31.36486610208286
          ],
          [
           23.201228021444397,
           23.101468596372325,
           23.51782459388444,
           24.045038338094542,
           24.64544673867811,
           24.88047944295201,
           32.029054252683856,
           24.97859922178988,
           26.31522087434195,
           26.706683451590745,
           27.5326161593042,
           27.553330281528964,
           27.411306935225447,
           33.013695517117355,
           21.230830853742276,
           20.52991531242848,
           21.112382696269165,
           21.33897917143512,
           21.776150148775468,
           22.27740901808194,
           31.36486610208286
          ],
          [
           23.318433049183508,
           24.193505228941515,
           24.737020262330848,
           25.44829453925662,
           26.0189255606895,
           26.427842205584607,
           32.029054252683856,
           26.86363012130921,
           27.12531471732661,
           27.535774776836817,
           28.175783932249946,
           28.77317463950561,
           32.27853055619137,
           33.013695517117355,
           21.87969787136645,
           22.016800183108263,
           22.14465552758068,
           22.71663996337836,
           23.33943694209201,
           23.610551613641565,
           31.36486610208286
          ]
         ]
        }
       ],
       "layout": {
        "coloraxis": {
         "colorscale": [
          [
           0,
           "#0d0887"
          ],
          [
           0.1111111111111111,
           "#46039f"
          ],
          [
           0.2222222222222222,
           "#7201a8"
          ],
          [
           0.3333333333333333,
           "#9c179e"
          ],
          [
           0.4444444444444444,
           "#bd3786"
          ],
          [
           0.5555555555555556,
           "#d8576b"
          ],
          [
           0.6666666666666666,
           "#ed7953"
          ],
          [
           0.7777777777777778,
           "#fb9f3a"
          ],
          [
           0.8888888888888888,
           "#fdca26"
          ],
          [
           1,
           "#f0f921"
          ]
         ]
        },
        "margin": {
         "t": 60
        },
        "template": {
         "data": {
          "bar": [
           {
            "error_x": {
             "color": "#2a3f5f"
            },
            "error_y": {
             "color": "#2a3f5f"
            },
            "marker": {
             "line": {
              "color": "#E5ECF6",
              "width": 0.5
             },
             "pattern": {
              "fillmode": "overlay",
              "size": 10,
              "solidity": 0.2
             }
            },
            "type": "bar"
           }
          ],
          "barpolar": [
           {
            "marker": {
             "line": {
              "color": "#E5ECF6",
              "width": 0.5
             },
             "pattern": {
              "fillmode": "overlay",
              "size": 10,
              "solidity": 0.2
             }
            },
            "type": "barpolar"
           }
          ],
          "carpet": [
           {
            "aaxis": {
             "endlinecolor": "#2a3f5f",
             "gridcolor": "white",
             "linecolor": "white",
             "minorgridcolor": "white",
             "startlinecolor": "#2a3f5f"
            },
            "baxis": {
             "endlinecolor": "#2a3f5f",
             "gridcolor": "white",
             "linecolor": "white",
             "minorgridcolor": "white",
             "startlinecolor": "#2a3f5f"
            },
            "type": "carpet"
           }
          ],
          "choropleth": [
           {
            "colorbar": {
             "outlinewidth": 0,
             "ticks": ""
            },
            "type": "choropleth"
           }
          ],
          "contour": [
           {
            "colorbar": {
             "outlinewidth": 0,
             "ticks": ""
            },
            "colorscale": [
             [
              0,
              "#0d0887"
             ],
             [
              0.1111111111111111,
              "#46039f"
             ],
             [
              0.2222222222222222,
              "#7201a8"
             ],
             [
              0.3333333333333333,
              "#9c179e"
             ],
             [
              0.4444444444444444,
              "#bd3786"
             ],
             [
              0.5555555555555556,
              "#d8576b"
             ],
             [
              0.6666666666666666,
              "#ed7953"
             ],
             [
              0.7777777777777778,
              "#fb9f3a"
             ],
             [
              0.8888888888888888,
              "#fdca26"
             ],
             [
              1,
              "#f0f921"
             ]
            ],
            "type": "contour"
           }
          ],
          "contourcarpet": [
           {
            "colorbar": {
             "outlinewidth": 0,
             "ticks": ""
            },
            "type": "contourcarpet"
           }
          ],
          "heatmap": [
           {
            "colorbar": {
             "outlinewidth": 0,
             "ticks": ""
            },
            "colorscale": [
             [
              0,
              "#0d0887"
             ],
             [
              0.1111111111111111,
              "#46039f"
             ],
             [
              0.2222222222222222,
              "#7201a8"
             ],
             [
              0.3333333333333333,
              "#9c179e"
             ],
             [
              0.4444444444444444,
              "#bd3786"
             ],
             [
              0.5555555555555556,
              "#d8576b"
             ],
             [
              0.6666666666666666,
              "#ed7953"
             ],
             [
              0.7777777777777778,
              "#fb9f3a"
             ],
             [
              0.8888888888888888,
              "#fdca26"
             ],
             [
              1,
              "#f0f921"
             ]
            ],
            "type": "heatmap"
           }
          ],
          "heatmapgl": [
           {
            "colorbar": {
             "outlinewidth": 0,
             "ticks": ""
            },
            "colorscale": [
             [
              0,
              "#0d0887"
             ],
             [
              0.1111111111111111,
              "#46039f"
             ],
             [
              0.2222222222222222,
              "#7201a8"
             ],
             [
              0.3333333333333333,
              "#9c179e"
             ],
             [
              0.4444444444444444,
              "#bd3786"
             ],
             [
              0.5555555555555556,
              "#d8576b"
             ],
             [
              0.6666666666666666,
              "#ed7953"
             ],
             [
              0.7777777777777778,
              "#fb9f3a"
             ],
             [
              0.8888888888888888,
              "#fdca26"
             ],
             [
              1,
              "#f0f921"
             ]
            ],
            "type": "heatmapgl"
           }
          ],
          "histogram": [
           {
            "marker": {
             "pattern": {
              "fillmode": "overlay",
              "size": 10,
              "solidity": 0.2
             }
            },
            "type": "histogram"
           }
          ],
          "histogram2d": [
           {
            "colorbar": {
             "outlinewidth": 0,
             "ticks": ""
            },
            "colorscale": [
             [
              0,
              "#0d0887"
             ],
             [
              0.1111111111111111,
              "#46039f"
             ],
             [
              0.2222222222222222,
              "#7201a8"
             ],
             [
              0.3333333333333333,
              "#9c179e"
             ],
             [
              0.4444444444444444,
              "#bd3786"
             ],
             [
              0.5555555555555556,
              "#d8576b"
             ],
             [
              0.6666666666666666,
              "#ed7953"
             ],
             [
              0.7777777777777778,
              "#fb9f3a"
             ],
             [
              0.8888888888888888,
              "#fdca26"
             ],
             [
              1,
              "#f0f921"
             ]
            ],
            "type": "histogram2d"
           }
          ],
          "histogram2dcontour": [
           {
            "colorbar": {
             "outlinewidth": 0,
             "ticks": ""
            },
            "colorscale": [
             [
              0,
              "#0d0887"
             ],
             [
              0.1111111111111111,
              "#46039f"
             ],
             [
              0.2222222222222222,
              "#7201a8"
             ],
             [
              0.3333333333333333,
              "#9c179e"
             ],
             [
              0.4444444444444444,
              "#bd3786"
             ],
             [
              0.5555555555555556,
              "#d8576b"
             ],
             [
              0.6666666666666666,
              "#ed7953"
             ],
             [
              0.7777777777777778,
              "#fb9f3a"
             ],
             [
              0.8888888888888888,
              "#fdca26"
             ],
             [
              1,
              "#f0f921"
             ]
            ],
            "type": "histogram2dcontour"
           }
          ],
          "mesh3d": [
           {
            "colorbar": {
             "outlinewidth": 0,
             "ticks": ""
            },
            "type": "mesh3d"
           }
          ],
          "parcoords": [
           {
            "line": {
             "colorbar": {
              "outlinewidth": 0,
              "ticks": ""
             }
            },
            "type": "parcoords"
           }
          ],
          "pie": [
           {
            "automargin": true,
            "type": "pie"
           }
          ],
          "scatter": [
           {
            "marker": {
             "colorbar": {
              "outlinewidth": 0,
              "ticks": ""
             }
            },
            "type": "scatter"
           }
          ],
          "scatter3d": [
           {
            "line": {
             "colorbar": {
              "outlinewidth": 0,
              "ticks": ""
             }
            },
            "marker": {
             "colorbar": {
              "outlinewidth": 0,
              "ticks": ""
             }
            },
            "type": "scatter3d"
           }
          ],
          "scattercarpet": [
           {
            "marker": {
             "colorbar": {
              "outlinewidth": 0,
              "ticks": ""
             }
            },
            "type": "scattercarpet"
           }
          ],
          "scattergeo": [
           {
            "marker": {
             "colorbar": {
              "outlinewidth": 0,
              "ticks": ""
             }
            },
            "type": "scattergeo"
           }
          ],
          "scattergl": [
           {
            "marker": {
             "colorbar": {
              "outlinewidth": 0,
              "ticks": ""
             }
            },
            "type": "scattergl"
           }
          ],
          "scattermapbox": [
           {
            "marker": {
             "colorbar": {
              "outlinewidth": 0,
              "ticks": ""
             }
            },
            "type": "scattermapbox"
           }
          ],
          "scatterpolar": [
           {
            "marker": {
             "colorbar": {
              "outlinewidth": 0,
              "ticks": ""
             }
            },
            "type": "scatterpolar"
           }
          ],
          "scatterpolargl": [
           {
            "marker": {
             "colorbar": {
              "outlinewidth": 0,
              "ticks": ""
             }
            },
            "type": "scatterpolargl"
           }
          ],
          "scatterternary": [
           {
            "marker": {
             "colorbar": {
              "outlinewidth": 0,
              "ticks": ""
             }
            },
            "type": "scatterternary"
           }
          ],
          "surface": [
           {
            "colorbar": {
             "outlinewidth": 0,
             "ticks": ""
            },
            "colorscale": [
             [
              0,
              "#0d0887"
             ],
             [
              0.1111111111111111,
              "#46039f"
             ],
             [
              0.2222222222222222,
              "#7201a8"
             ],
             [
              0.3333333333333333,
              "#9c179e"
             ],
             [
              0.4444444444444444,
              "#bd3786"
             ],
             [
              0.5555555555555556,
              "#d8576b"
             ],
             [
              0.6666666666666666,
              "#ed7953"
             ],
             [
              0.7777777777777778,
              "#fb9f3a"
             ],
             [
              0.8888888888888888,
              "#fdca26"
             ],
             [
              1,
              "#f0f921"
             ]
            ],
            "type": "surface"
           }
          ],
          "table": [
           {
            "cells": {
             "fill": {
              "color": "#EBF0F8"
             },
             "line": {
              "color": "white"
             }
            },
            "header": {
             "fill": {
              "color": "#C8D4E3"
             },
             "line": {
              "color": "white"
             }
            },
            "type": "table"
           }
          ]
         },
         "layout": {
          "annotationdefaults": {
           "arrowcolor": "#2a3f5f",
           "arrowhead": 0,
           "arrowwidth": 1
          },
          "autotypenumbers": "strict",
          "coloraxis": {
           "colorbar": {
            "outlinewidth": 0,
            "ticks": ""
           }
          },
          "colorscale": {
           "diverging": [
            [
             0,
             "#8e0152"
            ],
            [
             0.1,
             "#c51b7d"
            ],
            [
             0.2,
             "#de77ae"
            ],
            [
             0.3,
             "#f1b6da"
            ],
            [
             0.4,
             "#fde0ef"
            ],
            [
             0.5,
             "#f7f7f7"
            ],
            [
             0.6,
             "#e6f5d0"
            ],
            [
             0.7,
             "#b8e186"
            ],
            [
             0.8,
             "#7fbc41"
            ],
            [
             0.9,
             "#4d9221"
            ],
            [
             1,
             "#276419"
            ]
           ],
           "sequential": [
            [
             0,
             "#0d0887"
            ],
            [
             0.1111111111111111,
             "#46039f"
            ],
            [
             0.2222222222222222,
             "#7201a8"
            ],
            [
             0.3333333333333333,
             "#9c179e"
            ],
            [
             0.4444444444444444,
             "#bd3786"
            ],
            [
             0.5555555555555556,
             "#d8576b"
            ],
            [
             0.6666666666666666,
             "#ed7953"
            ],
            [
             0.7777777777777778,
             "#fb9f3a"
            ],
            [
             0.8888888888888888,
             "#fdca26"
            ],
            [
             1,
             "#f0f921"
            ]
           ],
           "sequentialminus": [
            [
             0,
             "#0d0887"
            ],
            [
             0.1111111111111111,
             "#46039f"
            ],
            [
             0.2222222222222222,
             "#7201a8"
            ],
            [
             0.3333333333333333,
             "#9c179e"
            ],
            [
             0.4444444444444444,
             "#bd3786"
            ],
            [
             0.5555555555555556,
             "#d8576b"
            ],
            [
             0.6666666666666666,
             "#ed7953"
            ],
            [
             0.7777777777777778,
             "#fb9f3a"
            ],
            [
             0.8888888888888888,
             "#fdca26"
            ],
            [
             1,
             "#f0f921"
            ]
           ]
          },
          "colorway": [
           "#636efa",
           "#EF553B",
           "#00cc96",
           "#ab63fa",
           "#FFA15A",
           "#19d3f3",
           "#FF6692",
           "#B6E880",
           "#FF97FF",
           "#FECB52"
          ],
          "font": {
           "color": "#2a3f5f"
          },
          "geo": {
           "bgcolor": "white",
           "lakecolor": "white",
           "landcolor": "#E5ECF6",
           "showlakes": true,
           "showland": true,
           "subunitcolor": "white"
          },
          "hoverlabel": {
           "align": "left"
          },
          "hovermode": "closest",
          "mapbox": {
           "style": "light"
          },
          "paper_bgcolor": "white",
          "plot_bgcolor": "#E5ECF6",
          "polar": {
           "angularaxis": {
            "gridcolor": "white",
            "linecolor": "white",
            "ticks": ""
           },
           "bgcolor": "#E5ECF6",
           "radialaxis": {
            "gridcolor": "white",
            "linecolor": "white",
            "ticks": ""
           }
          },
          "scene": {
           "xaxis": {
            "backgroundcolor": "#E5ECF6",
            "gridcolor": "white",
            "gridwidth": 2,
            "linecolor": "white",
            "showbackground": true,
            "ticks": "",
            "zerolinecolor": "white"
           },
           "yaxis": {
            "backgroundcolor": "#E5ECF6",
            "gridcolor": "white",
            "gridwidth": 2,
            "linecolor": "white",
            "showbackground": true,
            "ticks": "",
            "zerolinecolor": "white"
           },
           "zaxis": {
            "backgroundcolor": "#E5ECF6",
            "gridcolor": "white",
            "gridwidth": 2,
            "linecolor": "white",
            "showbackground": true,
            "ticks": "",
            "zerolinecolor": "white"
           }
          },
          "shapedefaults": {
           "line": {
            "color": "#2a3f5f"
           }
          },
          "ternary": {
           "aaxis": {
            "gridcolor": "white",
            "linecolor": "white",
            "ticks": ""
           },
           "baxis": {
            "gridcolor": "white",
            "linecolor": "white",
            "ticks": ""
           },
           "bgcolor": "#E5ECF6",
           "caxis": {
            "gridcolor": "white",
            "linecolor": "white",
            "ticks": ""
           }
          },
          "title": {
           "x": 0.05
          },
          "xaxis": {
           "automargin": true,
           "gridcolor": "white",
           "linecolor": "white",
           "ticks": "",
           "title": {
            "standoff": 15
           },
           "zerolinecolor": "white",
           "zerolinewidth": 2
          },
          "yaxis": {
           "automargin": true,
           "gridcolor": "white",
           "linecolor": "white",
           "ticks": "",
           "title": {
            "standoff": 15
           },
           "zerolinecolor": "white",
           "zerolinewidth": 2
          }
         }
        },
        "xaxis": {
         "anchor": "y",
         "constrain": "domain",
         "domain": [
          0,
          1
         ],
         "scaleanchor": "y",
         "side": "top",
         "title": {
          "text": "Features"
         }
        },
        "yaxis": {
         "anchor": "x",
         "autorange": "reversed",
         "constrain": "domain",
         "domain": [
          0,
          1
         ],
         "title": {
          "text": "Battery id"
         }
        }
       }
      }
     },
     "metadata": {},
     "output_type": "display_data"
    }
   ],
   "source": [
    "if __name__ == '__main__':\n",
    "    app.run_server(debug = True, port = 1000)"
   ]
  },
  {
   "cell_type": "code",
   "execution_count": null,
   "id": "1df79956",
   "metadata": {},
   "outputs": [],
   "source": []
  }
 ],
 "metadata": {
  "kernelspec": {
   "display_name": "Python 3",
   "language": "python",
   "name": "python3"
  },
  "language_info": {
   "codemirror_mode": {
    "name": "ipython",
    "version": 3
   },
   "file_extension": ".py",
   "mimetype": "text/x-python",
   "name": "python",
   "nbconvert_exporter": "python",
   "pygments_lexer": "ipython3",
   "version": "3.8.8"
  }
 },
 "nbformat": 4,
 "nbformat_minor": 5
}
