{
 "cells": [
  {
   "cell_type": "code",
   "execution_count": 1,
   "metadata": {},
   "outputs": [],
   "source": [
    "import pandas as pd\n",
    "import os\n",
    "import gdown\n",
    "import zipfile\n",
    "#import pandas_datareader.data as web #it is an in-built pandas API to read data from the web\n",
    "#import datetime"
   ]
  },
  {
   "cell_type": "markdown",
   "metadata": {},
   "source": [
    "# Load data"
   ]
  },
  {
   "cell_type": "code",
   "execution_count": 4,
   "metadata": {},
   "outputs": [],
   "source": [
    "def download_device_data(url:str, filename:str):\n",
    "    if not os.path.exists('../data/'):\n",
    "        os.mkdir('../data')\n",
    "        \n",
    "    file_exists = os.path.exists('../data/' + filename) \n",
    "    if file_exists==False:\n",
    "        output = '../data/' + filename + '.zip'\n",
    "        gdown.download(url, output, quiet=False, fuzzy=True)\n",
    "\n",
    "        # Unzip the data \n",
    "        with zipfile.ZipFile(output, 'r') as zip_ref:\n",
    "            zip_ref.extractall('../data/')\n",
    "    return None"
   ]
  },
  {
   "cell_type": "code",
   "execution_count": 5,
   "metadata": {},
   "outputs": [
    {
     "name": "stderr",
     "output_type": "stream",
     "text": [
      "Downloading...\n",
      "From: https://drive.google.com/uc?id=1QC6afqmWSHNpgsoe7j7g4E3YaYoHqeIt\n",
      "To: c:\\Users\\PC_victor\\Documents\\6_side_projects\\battery_dev\\BatteryDevBBoxx\\notebooks\\data\\devices1.csv.zip\n",
      "100%|██████████| 63.8M/63.8M [00:40<00:00, 1.56MB/s]\n",
      "Downloading...\n",
      "From: https://drive.google.com/uc?id=1Y_m2Awl9161Rs-7xiXbQKV7NOsDI6DI5\n",
      "To: c:\\Users\\PC_victor\\Documents\\6_side_projects\\battery_dev\\BatteryDevBBoxx\\notebooks\\data\\devices2.csv.zip\n",
      "100%|██████████| 62.2M/62.2M [00:40<00:00, 1.52MB/s]\n",
      "Downloading...\n",
      "From: https://drive.google.com/uc?id=1-mayhsGwpSnSHQYDRUDT2bY9EFSrrpOZ\n",
      "To: c:\\Users\\PC_victor\\Documents\\6_side_projects\\battery_dev\\BatteryDevBBoxx\\notebooks\\data\\devices3.csv.zip\n",
      "100%|██████████| 62.5M/62.5M [00:38<00:00, 1.61MB/s]\n",
      "Downloading...\n",
      "From: https://drive.google.com/uc?id=10USDOONYDPo8BAY46qhQOAPdpwnC1S4D\n",
      "To: c:\\Users\\PC_victor\\Documents\\6_side_projects\\battery_dev\\BatteryDevBBoxx\\notebooks\\data\\devices4.csv.zip\n",
      "100%|██████████| 64.8M/64.8M [00:39<00:00, 1.63MB/s]\n"
     ]
    }
   ],
   "source": [
    "urls = ['https://drive.google.com/file/d/1QC6afqmWSHNpgsoe7j7g4E3YaYoHqeIt/view?usp=sharing', \n",
    "        'https://drive.google.com/file/d/1Y_m2Awl9161Rs-7xiXbQKV7NOsDI6DI5/view?usp=sharing', \n",
    "        'https://drive.google.com/file/d/1-mayhsGwpSnSHQYDRUDT2bY9EFSrrpOZ/view?usp=sharing',\n",
    "        'https://drive.google.com/file/d/10USDOONYDPo8BAY46qhQOAPdpwnC1S4D/view?usp=sharing'\n",
    "    ]\n",
    "filenames = ['devices1.csv',\n",
    "            'devices2.csv',\n",
    "            'devices3.csv',\n",
    "            'devices4.csv',\n",
    "        ]\n",
    "for url, filename in zip(urls, filenames):\n",
    "    download_device_data(url, filename)"
   ]
  },
  {
   "cell_type": "code",
   "execution_count": null,
   "metadata": {},
   "outputs": [],
   "source": []
  }
 ],
 "metadata": {
  "interpreter": {
   "hash": "bf33c7135de944bf536b01c9ac9b077f4a50344da5ddd77bd9a387231cc0a174"
  },
  "kernelspec": {
   "display_name": "Python 3.7.3 ('base')",
   "language": "python",
   "name": "python3"
  },
  "language_info": {
   "codemirror_mode": {
    "name": "ipython",
    "version": 3
   },
   "file_extension": ".py",
   "mimetype": "text/x-python",
   "name": "python",
   "nbconvert_exporter": "python",
   "pygments_lexer": "ipython3",
   "version": "3.7.3"
  },
  "orig_nbformat": 4
 },
 "nbformat": 4,
 "nbformat_minor": 2
}
