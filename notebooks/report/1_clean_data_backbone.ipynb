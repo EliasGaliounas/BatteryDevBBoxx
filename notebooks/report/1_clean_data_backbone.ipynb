{
 "cells": [
  {
   "cell_type": "code",
   "execution_count": 1,
   "id": "07804612-4edf-429c-92ee-38e53fe76541",
   "metadata": {},
   "outputs": [],
   "source": [
    "import numpy as np\n",
    "import pandas as pd\n",
    "import seaborn as sns\n",
    "import matplotlib.pyplot as plt\n",
    "from tqdm import tqdm\n",
    "\n",
    "plt.rcParams[\"figure.figsize\"] = (15,4)"
   ]
  },
  {
   "cell_type": "code",
   "execution_count": 2,
   "id": "39b344e6",
   "metadata": {},
   "outputs": [],
   "source": [
    "resample = False"
   ]
  },
  {
   "cell_type": "markdown",
   "id": "ccfd0825",
   "metadata": {},
   "source": [
    "### Data Loading\n",
    "\n",
    "One must have unziped files in data folder. :)"
   ]
  },
  {
   "cell_type": "code",
   "execution_count": 3,
   "id": "e8de043b",
   "metadata": {},
   "outputs": [],
   "source": [
    "import os\n",
    "path_raw_files = '../data'\n",
    "csv_files = [path_raw_files + '/' + file for file in os.listdir(path_raw_files) if ('.csv' in file) and ('.zip' not in file)]"
   ]
  },
  {
   "cell_type": "code",
   "execution_count": 4,
   "id": "df0c315b-8888-4982-8d76-a6810c9c6e01",
   "metadata": {},
   "outputs": [
    {
     "name": "stderr",
     "output_type": "stream",
     "text": [
      "  0%|          | 0/4 [00:00<?, ?it/s]"
     ]
    },
    {
     "name": "stdout",
     "output_type": "stream",
     "text": [
      "Loading data...\n"
     ]
    },
    {
     "name": "stderr",
     "output_type": "stream",
     "text": [
      " 25%|██▌       | 1/4 [00:08<00:25,  8.44s/it]"
     ]
    },
    {
     "name": "stdout",
     "output_type": "stream",
     "text": [
      "Loading data...\n"
     ]
    },
    {
     "name": "stderr",
     "output_type": "stream",
     "text": [
      " 50%|█████     | 2/4 [00:15<00:15,  7.80s/it]"
     ]
    },
    {
     "name": "stdout",
     "output_type": "stream",
     "text": [
      "Loading data...\n"
     ]
    },
    {
     "name": "stderr",
     "output_type": "stream",
     "text": [
      " 75%|███████▌  | 3/4 [00:23<00:07,  7.92s/it]"
     ]
    },
    {
     "name": "stdout",
     "output_type": "stream",
     "text": [
      "Loading data...\n"
     ]
    },
    {
     "name": "stderr",
     "output_type": "stream",
     "text": [
      "100%|██████████| 4/4 [00:31<00:00,  7.89s/it]"
     ]
    },
    {
     "name": "stdout",
     "output_type": "stream",
     "text": [
      "Finished...\n"
     ]
    },
    {
     "name": "stderr",
     "output_type": "stream",
     "text": [
      "\n"
     ]
    }
   ],
   "source": [
    "# Example of how to load times series csv file\n",
    "# Each file contains data from approximately 50 devices\n",
    "dfs = []\n",
    "for file in tqdm(csv_files):\n",
    "    print('Loading data...')\n",
    "    # Sample 100 rows of data to determine dtypes.\n",
    "    df_test = pd.read_csv(file, nrows=100)\n",
    "\n",
    "    float_cols = [c for c in df_test if df_test[c].dtype == \"float64\"]\n",
    "    float32_cols = {c: np.float32 for c in float_cols}\n",
    "\n",
    "    df = pd.read_csv(file, engine='c', dtype=float32_cols).dropna()\n",
    "    #df = pd.read_csv(file).dropna()\n",
    "    dfs.append(df)\n",
    "print('Finished...')"
   ]
  },
  {
   "cell_type": "code",
   "execution_count": 6,
   "id": "f6256827",
   "metadata": {},
   "outputs": [
    {
     "name": "stdout",
     "output_type": "stream",
     "text": [
      "Concatenate...\n",
      "Finished...\n"
     ]
    }
   ],
   "source": [
    "print('Concatenate...')\n",
    "df = pd.concat(dfs, axis = 0)\n",
    "print('Finished...')"
   ]
  },
  {
   "cell_type": "code",
   "execution_count": 7,
   "id": "7f703528",
   "metadata": {},
   "outputs": [],
   "source": [
    "df = df.dropna()"
   ]
  },
  {
   "cell_type": "code",
   "execution_count": 8,
   "id": "a5df1541",
   "metadata": {},
   "outputs": [],
   "source": [
    "df['timestamp'] = pd.to_datetime(df['timestamp'])\n",
    "df = df.set_index('timestamp')"
   ]
  },
  {
   "cell_type": "code",
   "execution_count": 8,
   "id": "9f140a36",
   "metadata": {},
   "outputs": [],
   "source": [
    "#power and current\n",
    "df['power_out'] = df['current_out']*df['battery_voltage']\n",
    "df['usb_power'] = df['usb_current']*df['battery_voltage']\n",
    "df['power_in'] = df['current_in']*df['battery_voltage']\n",
    "df['net_power_battery'] = df['current']*df['battery_voltage']"
   ]
  },
  {
   "cell_type": "code",
   "execution_count": 10,
   "id": "5c09bfaf",
   "metadata": {},
   "outputs": [],
   "source": [
    "df['other_out_current'] = df['current_out'] - df['usb_current']"
   ]
  },
  {
   "cell_type": "markdown",
   "id": "bb3b2c6b",
   "metadata": {},
   "source": [
    "# finally resampling"
   ]
  },
  {
   "cell_type": "code",
   "execution_count": 11,
   "id": "491b0cb6",
   "metadata": {},
   "outputs": [],
   "source": [
    "if resample == True:\n",
    "    df = df.groupby('battery_id').resample('10min').mean()\n",
    "    df = df.drop('battery_id', axis = 1)\n",
    "\n",
    "    df = df.reset_index().set_index('timestamp')"
   ]
  },
  {
   "cell_type": "code",
   "execution_count": 12,
   "id": "a7916329",
   "metadata": {},
   "outputs": [
    {
     "name": "stdout",
     "output_type": "stream",
     "text": [
      "Doesn't exists\n"
     ]
    }
   ],
   "source": [
    "import os\n",
    "if os.path.isdir('../data/cleaned_data'):\n",
    "    print(\"Exists\")\n",
    "else:\n",
    "    print(\"Doesn't exists\")\n",
    "    os.mkdir('../data/cleaned_data')"
   ]
  },
  {
   "cell_type": "code",
   "execution_count": 13,
   "id": "350834c6",
   "metadata": {},
   "outputs": [],
   "source": [
    "file_cleaned_name = \"all_dataset\"\n",
    "df.to_parquet(f'../data/cleaned_data/{file_cleaned_name}.parquet')"
   ]
  },
  {
   "cell_type": "code",
   "execution_count": null,
   "id": "d0d266bb",
   "metadata": {},
   "outputs": [],
   "source": []
  }
 ],
 "metadata": {
  "kernelspec": {
   "display_name": "Python 3 (ipykernel)",
   "language": "python",
   "name": "python3"
  },
  "language_info": {
   "codemirror_mode": {
    "name": "ipython",
    "version": 3
   },
   "file_extension": ".py",
   "mimetype": "text/x-python",
   "name": "python",
   "nbconvert_exporter": "python",
   "pygments_lexer": "ipython3",
   "version": "3.7.3"
  }
 },
 "nbformat": 4,
 "nbformat_minor": 5
}
