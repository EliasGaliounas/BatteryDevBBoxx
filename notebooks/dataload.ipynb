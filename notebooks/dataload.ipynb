{
 "cells": [
  {
   "cell_type": "code",
   "execution_count": 8,
   "id": "07804612-4edf-429c-92ee-38e53fe76541",
   "metadata": {},
   "outputs": [],
   "source": [
    "import numpy as np\n",
    "import pandas as pd\n",
    "pd.options.mode.chained_assignment = None\n",
    "\n",
    "import matplotlib\n",
    "import matplotlib.pyplot as plt\n",
    "from matplotlib.dates import AutoDateFormatter, AutoDateLocator\n",
    "\n",
    "from os.path import exists\n",
    "\n",
    "import gdown\n",
    "import zipfile\n",
    "\n",
    "from datetime import datetime"
   ]
  },
  {
   "cell_type": "markdown",
   "id": "ccfd0825",
   "metadata": {},
   "source": [
    "### Data Loading"
   ]
  },
  {
   "cell_type": "markdown",
   "id": "2fda413a",
   "metadata": {},
   "source": [
    "#### Data Frame Columns\n",
    "\n",
    " `current_out`: current withdrawn from the box by the consumer <br>\n",
    " `current_in`: current supplied to the box from the solar panel <br>\n",
    " `current`: `current_out` - `current-in` --> net current that goes in or out of the battery <br>\n",
    " `temperature`: temperature in deg C <br>\n",
    " `timestamp`: YYYY-MM-DD HH:MM:SS <br>\n",
    " `panel_voltage`: voltage of the battery in V <br>\n",
    " `state_of_charge_percent`: state of charge of the battery in percent <br>\n",
    " `battery_id`: unique identifier of the battery <br>"
   ]
  },
  {
   "cell_type": "code",
   "execution_count": 9,
   "id": "df0c315b-8888-4982-8d76-a6810c9c6e01",
   "metadata": {},
   "outputs": [],
   "source": [
    "# Load times series csv file\n",
    "# Each file contains data from approximately 50 devices\n",
    "ts1_df = pd.read_csv('..\\data/devices1.csv')\n",
    "ts2_df = pd.read_csv('..\\data/devices2.csv')\n",
    "ts3_df = pd.read_csv('..\\data/devices3.csv')\n",
    "ts4_df = pd.read_csv('..\\data/devices4.csv')\n",
    " # Concatenate into one big dataframe\n",
    "ts_df = pd.concat([ts1_df, ts2_df, ts3_df, ts4_df], axis = 0, ignore_index = True)"
   ]
  },
  {
   "cell_type": "markdown",
   "id": "2b0204d0",
   "metadata": {},
   "source": [
    "Downsample the ts_df dataframe by removing rows that contain NaN values."
   ]
  },
  {
   "cell_type": "code",
   "execution_count": 10,
   "id": "61f0e11c",
   "metadata": {},
   "outputs": [],
   "source": [
    "ts_df_lean = ts_df.dropna()"
   ]
  },
  {
   "cell_type": "markdown",
   "id": "a1006ba7",
   "metadata": {},
   "source": [
    "Add power column and abs(power) column"
   ]
  },
  {
   "cell_type": "code",
   "execution_count": 11,
   "id": "196225e1",
   "metadata": {},
   "outputs": [],
   "source": [
    "ts_df_lean[\"power\"] = ts_df_lean[\"battery_voltage\"]*ts_df_lean[\"current\"]\n",
    "ts_df_lean[\"abs(power)\"] = ts_df_lean[\"power\"].abs()"
   ]
  },
  {
   "cell_type": "markdown",
   "id": "d54a431a",
   "metadata": {},
   "source": [
    "Convert timestamp to datetime format and add columns for 'year' and 'month'"
   ]
  },
  {
   "cell_type": "code",
   "execution_count": 12,
   "metadata": {},
   "outputs": [],
   "source": [
    "# convert timestamp column to datetime format. It has useful functionality, such as getting the 'month' or 'year'\n",
    "ts_df_lean[\"timestamp\"] = pd.to_datetime(ts_df_lean[\"timestamp\"])"
   ]
  },
  {
   "cell_type": "code",
   "execution_count": 13,
   "id": "86be65af",
   "metadata": {},
   "outputs": [],
   "source": [
    "#Add year, and month as dataframe columns\n",
    "year = np.empty((len(ts_df_lean)), dtype=int)\n",
    "month = np.empty((len(ts_df_lean)), dtype=int)\n",
    "for i in range(len(ts_df_lean)):\n",
    "    year[i] = ts_df_lean[\"timestamp\"].iloc[i].year\n",
    "    month[i] = ts_df_lean[\"timestamp\"].iloc[i].month"
   ]
  },
  {
   "cell_type": "code",
   "execution_count": 14,
   "id": "f813db59",
   "metadata": {},
   "outputs": [],
   "source": [
    "ts_df_lean[\"year\"] = year\n",
    "ts_df_lean[\"month\"] = month"
   ]
  },
  {
   "cell_type": "markdown",
   "id": "027af23f",
   "metadata": {},
   "source": [
    "Create two new time-related columns and add them to the dataframe.<br>\n",
    "Column 'time_battery_sec' contains values which start at 0 for every battery, subsequently counting the operating time of the battery in seconds. <br>\n",
    "Column 'dt_sec' gives the sampling time step. Will be useful later to calculate time-weighted averages. At the first row of every battery, dt is zero."
   ]
  },
  {
   "cell_type": "code",
   "execution_count": 15,
   "id": "9439a5f8",
   "metadata": {},
   "outputs": [],
   "source": [
    "# Had to make some conversions back to string to get this to work.\n",
    "# Some complications were due to numpy changing the format of datetime objects before storing them.\n",
    "time_battery_sec = np.empty((0,1))\n",
    "dt_sec = np.empty((0,1))\n",
    "for battery in range(0,200):\n",
    "    single_battery_df = ts_df_lean.loc[ts_df_lean['battery_id']==battery]\n",
    "    # Get the starting timestamp of this battery. This will be time zero.\n",
    "    # Also place in this more convenient datetime format which will allow subtraction of datetimes.\n",
    "    datetime_0 = datetime.strptime(str(single_battery_df[\"timestamp\"].iloc[0]), \"%Y-%m-%d %H:%M:%S\")\n",
    "    # Initialise numpy array to store battery_time. Loops using pandas would be too slow.\n",
    "    battery_time = single_battery_df[\"timestamp\"].astype(str).to_numpy()\n",
    "    for i, entry in enumerate(battery_time):\n",
    "        datetime_1 = datetime.strptime(str(entry), \"%Y-%m-%d %H:%M:%S\")\n",
    "        battery_time[i] = float((datetime_1-datetime_0).total_seconds())\n",
    "    # Convert to float:\n",
    "    battery_time = battery_time.astype(float)\n",
    "    battery_dt = np.zeros((battery_time.shape[0],)) #Useful mostly because it puts a zero at the -1 index for this battery_id.\n",
    "    battery_dt[0:-1] = battery_time[1:] - battery_time[0:-1]\n",
    "    time_battery_sec = np.append(time_battery_sec, battery_time)\n",
    "    dt_sec = np.append(dt_sec, battery_dt)"
   ]
  },
  {
   "cell_type": "code",
   "execution_count": 16,
   "id": "bda3c43e",
   "metadata": {},
   "outputs": [
    {
     "name": "stdout",
     "output_type": "stream",
     "text": [
      "ts_df_lean.shape:  (4505554, 15)\n",
      "time_battery_seconds.shape:  (4505554,)\n",
      "dt.shape:  (4505554,)\n"
     ]
    }
   ],
   "source": [
    "#Sanity check of dimensions:\n",
    "print('ts_df_lean.shape: ', ts_df_lean.shape)\n",
    "print('time_battery_seconds.shape: ', time_battery_sec.shape)\n",
    "print('dt.shape: ', dt_sec.shape)"
   ]
  },
  {
   "cell_type": "code",
   "execution_count": 17,
   "id": "1ccf9da7",
   "metadata": {},
   "outputs": [],
   "source": [
    "# Add new pandas Series to ts_df_lean\n",
    "ts_df_lean[\"time_battery_sec\"] = time_battery_sec\n",
    "ts_df_lean[\"dt_sec\"] = dt_sec"
   ]
  },
  {
   "cell_type": "code",
   "execution_count": 18,
   "id": "9c5b7798",
   "metadata": {},
   "outputs": [
    {
     "name": "stdout",
     "output_type": "stream",
     "text": [
      "Stored 'ts_df_lean' (DataFrame)\n"
     ]
    }
   ],
   "source": [
    "%store ts_df_lean"
   ]
  },
  {
   "cell_type": "markdown",
   "id": "d32c6ce6",
   "metadata": {},
   "source": [
    "Some Plots"
   ]
  },
  {
   "cell_type": "code",
   "execution_count": null,
   "id": "e4e9df1e",
   "metadata": {},
   "outputs": [],
   "source": [
    "# #Plots SoC-binned bar charge of a given dataframe. Specify param (e.g. Mean Temp) for title\n",
    "# def SoC_binned_bar_chart(battery_id, df, param=''):\n",
    "#     x = df.columns\n",
    "#     height = df.iloc[battery_id]\n",
    "#     f, ax = plt.subplots()\n",
    "#     ax.bar(x, height, align = 'center')\n",
    "#     ax.set_title('battery_id = %s. Plot of %s'%(battery_id, param))\n",
    "#     plt.setp(ax.get_xticklabels(), rotation=30)"
   ]
  },
  {
   "cell_type": "markdown",
   "id": "65612b2e",
   "metadata": {},
   "source": [
    "### Plotting"
   ]
  },
  {
   "cell_type": "code",
   "execution_count": null,
   "id": "e57c8006-b33d-4fe5-a9dc-35fe4ee57165",
   "metadata": {},
   "outputs": [],
   "source": [
    "# Basic plot of the data\n",
    "\n",
    "xtick_locator = AutoDateLocator()\n",
    "xtick_formatter = AutoDateFormatter(xtick_locator)\n",
    "\n",
    "start_pidx = 0 \n",
    "end_pidx = 6000 \n",
    "\n",
    "dates = matplotlib.dates.date2num(ts_df.loc[ts_df[\"battery_id\"]==0].loc[start_pidx:end_pidx, \"timestamp\"])\n",
    "current = ts_df.loc[ts_df[\"battery_id\"]==0].loc[start_pidx:end_pidx, \"current\"]\n",
    "voltage = ts_df.loc[ts_df[\"battery_id\"]==0].loc[start_pidx:end_pidx, \"battery_voltage\"]\n",
    "\n",
    "fig, host = plt.subplots()\n",
    "par1 = host.twinx()\n",
    "\n",
    "p1, = host.plot(dates, current, 'b', label='Current')\n",
    "p2, = par1.plot(dates, voltage, 'r', label='Voltage')\n",
    "\n",
    "host.set_ylabel('Current (A)')\n",
    "par1.set_ylabel('Voltage (V)')\n",
    "host.set_xlabel('Date')\n",
    "\n",
    "host.xaxis.set_major_locator(xtick_locator)\n",
    "host.xaxis.set_major_formatter(xtick_formatter)\n",
    "fig.autofmt_xdate()\n",
    "\n",
    "lines = [p1, p2]\n",
    "host.legend(lines, [l.get_label() for l in lines], loc=1, bbox_to_anchor=(0.995,0.22))\n",
    "fig.show()"
   ]
  }
 ],
 "metadata": {
  "kernelspec": {
   "display_name": "Python 3 (ipykernel)",
   "language": "python",
   "name": "python3"
  },
  "language_info": {
   "codemirror_mode": {
    "name": "ipython",
    "version": 3
   },
   "file_extension": ".py",
   "mimetype": "text/x-python",
   "name": "python",
   "nbconvert_exporter": "python",
   "pygments_lexer": "ipython3",
   "version": "3.8.8"
  }
 },
 "nbformat": 4,
 "nbformat_minor": 5
}
