{
 "cells": [
  {
   "cell_type": "code",
   "execution_count": null,
   "id": "07804612-4edf-429c-92ee-38e53fe76541",
   "metadata": {},
   "outputs": [],
   "source": [
    "import numpy as np\n",
    "import pandas as pd\n",
    "\n",
    "import matplotlib\n",
    "import matplotlib.pyplot as plt\n",
    "from matplotlib.dates import AutoDateFormatter, AutoDateLocator\n",
    "\n",
    "from os.path import exists\n",
    "\n",
    "import gdown\n",
    "import zipfile"
   ]
  },
  {
   "cell_type": "markdown",
   "id": "ccfd0825",
   "metadata": {},
   "source": [
    "### Data Loading"
   ]
  },
  {
   "cell_type": "code",
   "execution_count": null,
   "id": "ed97ed11-1a30-4809-b97e-f9669b2e4e33",
   "metadata": {
    "tags": []
   },
   "outputs": [],
   "source": [
    "# # Download the data if it doesn't exists locally already\n",
    "# def download_device_data(url:str, filename:str):\n",
    "#     file_exists = exists('../data/' + filename) \n",
    "#     if file_exists==False:\n",
    "#         output = '../data/' + filename + '.zip'\n",
    "#         gdown.download(url, output, quiet=False, fuzzy=True)\n",
    "\n",
    "#         # Unzip the data \n",
    "#         with zipfile.ZipFile(output, 'r') as zip_ref:\n",
    "#             zip_ref.extractall('../data/')\n",
    "#     return None"
   ]
  },
  {
   "cell_type": "code",
   "execution_count": null,
   "id": "6e85b71e-4c17-4aee-8100-bad60c112aad",
   "metadata": {},
   "outputs": [],
   "source": [
    "# urls = ['https://drive.google.com/file/d/1QC6afqmWSHNpgsoe7j7g4E3YaYoHqeIt/view?usp=sharing', \n",
    "#         'https://drive.google.com/file/d/1Y_m2Awl9161Rs-7xiXbQKV7NOsDI6DI5/view?usp=sharing', \n",
    "#         'https://drive.google.com/file/d/1-mayhsGwpSnSHQYDRUDT2bY9EFSrrpOZ/view?usp=sharing',\n",
    "#         'https://drive.google.com/file/d/10USDOONYDPo8BAY46qhQOAPdpwnC1S4D/view?usp=sharing'\n",
    "#        ]\n",
    "# filenames = ['devices1.csv',\n",
    "#             'devices2.csv',\n",
    "#             'devices3.csv',\n",
    "#             'devices4.csv',\n",
    "#            ]\n",
    "# for url, filename in zip(urls, filenames):\n",
    "#     download_device_data(url, filename)"
   ]
  },
  {
   "cell_type": "code",
   "execution_count": null,
   "id": "6291e378",
   "metadata": {},
   "outputs": [],
   "source": [
    "# Plot a specified column of the dataframe for a specific battery_id\n",
    "def plot_battery_param(battery_id, column, df):\n",
    "    x = df.loc[df[\"battery_id\"] == battery_id].index\n",
    "    y = df[column].loc[df[\"battery_id\"] == battery_id]\n",
    "    plt.plot(x, y)\n",
    "    plt.xlabel('datapoint')\n",
    "    plt.ylabel(column)\n",
    "    plt.title('battery_id = %s'%battery_id)"
   ]
  },
  {
   "cell_type": "code",
   "execution_count": null,
   "id": "cb1c067a",
   "metadata": {},
   "outputs": [],
   "source": [
    "# For any specific battery (battery_id) calculate a statistic (such as mean, max, min) of a parameter (such as 'temperature') at 10 SoC bins.\n",
    "from scipy.stats import binned_statistic\n",
    "def binned_by_SoC (battery_id, param, df, statistic = 'mean'):\n",
    "    x = df[\"state_of_charge_percent\"].loc[df[\"battery_id\"]==battery_id] # Data to be binned\n",
    "    values = df[\"temperature\"].loc[df[\"battery_id\"]==battery_id] # Data on which the statistic is computed\n",
    "    binned_values, bin_edges, _ = binned_statistic(x, values, statistic = statistic, bins=[0,10,20,30,40,50,60,70,80,90,100])\n",
    "    return binned_values, bin_edges"
   ]
  },
  {
   "cell_type": "markdown",
   "id": "2fda413a",
   "metadata": {},
   "source": [
    "#### Data Frame Columns\n",
    "\n",
    " `current_out`: current withdrawn from the box by the consumer <br>\n",
    " `current_in`: current supplied to the box from the solar panel <br>\n",
    " `current`: `current_out` - `current-in` --> net current that goes in or out of the battery <br>\n",
    " `temperature`: temperature in deg C <br>\n",
    " `timestamp`: YYYY-MM-DD HH:MM:SS <br>\n",
    " `panel_voltage`: voltage of the battery in V <br>\n",
    " `state_of_charge_percent`: state of charge of the battery in percent <br>\n",
    " `battery_id`: unique identifier of the battery <br>"
   ]
  },
  {
   "cell_type": "code",
   "execution_count": null,
   "id": "df0c315b-8888-4982-8d76-a6810c9c6e01",
   "metadata": {},
   "outputs": [],
   "source": [
    "# Load times series csv file\n",
    "# Each file contains data from approximately 50 devices\n",
    "ts1_df = pd.read_csv('..\\data/devices1.csv')\n",
    "ts2_df = pd.read_csv('..\\data/devices2.csv')\n",
    "ts3_df = pd.read_csv('..\\data/devices3.csv')\n",
    "ts4_df = pd.read_csv('..\\data/devices4.csv')\n",
    "ts_df = pd.concat([ts1_df, ts2_df, ts3_df, ts4_df], axis = 0, ignore_index = True) # Complete dataframe"
   ]
  },
  {
   "cell_type": "code",
   "execution_count": null,
   "id": "a5eeb251",
   "metadata": {},
   "outputs": [],
   "source": [
    "#View slices of the complete dataframe ts_df\n",
    "ts_df.iloc[:10]"
   ]
  },
  {
   "cell_type": "code",
   "execution_count": null,
   "id": "75118146",
   "metadata": {},
   "outputs": [],
   "source": [
    "ts_df.loc[ts_df[\"battery_id\"]==0].loc[:1000,:]"
   ]
  },
  {
   "cell_type": "code",
   "execution_count": null,
   "id": "dc0c9e62",
   "metadata": {},
   "outputs": [],
   "source": [
    "# Examination - print some parameters.\n",
    "print('ts_df.shape: ', ts_df.shape)\n",
    "print('max_voltage: ', ts_df[\"battery_voltage\"].max())\n",
    "print('min_voltage: ', ts_df[\"battery_voltage\"].min())\n",
    "# Note that the convention here is that charging currents are negative.\n",
    "print('max charging current: ', ts_df[\"current\"].loc[ts_df[\"current\"] < 0].min())\n",
    "print('min charging current: ', ts_df[\"current\"].loc[ts_df[\"current\"] < 0].max())\n",
    "print('max discharging current: ', ts_df[\"current\"].loc[ts_df[\"current\"] >= 0].max())\n",
    "print('min discharging current: ', ts_df[\"current\"].loc[ts_df[\"current\"] >= 0].min())"
   ]
  },
  {
   "cell_type": "markdown",
   "id": "2b0204d0",
   "metadata": {},
   "source": [
    "Downsample the ts_df dataframe by removing rows that contain NaN values."
   ]
  },
  {
   "cell_type": "code",
   "execution_count": null,
   "id": "61f0e11c",
   "metadata": {},
   "outputs": [],
   "source": [
    "ts_df_lean = ts_df.dropna()"
   ]
  },
  {
   "cell_type": "code",
   "execution_count": null,
   "id": "ca1a7c01",
   "metadata": {},
   "outputs": [],
   "source": [
    "print('Shape of initial dataframe ts_df: ', ts_df.shape)\n",
    "print('Shape of initial dataframe ts_df_lean: ', ts_df_lean.shape)"
   ]
  },
  {
   "cell_type": "markdown",
   "id": "027af23f",
   "metadata": {},
   "source": [
    "Create two new time-related columns and add them to the dataframe.<br>\n",
    "Column 'time_battery_seconds' contains values which start at 0 for every battery, subsequently counting the operating time of the battery in seconds. <br>\n",
    "Column 'dt' gives the sampling time step. Will be useful later to calculate time-weighted averages. At the first row of every battery, dt is zero."
   ]
  },
  {
   "cell_type": "code",
   "execution_count": null,
   "id": "cc0a9800",
   "metadata": {},
   "outputs": [],
   "source": [
    "from datetime import datetime\n",
    "time_battery_sec = np.empty((0,1))\n",
    "dt_sec = np.empty((0,1))\n",
    "for battery in range(0,200):\n",
    "    single_battery_df = ts_df_lean.loc[ts_df_lean['battery_id']==battery]\n",
    "    # Get the starting timestamp of this battery. This will be time zero.\n",
    "    # Also place in this more convenient datetime format which will allow subtraction of datetimes.\n",
    "    datetime_0 = datetime.strptime(single_battery_df[\"timestamp\"].iloc[0], \"%Y-%m-%d %H:%M:%S\")\n",
    "    # Initialise numpy array to store battery_time. Loops using pandas would be too slow.\n",
    "    battery_time = single_battery_df[\"timestamp\"].to_numpy()\n",
    "    for i, entry in enumerate(battery_time):\n",
    "        datetime_1 = datetime.strptime(entry, \"%Y-%m-%d %H:%M:%S\")\n",
    "        battery_time[i] = float((datetime_1-datetime_0).total_seconds())\n",
    "    # Convert to float:\n",
    "    battery_time = battery_time.astype(float)\n",
    "    battery_dt = np.zeros((battery_time.shape[0],)) #Useful mostly because it puts a zero at the 0th index.\n",
    "    battery_dt[1:] = battery_time[1:] - battery_time[0:-1]\n",
    "    time_battery_sec = np.append(time_battery_sec, battery_time)\n",
    "    dt_sec = np.append(dt_sec, battery_dt)"
   ]
  },
  {
   "cell_type": "code",
   "execution_count": null,
   "id": "bda3c43e",
   "metadata": {},
   "outputs": [],
   "source": [
    "#Sanity check of dimensions:\n",
    "print('ts_df_lean.shape: ', ts_df_lean.shape)\n",
    "print('time_battery_seconds.shape: ', time_battery_sec.shape)\n",
    "print('dt.shape: ', dt_sec.shape)"
   ]
  },
  {
   "cell_type": "code",
   "execution_count": null,
   "id": "1ccf9da7",
   "metadata": {},
   "outputs": [],
   "source": [
    "# Add new pandas Series to lean (i.e. downsampled) dataframe\n",
    "ts_df_lean.loc[:, \"time_battery_sec\"] = time_battery_sec\n",
    "ts_df_lean.loc[:, \"dt_sec\"] = dt_sec"
   ]
  },
  {
   "cell_type": "code",
   "execution_count": null,
   "id": "590c21ab",
   "metadata": {},
   "outputs": [],
   "source": [
    "# Extract temperature features at SoC bins. Specifically extract max, min, and mean values.\n",
    "# Initialise numpy arrays to store the features\n",
    "temp_features_min = np.empty((200,10))\n",
    "temp_features_min[:] = np.NaN\n",
    "temp_features_max = np.empty((200,10))\n",
    "temp_features_max[:] = np.NaN\n",
    "temp_features_mean = np.empty((200,10))\n",
    "temp_features_mean[:] = np.NaN\n",
    "\n",
    "for battery in range (0,200):\n",
    "    temp_features_min[battery, :], _ = binned_by_SoC (battery, \"temperature\", df = ts_df, statistic = 'min')\n",
    "    temp_features_max[battery, :], _ = binned_by_SoC (battery, \"temperature\", df = ts_df, statistic = 'max')\n",
    "    temp_features_mean[battery, :], _ = binned_by_SoC (battery, \"temperature\", df = ts_df, statistic = 'mean')\n",
    "# cols = ['battery_id','temp_mean_0to10SoC', 'temp_mean_10to20SoC', 'temp_mean_20to30SoC', 'temp_mean_30to40SoC', 'temp_mean_40to50SoC', 'temp_mean_50to60SoC', 'temp_mean_60to70SoC',\n",
    "#     'temp_mean_70to80SoC', 'temp_mean_80to90SoC', 'temp_mean_90to100SoC']\n",
    "# df_features = pd.Dataframe(columns = cols)\n",
    "# xticks = ['0','10','20','30','40','50','60','70','80','90']\n",
    "# plt.bar(temp_bin_edges[:-1], temp_bin_means, align = 'edge', width = 9.5)#, tick_label=xticks)"
   ]
  },
  {
   "cell_type": "code",
   "execution_count": null,
   "id": "22420f2e",
   "metadata": {},
   "outputs": [],
   "source": [
    "# Add the temperature features to pandas dataframes for easier visualisation\n",
    "cols = ['0to10SoC', '10to20SoC', '20to30SoC', '30to40SoC', '40to50SoC', '50to60SoC', '60to70SoC',\n",
    "        '70to80SoC', '80to90SoC', '90to100SoC']\n",
    "df_temp_features_min = pd.DataFrame(temp_features_min, columns = cols)\n",
    "df_temp_features_max = pd.DataFrame(temp_features_max, columns = cols)\n",
    "df_temp_features_mean = pd.DataFrame(temp_features_mean, columns = cols)"
   ]
  },
  {
   "cell_type": "code",
   "execution_count": null,
   "id": "1b1b4512",
   "metadata": {},
   "outputs": [],
   "source": [
    "df_temp_features_mean.iloc[1]"
   ]
  },
  {
   "cell_type": "code",
   "execution_count": null,
   "id": "e4e9df1e",
   "metadata": {},
   "outputs": [],
   "source": [
    "#Plots SoC-binned bar charge of a given dataframe. Specify param (e.g. Mean Temp) for title\n",
    "def SoC_binned_bar_chart(battery_id, df, param=''):\n",
    "    x = df.columns\n",
    "    height = df.iloc[battery_id]\n",
    "    f, ax = plt.subplots()\n",
    "    ax.bar(x, height, align = 'center')\n",
    "    ax.set_title('battery_id = %s. Plot of %s'%(battery_id, param))\n",
    "    plt.setp(ax.get_xticklabels(), rotation=30)"
   ]
  },
  {
   "cell_type": "code",
   "execution_count": null,
   "id": "35cc9b76",
   "metadata": {},
   "outputs": [],
   "source": [
    "SoC_binned_bar_chart(0, df_temp_features_mean, 'Mean Temp')"
   ]
  },
  {
   "cell_type": "code",
   "execution_count": null,
   "id": "f1123b81",
   "metadata": {},
   "outputs": [],
   "source": [
    "temp_bin_edges = [0,10,20,30,40,50,60,70,80,90]\n",
    "xticks = ['0','10','20','30','40','50','60','70','80','90']\n",
    "plt.bar(temp_bin_edges, temp_bin_means, align = 'edge', width = 9.5)#, tick_label=xticks)"
   ]
  },
  {
   "cell_type": "code",
   "execution_count": null,
   "id": "f4a40a83",
   "metadata": {},
   "outputs": [],
   "source": [
    "plot_battery_param(0, 'state_of_charge_percent', ts_df)"
   ]
  },
  {
   "cell_type": "code",
   "execution_count": null,
   "id": "e08333d5",
   "metadata": {},
   "outputs": [],
   "source": [
    "plot_battery_param(0, 'temperature', ts_df)"
   ]
  },
  {
   "cell_type": "code",
   "execution_count": null,
   "id": "90e59afd-59b1-4672-a04e-e17865143344",
   "metadata": {},
   "outputs": [],
   "source": [
    "ts_df.loc[ts_df[\"battery_id\"]==0].loc[:1000,:]"
   ]
  },
  {
   "cell_type": "markdown",
   "id": "65612b2e",
   "metadata": {},
   "source": [
    "### Plotting"
   ]
  },
  {
   "cell_type": "code",
   "execution_count": null,
   "id": "e57c8006-b33d-4fe5-a9dc-35fe4ee57165",
   "metadata": {},
   "outputs": [],
   "source": [
    "# Basic plot of the data\n",
    "\n",
    "xtick_locator = AutoDateLocator()\n",
    "xtick_formatter = AutoDateFormatter(xtick_locator)\n",
    "\n",
    "start_pidx = 0 \n",
    "end_pidx = 6000 \n",
    "\n",
    "dates = matplotlib.dates.date2num(ts_df.loc[ts_df[\"battery_id\"]==0].loc[start_pidx:end_pidx, \"timestamp\"])\n",
    "current = ts_df.loc[ts_df[\"battery_id\"]==0].loc[start_pidx:end_pidx, \"current\"]\n",
    "voltage = ts_df.loc[ts_df[\"battery_id\"]==0].loc[start_pidx:end_pidx, \"battery_voltage\"]\n",
    "\n",
    "fig, host = plt.subplots()\n",
    "par1 = host.twinx()\n",
    "\n",
    "p1, = host.plot(dates, current, 'b', label='Current')\n",
    "p2, = par1.plot(dates, voltage, 'r', label='Voltage')\n",
    "\n",
    "host.set_ylabel('Current (A)')\n",
    "par1.set_ylabel('Voltage (V)')\n",
    "host.set_xlabel('Date')\n",
    "\n",
    "host.xaxis.set_major_locator(xtick_locator)\n",
    "host.xaxis.set_major_formatter(xtick_formatter)\n",
    "fig.autofmt_xdate()\n",
    "\n",
    "lines = [p1, p2]\n",
    "host.legend(lines, [l.get_label() for l in lines], loc=1, bbox_to_anchor=(0.995,0.22))\n",
    "fig.show()"
   ]
  }
 ],
 "metadata": {
  "kernelspec": {
   "display_name": "Python 3 (ipykernel)",
   "language": "python",
   "name": "python3"
  },
  "language_info": {
   "codemirror_mode": {
    "name": "ipython",
    "version": 3
   },
   "file_extension": ".py",
   "mimetype": "text/x-python",
   "name": "python",
   "nbconvert_exporter": "python",
   "pygments_lexer": "ipython3",
   "version": "3.8.8"
  }
 },
 "nbformat": 4,
 "nbformat_minor": 5
}
