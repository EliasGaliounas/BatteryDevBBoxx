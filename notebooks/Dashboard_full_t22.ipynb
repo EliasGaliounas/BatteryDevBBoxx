{
 "cells": [
  {
   "cell_type": "code",
   "execution_count": 1,
   "id": "f3ed1a00",
   "metadata": {},
   "outputs": [],
   "source": [
    "from jupyter_dash import JupyterDash \n",
    "from dash import dcc\n",
    "from dash import html\n",
    "from dash.dependencies import Input, Output \n",
    "import pandas as pd\n",
    "import plotly.express as px\n",
    "import dash_bootstrap_components as dbc\n",
    "from imp import reload"
   ]
  },
  {
   "cell_type": "markdown",
   "id": "ad1079e6",
   "metadata": {},
   "source": [
    "Data Load"
   ]
  },
  {
   "cell_type": "code",
   "execution_count": 2,
   "id": "175ca964",
   "metadata": {},
   "outputs": [],
   "source": [
    "clean_files = ['cleaned_data/all_dataset/all_dataset.parquet']\n",
    "dfs = []\n",
    "for file in clean_files:\n",
    "    dfs.append(pd.read_parquet(file))\n",
    "df = pd.concat(dfs, axis = 0)\n",
    "df.index = pd.to_datetime(df.index)\n",
    "df['state_of_charge_percent'] = df['state_of_charge_percent'].clip(0,120)"
   ]
  },
  {
   "cell_type": "code",
   "execution_count": 3,
   "id": "60ccc300",
   "metadata": {},
   "outputs": [],
   "source": [
    "df['month_name'] = df.index.month_name()\n",
    "\n",
    "#import data from Étienne\n",
    "multi_time_cluster_wk = pd.read_csv('cleaned_data/multivariate_time_series_clustering_weekly.csv')\n",
    "\n",
    "#list_var_rawbox_check = ['battery_voltage', 'current_out', 'state_of_charge_percent', 'temperature', 'power_out']\n",
    "option_resampling = [{'label':'month','value':'1MS'},{'label':'day','value':'1D'}]"
   ]
  },
  {
   "cell_type": "code",
   "execution_count": 4,
   "id": "0b294ed0",
   "metadata": {},
   "outputs": [],
   "source": [
    "checklist_values = []\n",
    "for entry in multi_time_cluster_wk.columns:\n",
    "    if \"mean\" in entry:\n",
    "        checklist_values.append(entry)\n",
    "        "
   ]
  },
  {
   "cell_type": "code",
   "execution_count": 5,
   "id": "203a5795",
   "metadata": {},
   "outputs": [
    {
     "data": {
      "text/plain": [
       "['battery_voltage_mean',\n",
       " 'current_mean',\n",
       " 'state_of_charge_percent_mean',\n",
       " 'temperature_mean']"
      ]
     },
     "execution_count": 5,
     "metadata": {},
     "output_type": "execute_result"
    }
   ],
   "source": [
    "checklist_values"
   ]
  },
  {
   "cell_type": "code",
   "execution_count": 6,
   "id": "dee1f76c",
   "metadata": {},
   "outputs": [],
   "source": [
    "#!pip install dash-bootstrap-components\n",
    "#!pip install jupyter-dash"
   ]
  },
  {
   "cell_type": "code",
   "execution_count": 7,
   "id": "7cee6367",
   "metadata": {},
   "outputs": [],
   "source": [
    "FONT_AWESOME = (\n",
    "    \"https://cdnjs.cloudflare.com/ajax/libs/font-awesome/4.7.0/css/font-awesome.min.css\"\n",
    ")"
   ]
  },
  {
   "cell_type": "code",
   "execution_count": 8,
   "id": "58564ff9",
   "metadata": {},
   "outputs": [
    {
     "data": {
      "text/plain": [
       "<module 'plot_functions.boxplot' from 'c:\\\\Users\\\\egaliounas\\\\OneDrive - University College London\\\\Extracurricular\\\\BatteryDev2022BBoxx\\\\BatteryDevBBoxx\\\\notebooks\\\\plot_functions\\\\boxplot.py'>"
      ]
     },
     "execution_count": 8,
     "metadata": {},
     "output_type": "execute_result"
    }
   ],
   "source": [
    "# from plot_functions import median_profiles, plot_times_series, boxplot, timeseriesclustering\n",
    "from plot_functions import median_profiles, plot_times_series, boxplot, timeseriesclustering\n",
    "reload(median_profiles)\n",
    "reload(plot_times_series)\n",
    "reload(boxplot)"
   ]
  },
  {
   "cell_type": "code",
   "execution_count": 9,
   "id": "62ac2c12",
   "metadata": {},
   "outputs": [],
   "source": [
    "options_n_random_batteries = [{'label':f'{c} random batteries','value': c} for c in range(1, df.battery_id.nunique(), 5)]\n",
    "#option_resampling = [{'label':'month','value':'1MS'},{'label':'day','value':'1D'}]\n",
    "option_rolling = [{'label':'month','value':'30D'},{'label':'week','value':'7D'},{'label':'day','value':'1D'}]\n"
   ]
  },
  {
   "cell_type": "code",
   "execution_count": 10,
   "id": "941b7de3",
   "metadata": {},
   "outputs": [],
   "source": [
    "#Building the app\n",
    "app = JupyterDash(__name__, external_stylesheets = [dbc.themes.LUX, FONT_AWESOME],\n",
    "                            meta_tags=[{'name': 'viewport',\n",
    "                            'content': 'width=device-width, initial-scale=1.0'}]) #if you want to make it adjust when the dashboard is visualized on mobile phones"
   ]
  },
  {
   "cell_type": "code",
   "execution_count": 11,
   "id": "8bff4908",
   "metadata": {},
   "outputs": [],
   "source": [
    "#Building the layout\n",
    "app.layout = dbc.Container([\n",
    "    #------------------------------------------------------------------------------------------------------------------------\n",
    "                    #Row #1: title row\n",
    "                    dbc.Row([\n",
    "                        html.H1('BBoxx Lithium-Ion Battery Field Data Challenge', className = 'text-center mb-4'),\n",
    "                        html.P('Team 22: Nicole Schauser, Victor Bossard, Etienne Beauchamp, Elias Galiounas, Maria Varini', className = 'text-center m-4')\n",
    "                    ]), #close row 1\n",
    "    #------------------------------------------------------------------------------------------------------------------------\n",
    "                    #Row 2; sub-section title and text\n",
    "                    dbc.Row([\n",
    "                        dbc.Col([\n",
    "                      html.H2('Time series analysis', className = 'text-center mb-4 bg-primary text-white'),\n",
    "                      html.P(\"In this section, the raw data provided can be investigated interactively both in the form of a time series and as a statistic (box plot)\", className = 'text-center m-4'),\n",
    "                      html.Label(['y-axis selection']),\n",
    "                      dcc.Dropdown(id = 'var-dropdown',\n",
    "                      value = 'voltage',\n",
    "                       options = [{'label': a, 'value': a} for a in df.columns], className = 'm-1'),\n",
    "                       #html.Label(['battery_id selection']),\n",
    "                       #dcc.Dropdown(id = 'id-dropdown',\n",
    "                        #            value = '1',\n",
    "                        #            options = [{'label': b, 'value': b} for b in df['battery_id'].unique()], className = 'm-1'),\n",
    "                        html.Label(['number batteries to plot']),\n",
    "                        dcc.Dropdown(id = 'n_batteries-dropdown', multi = False, value = 5, options = options_n_random_batteries),\n",
    "                        html.Label(['rolling aggregation']),\n",
    "                        dcc.Dropdown(id = 'rolling-dropdown',\n",
    "                                    value = '7D',\n",
    "                                    options = option_rolling)\n",
    "                    ], width = 12)\n",
    "                    ]), #close row 2\n",
    "     #------------------------------------------------------------------------------------------------------------------------\n",
    "                      #Row 3: time series data plots\n",
    "                    dbc.Row([\n",
    "                        #dcc.Dropdown(id = 'field_profile-dropdown', multi = False, value = 'net_power_battery', options = options_fields),\n",
    "                        #dcc.Dropdown(id = 'n_batteries_profile-dropdown', multi = False, value = 5, options = options_n_random_batteries),\n",
    "                        dcc.Graph(id = 'ts-graph', figure = {})      \n",
    "                    ]),\n",
    "    #-------------------------------------------------------------------------------------------------------------------------\n",
    "                    html.P(\"As general statistics of the data, the mean daily average and a monthly box plot of the chosen y-axis selection is displayed below.\", className = 'text-center m-4'),\n",
    "    #-------------------------------------------------------------------------------------------------------------------------\n",
    "                    dbc.Row([\n",
    "                        #========================================================================================\n",
    "                        #Column 1 (left)\n",
    "                        dbc.Col([\n",
    "                        dcc.Graph(id= 'profile-graph')],\n",
    "                        width = {'size':5, 'offset': 1}), #close column 1\n",
    "                        #===========================================================================================\n",
    "                        #Column 2 (right)\n",
    "                        dbc.Col([\n",
    "                            dcc.Graph(id = 'stat-boxplot')\n",
    "                        ], \n",
    "                        width = {'size':5, 'offset': 1})\n",
    "                        ]), #close Row 3\n",
    "    #------------------------------------------------------------------------------------------------------------------------\n",
    "                    #Row 4: sub section title and text\n",
    "                    dbc.Row([\n",
    "                        dbc.Col([\n",
    "                      html.H2('Clustering analysis results', className = 'text-center mb-4 bg-success text-white'),\n",
    "                      html.P(\"In this section, the raw data from the battery cycling are grouped with the chosen (relevant) number of clusters. Specifically, the results from the average weekly profile are presented here below for different variables.\", className = 'text-center mb-4'),\n",
    "                      ], width = 12)\n",
    "                    ]), #close row 4\n",
    "    #-------------------------------------------------------------------------------------------------------------------------\n",
    "                    #Row 5: clustering plots\n",
    "                    dbc.Row([\n",
    "                        #=======================================================================================\n",
    "                        #Column 1\n",
    "                        dbc.Col([\n",
    "                      html.Label(['y-axis selection']),\n",
    "                      dcc.Dropdown(id = 'my-checklist',\n",
    "                      value = 'battery_voltage_mean',\n",
    "                       options = [{'label': z, 'value': z} for z in checklist_values], className = 'm-1'),\n",
    "                            html.Div([\n",
    "                            dcc.Graph(id='avg-week-clusters')\n",
    "                            ], style = {'padding-left': '150px'}),\n",
    "                        ], width = 12), # close column #1\n",
    "                    ]), #close Row 5\n",
    "    #------------------------------------------------------------------------------------------------------------------------\n",
    "                #Row 6: sub title and text\n",
    "                      dbc.Row([\n",
    "                        dbc.Col([\n",
    "                      html.H2('Extracting user profiles', className = 'text-center mb-4 bg-info text-white'),\n",
    "                      html.P(\"From each of the clusters obtained, a time series of (average) voltage, current, state-of-charge and temperature is derived. These data can be used as input to a battery tester in the lab, to be able to reproduce actual user profiles from the field. These data are available for downloading:\", className = 'text-center mb-4'),\n",
    "                      ], width = 12)\n",
    "                    ]), #close row 6\n",
    "    #------------------------------------------------------------------------------------------------------------------------\n",
    "                #Row 7: User profile plots\n",
    "                    dbc.Row([\n",
    "                        #=======================================================================================\n",
    "                        #Column 1\n",
    "                        dbc.Col([\n",
    "                            html.Div([\n",
    "                            dbc.Button(id='btn',\n",
    "                            children=[html.I(className=\"fa fa-download mr-1\"), \"Download\"],\n",
    "                            n_clicks = 0,\n",
    "                            color=\"info\",\n",
    "                            className=\"mt-1\"\n",
    "                            )\n",
    "                            ], style = {'padding-left': '550px'}), \n",
    "                        \n",
    "                        dcc.Download(id=\"download-component\"), #this one is an invisible component, you cannot see it on the page\n",
    "                        ], width = 12), #close column 1\n",
    "                    ]), #close Row 7\n",
    "]) #close the dbc container\n"
   ]
  },
  {
   "cell_type": "markdown",
   "id": "d3690040",
   "metadata": {},
   "source": [
    "## Callbacks"
   ]
  },
  {
   "cell_type": "code",
   "execution_count": 12,
   "id": "5fdb012e",
   "metadata": {},
   "outputs": [],
   "source": [
    "@app.callback(\n",
    "    Output(component_id = 'profile-graph', component_property = 'figure'),\n",
    "    [\n",
    "    Input(component_id = 'var-dropdown', component_property = 'value'),\n",
    "    Input(component_id = 'n_batteries-dropdown', component_property = 'value'),\n",
    "    ]\n",
    ")\n",
    "def callback_plot_median_profile(field, n_batteries):\n",
    "    return median_profiles.plot(field, n_batteries, df)"
   ]
  },
  {
   "cell_type": "code",
   "execution_count": 13,
   "id": "e9f0ff2f",
   "metadata": {},
   "outputs": [],
   "source": [
    "@app.callback(\n",
    "    Output(component_id = 'ts-graph', component_property = 'figure'),\n",
    "    [\n",
    "    Input(component_id = 'n_batteries-dropdown', component_property = 'value'),\n",
    "    Input(component_id = 'var-dropdown', component_property = 'value'),\n",
    "    Input(component_id = 'rolling-dropdown', component_property = 'value'),\n",
    "    ]\n",
    ")\n",
    "def callback_plot_time_series(n_batteries, selected_var, rolling):\n",
    "    return plot_times_series.plot(n_batteries, selected_var, rolling, df)"
   ]
  },
  {
   "cell_type": "code",
   "execution_count": 14,
   "id": "aa919be9",
   "metadata": {},
   "outputs": [],
   "source": [
    "#callback + function for box plot (plot #2)\n",
    "@app.callback(\n",
    "    Output(component_id = 'stat-boxplot', component_property = 'figure'),\n",
    "    [\n",
    "    Input(component_id = 'var-dropdown', component_property = 'value'),\n",
    "    #Input(component_id = 'resampling-dropdown', component_property = 'value'), useless => the daily plot is shitty\n",
    "    ]\n",
    ")\n",
    "def callback_plot_boxplot(selected_var, resampling = \"1MS\"):\n",
    "    return boxplot.plot(selected_var, resampling, df)\n"
   ]
  },
  {
   "cell_type": "code",
   "execution_count": 15,
   "id": "dbe84e0f-1338-4714-9ff5-b579e1ec8b31",
   "metadata": {},
   "outputs": [],
   "source": [
    "#callback + function for time series clusters (plot #3)\n",
    "@app.callback(\n",
    "    Output(component_id = 'avg-week-clusters', component_property = 'figure'),\n",
    "    [\n",
    "    Input(component_id = 'my-checklist', component_property = 'value'),\n",
    "    ]\n",
    ")\n",
    "def callback_time_series_clusters(selected_var):\n",
    "    return timeseriesclustering.plot(selected_var, multi_time_cluster_wk)"
   ]
  },
  {
   "cell_type": "code",
   "execution_count": 16,
   "id": "6a991100",
   "metadata": {},
   "outputs": [],
   "source": [
    "#Callback for the download button\n",
    "@app.callback(\n",
    "    Output(\"download-component\", \"data\"),\n",
    "    Input(\"btn\", \"n_clicks\"), #The callback function is here triggered by the number of clicks of the button\n",
    "    prevent_initial_call=True,\n",
    ")\n",
    "\n",
    "def func(n_clicks):\n",
    "    return dcc.send_data_frame(multi_time_cluster_wk.to_csv, \"multivariate_time_series_clustering.csv\") #This returns a csv file"
   ]
  },
  {
   "cell_type": "code",
   "execution_count": 17,
   "id": "f8f2bd7a",
   "metadata": {},
   "outputs": [
    {
     "name": "stdout",
     "output_type": "stream",
     "text": [
      "Dash app running on http://127.0.0.1:2000/\n"
     ]
    }
   ],
   "source": [
    "if __name__ == '__main__':\n",
    "    app.run_server(debug = True, port = 2000)"
   ]
  }
 ],
 "metadata": {
  "kernelspec": {
   "display_name": "Python 3",
   "language": "python",
   "name": "python3"
  },
  "language_info": {
   "codemirror_mode": {
    "name": "ipython",
    "version": 3
   },
   "file_extension": ".py",
   "mimetype": "text/x-python",
   "name": "python",
   "nbconvert_exporter": "python",
   "pygments_lexer": "ipython3",
   "version": "3.8.8"
  }
 },
 "nbformat": 4,
 "nbformat_minor": 5
}
